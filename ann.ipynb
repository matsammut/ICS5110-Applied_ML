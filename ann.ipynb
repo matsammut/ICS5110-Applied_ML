{
 "cells": [
  {
   "cell_type": "code",
   "execution_count": 2,
   "metadata": {},
   "outputs": [
    {
     "name": "stderr",
     "output_type": "stream",
     "text": [
      "C:\\Users\\gianm\\AppData\\Local\\Packages\\PythonSoftwareFoundation.Python.3.7_qbz5n2kfra8p0\\LocalCache\\local-packages\\Python37\\site-packages\\tqdm\\auto.py:21: TqdmWarning: IProgress not found. Please update jupyter and ipywidgets. See https://ipywidgets.readthedocs.io/en/stable/user_install.html\n",
      "  from .autonotebook import tqdm as notebook_tqdm\n"
     ]
    }
   ],
   "source": [
    "import pandas as pd\n",
    "import numpy as np\n",
    "from sklearn.model_selection import StratifiedKFold\n",
    "from sklearn.preprocessing import StandardScaler, LabelEncoder\n",
    "from sklearn.metrics import accuracy_score\n",
    "import tensorflow as tf\n",
    "from tensorflow.keras.models import Sequential\n",
    "from tensorflow.keras.layers import Dense, Dropout\n",
    "import optuna\n",
    "import joblib\n",
    "import matplotlib.pyplot as plt\n",
    "import seaborn as sns"
   ]
  },
  {
   "cell_type": "code",
   "execution_count": 3,
   "metadata": {},
   "outputs": [],
   "source": [
    "def load_data():    \n",
    "    data = pd.read_csv('dataset.csv')\n",
    "    X = data.drop('income', axis=1)\n",
    "    y = data['income']\n",
    "    return X, y"
   ]
  },
  {
   "cell_type": "code",
   "execution_count": 4,
   "metadata": {},
   "outputs": [],
   "source": [
    "def build_model(trial, input_dim):\n",
    "    model = Sequential()\n",
    "    n_layers = trial.suggest_int(\"n_layers\", 1, 5)\n",
    "\n",
    "    # First Layer\n",
    "    units = trial.suggest_int(f\"n_units_i\", 16, 256, step=16)\n",
    "    model.add(Dense(units, activation=\"relu\", input_dim=input_dim))  # input_dim specified\n",
    "    dropout_rate = trial.suggest_float(f\"dropout_rate\", 0.0, 0.5)\n",
    "    model.add(Dropout(dropout_rate))\n",
    "\n",
    "    # Hidden Layers\n",
    "    units_h = trial.suggest_int(f\"n_units_h\", 16, 256, step=16) \n",
    "    for i in range(n_layers):\n",
    "        model.add(Dense(units_h, activation=\"relu\"))\n",
    "        model.add(Dropout(dropout_rate))\n",
    "\n",
    "    # Output layer\n",
    "    model.add(Dense(1, activation=\"sigmoid\"))\n",
    "    model.compile(optimizer=tf.keras.optimizers.Adam(learning_rate=trial.suggest_float(\"lr\", 1e-4, 1e-2, log=True)),\n",
    "                  loss=\"binary_crossentropy\",\n",
    "                  metrics=[\"accuracy\"])\n",
    "    return model\n"
   ]
  },
  {
   "cell_type": "code",
   "execution_count": 5,
   "metadata": {},
   "outputs": [],
   "source": [
    "def objective(trial):\n",
    "    X, y = load_data()\n",
    "    scaler = StandardScaler()\n",
    "    X = scaler.fit_transform(X)\n",
    "    \n",
    "    skf = StratifiedKFold(n_splits=5, shuffle=True, random_state=42)\n",
    "    accuracies = []\n",
    "\n",
    "    for train_idx, test_idx in skf.split(X, y):\n",
    "        X_train, X_test = X[train_idx], X[test_idx]\n",
    "        y_train, y_test = y[train_idx], y[test_idx]\n",
    "        \n",
    "        model = build_model(trial, input_dim=X_train.shape[1])\n",
    "        model.fit(X_train, y_train, epochs=10, batch_size=128, verbose=0)\n",
    "        y_pred = (model.predict(X_test) > 0.5).astype(int)\n",
    "        accuracies.append(accuracy_score(y_test, y_pred))\n",
    "    \n",
    "    return np.mean(accuracies)"
   ]
  },
  {
   "cell_type": "code",
   "execution_count": 5,
   "metadata": {},
   "outputs": [
    {
     "name": "stderr",
     "output_type": "stream",
     "text": [
      "[I 2025-01-12 11:06:49,594] A new study created in memory with name: no-name-0a36ba6b-2878-40d1-a704-f3108c7b89f5\n"
     ]
    },
    {
     "name": "stdout",
     "output_type": "stream",
     "text": [
      "306/306 [==============================] - 0s 544us/step\n",
      "306/306 [==============================] - 0s 544us/step\n",
      "306/306 [==============================] - 0s 541us/step\n",
      "306/306 [==============================] - 0s 556us/step\n",
      "306/306 [==============================] - 0s 549us/step\n"
     ]
    },
    {
     "name": "stderr",
     "output_type": "stream",
     "text": [
      "[I 2025-01-12 11:07:23,979] Trial 0 finished with value: 0.8347324024440412 and parameters: {'n_layers': 3, 'n_units_i': 208, 'dropout_rate': 0.3475328770872465, 'n_units_h': 64, 'lr': 0.0001824341593239537}. Best is trial 0 with value: 0.8347324024440412.\n"
     ]
    },
    {
     "name": "stdout",
     "output_type": "stream",
     "text": [
      "306/306 [==============================] - 0s 533us/step\n",
      "306/306 [==============================] - 0s 531us/step\n",
      "306/306 [==============================] - 0s 510us/step\n",
      "306/306 [==============================] - 0s 536us/step\n",
      "306/306 [==============================] - 0s 512us/step\n"
     ]
    },
    {
     "name": "stderr",
     "output_type": "stream",
     "text": [
      "[I 2025-01-12 11:07:49,719] Trial 1 finished with value: 0.8348552001689479 and parameters: {'n_layers': 1, 'n_units_i': 112, 'dropout_rate': 0.10726012989499595, 'n_units_h': 80, 'lr': 0.0004255020679933103}. Best is trial 1 with value: 0.8348552001689479.\n"
     ]
    },
    {
     "name": "stdout",
     "output_type": "stream",
     "text": [
      "306/306 [==============================] - 0s 589us/step\n",
      "306/306 [==============================] - 0s 584us/step\n",
      "306/306 [==============================] - 0s 572us/step\n",
      "306/306 [==============================] - 0s 595us/step\n",
      "306/306 [==============================] - 0s 590us/step\n"
     ]
    },
    {
     "name": "stderr",
     "output_type": "stream",
     "text": [
      "[I 2025-01-12 11:08:49,222] Trial 2 finished with value: 0.8344253064797644 and parameters: {'n_layers': 5, 'n_units_i': 32, 'dropout_rate': 0.24676261930136822, 'n_units_h': 112, 'lr': 0.0028340948635196543}. Best is trial 1 with value: 0.8348552001689479.\n"
     ]
    },
    {
     "name": "stdout",
     "output_type": "stream",
     "text": [
      "306/306 [==============================] - 0s 594us/step\n",
      "306/306 [==============================] - 0s 559us/step\n",
      "306/306 [==============================] - 0s 579us/step\n",
      "306/306 [==============================] - 0s 594us/step\n",
      "306/306 [==============================] - 0s 561us/step\n"
     ]
    },
    {
     "name": "stderr",
     "output_type": "stream",
     "text": [
      "[I 2025-01-12 11:09:28,264] Trial 3 finished with value: 0.835407994283007 and parameters: {'n_layers': 5, 'n_units_i': 112, 'dropout_rate': 0.1338023698867452, 'n_units_h': 48, 'lr': 0.0003691616696359053}. Best is trial 3 with value: 0.835407994283007.\n"
     ]
    },
    {
     "name": "stdout",
     "output_type": "stream",
     "text": [
      "306/306 [==============================] - 0s 792us/step\n",
      "306/306 [==============================] - 0s 785us/step\n",
      "306/306 [==============================] - 0s 815us/step\n",
      "306/306 [==============================] - 0s 836us/step\n",
      "306/306 [==============================] - 0s 818us/step\n"
     ]
    },
    {
     "name": "stderr",
     "output_type": "stream",
     "text": [
      "[I 2025-01-12 11:10:30,441] Trial 4 finished with value: 0.8348142270729024 and parameters: {'n_layers': 4, 'n_units_i': 112, 'dropout_rate': 0.45861658573074815, 'n_units_h': 208, 'lr': 0.0008623035436797251}. Best is trial 3 with value: 0.835407994283007.\n"
     ]
    },
    {
     "name": "stdout",
     "output_type": "stream",
     "text": [
      "306/306 [==============================] - 0s 538us/step\n",
      "306/306 [==============================] - 0s 548us/step\n",
      "306/306 [==============================] - 0s 535us/step\n",
      "306/306 [==============================] - 0s 518us/step\n",
      "306/306 [==============================] - 0s 538us/step\n"
     ]
    },
    {
     "name": "stderr",
     "output_type": "stream",
     "text": [
      "[I 2025-01-12 11:10:48,449] Trial 5 finished with value: 0.8340157809192512 and parameters: {'n_layers': 1, 'n_units_i': 128, 'dropout_rate': 0.15874265494998147, 'n_units_h': 16, 'lr': 0.009744754921011194}. Best is trial 3 with value: 0.835407994283007.\n"
     ]
    },
    {
     "name": "stdout",
     "output_type": "stream",
     "text": [
      "306/306 [==============================] - 0s 715us/step\n",
      "306/306 [==============================] - 0s 815us/step\n",
      "306/306 [==============================] - 0s 826us/step\n",
      "306/306 [==============================] - 0s 759us/step\n",
      "306/306 [==============================] - 0s 707us/step\n"
     ]
    },
    {
     "name": "stderr",
     "output_type": "stream",
     "text": [
      "[I 2025-01-12 11:11:48,020] Trial 6 finished with value: 0.8293681881101268 and parameters: {'n_layers': 3, 'n_units_i': 208, 'dropout_rate': 0.4891067297002029, 'n_units_h': 256, 'lr': 0.007279548337825555}. Best is trial 3 with value: 0.835407994283007.\n"
     ]
    },
    {
     "name": "stdout",
     "output_type": "stream",
     "text": [
      "306/306 [==============================] - 0s 531us/step\n",
      "306/306 [==============================] - 0s 546us/step\n",
      "306/306 [==============================] - 0s 549us/step\n",
      "306/306 [==============================] - 0s 531us/step\n",
      "306/306 [==============================] - 0s 549us/step\n"
     ]
    },
    {
     "name": "stderr",
     "output_type": "stream",
     "text": [
      "[I 2025-01-12 11:12:12,128] Trial 7 finished with value: 0.8354694738382935 and parameters: {'n_layers': 1, 'n_units_i': 64, 'dropout_rate': 0.1896961902748603, 'n_units_h': 96, 'lr': 0.002924592545786669}. Best is trial 7 with value: 0.8354694738382935.\n"
     ]
    },
    {
     "name": "stdout",
     "output_type": "stream",
     "text": [
      "306/306 [==============================] - 0s 631us/step\n",
      "306/306 [==============================] - 0s 610us/step\n",
      "306/306 [==============================] - 0s 612us/step\n",
      "306/306 [==============================] - 0s 649us/step\n",
      "306/306 [==============================] - 0s 623us/step\n"
     ]
    },
    {
     "name": "stderr",
     "output_type": "stream",
     "text": [
      "[I 2025-01-12 11:13:03,413] Trial 8 finished with value: 0.8346504604437863 and parameters: {'n_layers': 4, 'n_units_i': 224, 'dropout_rate': 0.3299773325125916, 'n_units_h': 96, 'lr': 0.000519853474887041}. Best is trial 7 with value: 0.8354694738382935.\n"
     ]
    },
    {
     "name": "stdout",
     "output_type": "stream",
     "text": [
      "306/306 [==============================] - 0s 582us/step\n",
      "306/306 [==============================] - 0s 607us/step\n",
      "306/306 [==============================] - 0s 679us/step\n",
      "306/306 [==============================] - 0s 603us/step\n",
      "306/306 [==============================] - 0s 595us/step\n"
     ]
    },
    {
     "name": "stderr",
     "output_type": "stream",
     "text": [
      "[I 2025-01-12 11:13:46,434] Trial 9 finished with value: 0.8347323919644525 and parameters: {'n_layers': 4, 'n_units_i': 160, 'dropout_rate': 0.34652349894269024, 'n_units_h': 128, 'lr': 0.000455453138039812}. Best is trial 7 with value: 0.8354694738382935.\n"
     ]
    },
    {
     "name": "stdout",
     "output_type": "stream",
     "text": [
      "306/306 [==============================] - 0s 577us/step\n",
      "306/306 [==============================] - 0s 543us/step\n",
      "306/306 [==============================] - 0s 580us/step\n",
      "306/306 [==============================] - 0s 600us/step\n",
      "306/306 [==============================] - 0s 623us/step\n"
     ]
    },
    {
     "name": "stderr",
     "output_type": "stream",
     "text": [
      "[I 2025-01-12 11:14:15,861] Trial 10 finished with value: 0.8348961502098977 and parameters: {'n_layers': 2, 'n_units_i': 16, 'dropout_rate': 0.020339910520368376, 'n_units_h': 176, 'lr': 0.0021090369379438948}. Best is trial 7 with value: 0.8354694738382935.\n"
     ]
    },
    {
     "name": "stdout",
     "output_type": "stream",
     "text": [
      "306/306 [==============================] - 0s 554us/step\n",
      "306/306 [==============================] - 0s 544us/step\n",
      "306/306 [==============================] - 0s 566us/step\n",
      "306/306 [==============================] - 0s 584us/step\n",
      "306/306 [==============================] - 0s 571us/step\n"
     ]
    },
    {
     "name": "stderr",
     "output_type": "stream",
     "text": [
      "[I 2025-01-12 11:14:42,483] Trial 11 finished with value: 0.8317840581813352 and parameters: {'n_layers': 5, 'n_units_i': 64, 'dropout_rate': 0.16779065994686176, 'n_units_h': 16, 'lr': 0.003285623420812665}. Best is trial 7 with value: 0.8354694738382935.\n"
     ]
    },
    {
     "name": "stdout",
     "output_type": "stream",
     "text": [
      "306/306 [==============================] - 0s 557us/step\n",
      "306/306 [==============================] - 0s 582us/step\n",
      "306/306 [==============================] - 0s 551us/step\n",
      "306/306 [==============================] - 0s 531us/step\n",
      "306/306 [==============================] - 0s 557us/step\n"
     ]
    },
    {
     "name": "stderr",
     "output_type": "stream",
     "text": [
      "[I 2025-01-12 11:15:07,819] Trial 12 finished with value: 0.832869230074676 and parameters: {'n_layers': 2, 'n_units_i': 64, 'dropout_rate': 0.04914199195596283, 'n_units_h': 48, 'lr': 0.000112158256535689}. Best is trial 7 with value: 0.8354694738382935.\n"
     ]
    },
    {
     "name": "stdout",
     "output_type": "stream",
     "text": [
      "306/306 [==============================] - 0s 569us/step\n",
      "306/306 [==============================] - 0s 577us/step\n",
      "306/306 [==============================] - 0s 549us/step\n",
      "306/306 [==============================] - 0s 549us/step\n",
      "306/306 [==============================] - 0s 557us/step\n"
     ]
    },
    {
     "name": "stderr",
     "output_type": "stream",
     "text": [
      "[I 2025-01-12 11:15:40,757] Trial 13 finished with value: 0.8361041282118158 and parameters: {'n_layers': 2, 'n_units_i': 80, 'dropout_rate': 0.2215863967530906, 'n_units_h': 160, 'lr': 0.0013720677874729718}. Best is trial 13 with value: 0.8361041282118158.\n"
     ]
    },
    {
     "name": "stdout",
     "output_type": "stream",
     "text": [
      "306/306 [==============================] - 0s 549us/step\n",
      "306/306 [==============================] - 0s 561us/step\n",
      "306/306 [==============================] - 0s 615us/step\n",
      "306/306 [==============================] - 0s 590us/step\n",
      "306/306 [==============================] - 0s 589us/step\n"
     ]
    },
    {
     "name": "stderr",
     "output_type": "stream",
     "text": [
      "[I 2025-01-12 11:16:13,012] Trial 14 finished with value: 0.8362269594714062 and parameters: {'n_layers': 2, 'n_units_i': 64, 'dropout_rate': 0.2435176042315698, 'n_units_h': 160, 'lr': 0.0016103564312612431}. Best is trial 14 with value: 0.8362269594714062.\n"
     ]
    },
    {
     "name": "stdout",
     "output_type": "stream",
     "text": [
      "306/306 [==============================] - 0s 579us/step\n",
      "306/306 [==============================] - 0s 607us/step\n",
      "306/306 [==============================] - 0s 594us/step\n",
      "306/306 [==============================] - 0s 566us/step\n",
      "306/306 [==============================] - 0s 559us/step\n"
     ]
    },
    {
     "name": "stderr",
     "output_type": "stream",
     "text": [
      "[I 2025-01-12 11:16:49,040] Trial 15 finished with value: 0.8352237086191432 and parameters: {'n_layers': 2, 'n_units_i': 160, 'dropout_rate': 0.2547555807826318, 'n_units_h': 160, 'lr': 0.0013527414167508142}. Best is trial 14 with value: 0.8362269594714062.\n"
     ]
    },
    {
     "name": "stdout",
     "output_type": "stream",
     "text": [
      "306/306 [==============================] - 0s 597us/step\n",
      "306/306 [==============================] - 0s 643us/step\n",
      "306/306 [==============================] - 0s 615us/step\n",
      "306/306 [==============================] - 0s 649us/step\n",
      "306/306 [==============================] - 0s 794us/step\n"
     ]
    },
    {
     "name": "stderr",
     "output_type": "stream",
     "text": [
      "[I 2025-01-12 11:17:25,790] Trial 16 finished with value: 0.8357765656107349 and parameters: {'n_layers': 2, 'n_units_i': 80, 'dropout_rate': 0.24884843014427643, 'n_units_h': 208, 'lr': 0.0011068684857845285}. Best is trial 14 with value: 0.8362269594714062.\n"
     ]
    },
    {
     "name": "stdout",
     "output_type": "stream",
     "text": [
      "306/306 [==============================] - 0s 616us/step\n",
      "306/306 [==============================] - 0s 590us/step\n",
      "306/306 [==============================] - 0s 610us/step\n",
      "306/306 [==============================] - 0s 612us/step\n",
      "306/306 [==============================] - 0s 631us/step\n"
     ]
    },
    {
     "name": "stderr",
     "output_type": "stream",
     "text": [
      "[I 2025-01-12 11:18:12,436] Trial 17 finished with value: 0.8311288491424638 and parameters: {'n_layers': 3, 'n_units_i': 256, 'dropout_rate': 0.41240971769302726, 'n_units_h': 160, 'lr': 0.005021943021880043}. Best is trial 14 with value: 0.8362269594714062.\n"
     ]
    },
    {
     "name": "stdout",
     "output_type": "stream",
     "text": [
      "306/306 [==============================] - 0s 602us/step\n",
      "306/306 [==============================] - 0s 648us/step\n",
      "306/306 [==============================] - 0s 600us/step\n"
     ]
    }
   ],
   "source": [
    "study = optuna.create_study(direction=\"maximize\")\n",
    "study.optimize(objective, n_trials=100)\n",
    "\n",
    "print(\"Best hyperparameters:\", study.best_params)"
   ]
  },
  {
   "cell_type": "code",
   "execution_count": 6,
   "metadata": {},
   "outputs": [
    {
     "data": {
      "application/vnd.plotly.v1+json": {
       "config": {
        "plotlyServerURL": "https://plot.ly"
       },
       "data": [
        {
         "mode": "markers",
         "name": "Objective Value",
         "type": "scatter",
         "x": [
          0,
          1,
          2,
          3,
          4,
          5,
          6,
          7,
          8,
          9,
          10,
          11,
          12,
          13,
          14,
          15,
          16,
          17,
          18,
          19,
          20,
          21,
          22,
          23,
          24,
          25,
          26,
          27,
          28,
          29,
          30,
          31,
          32,
          33,
          34,
          35,
          36,
          37,
          38,
          39,
          40,
          41,
          42,
          43,
          44,
          45,
          46,
          47,
          48,
          49,
          50,
          51,
          52,
          53,
          54,
          55,
          56,
          57,
          58,
          59,
          60,
          61,
          62,
          63,
          64,
          65,
          66,
          67,
          68,
          69,
          70,
          71,
          72,
          73,
          74,
          75,
          76,
          77,
          78,
          79,
          80,
          81,
          82,
          83,
          84,
          85,
          86,
          87,
          88,
          89,
          90,
          91,
          92,
          93,
          94,
          95,
          96,
          97,
          98,
          99
         ],
         "y": [
          0.8349166461895503,
          0.835182775345535,
          0.8351009025105658,
          0.834630029437584,
          0.8352033069557893,
          0.8343638981856814,
          0.8360017279584276,
          0.8356946676247526,
          0.8356741988920309,
          0.8353670463379748,
          0.8365545241684048,
          0.835448986242312,
          0.8349985735183811,
          0.8347937772034404,
          0.8358994094458317,
          0.8349780523877156,
          0.8352442150783844,
          0.83489614811398,
          0.8344047664858392,
          0.8348756898608471,
          0.8355923155774727,
          0.8355718363651622,
          0.8358584279661155,
          0.8329305692034733,
          0.8343842830816932,
          0.8356945816921251,
          0.8358993717193123,
          0.8345481209720129,
          0.834752789435971,
          0.8352237547293335,
          0.8353466069481016,
          0.8361041135403916,
          0.835592296714213,
          0.8359812655134592,
          0.835100875263635,
          0.8357970301516213,
          0.8357765425556396,
          0.835326094201107,
          0.8343228726916925,
          0.8364112136965038,
          0.8355513278100032,
          0.8354080466809508,
          0.8355308360221863,
          0.8359608072603262,
          0.8359608051644084,
          0.8332992117924046,
          0.834711879217458,
          0.8355513487691807,
          0.8348347251484729,
          0.8356946718165881,
          0.8348142773749284,
          0.835612763351017,
          0.8343024353977369,
          0.8350804442574328,
          0.8342614727812803,
          0.8349575983264181,
          0.8338314680084563,
          0.835489879693483,
          0.8345685519782153,
          0.8241674909911166,
          0.8356332467551629,
          0.8362678843613432,
          0.8356537657899107,
          0.8364931137784041,
          0.8357765425556398,
          0.8367798038874914,
          0.836022251185011,
          0.8365545828541018,
          0.8349780230448671,
          0.8348143067177769,
          0.8348142941422705,
          0.83557183846108,
          0.8353466132358548,
          0.8353670672971522,
          0.8359608785215296,
          0.8353875423176274,
          0.8354899153240847,
          0.8357561367004503,
          0.8354694570709515,
          0.8357970301516211,
          0.8359608114521617,
          0.8360836720546004,
          0.8367593120996745,
          0.8363088930879903,
          0.8366364263462227,
          0.8342000288565956,
          0.8358174381027282,
          0.8362884578899525,
          0.8361246032322909,
          0.8357969442189935,
          0.8354898985567427,
          0.8362883992042555,
          0.8363907575392886,
          0.8359812445542817,
          0.836534055435683,
          0.8360836489995054,
          0.8372506832482264,
          0.8357970008087726,
          0.8361655469854876,
          0.8364316761414724
         ]
        },
        {
         "mode": "lines",
         "name": "Best Value",
         "type": "scatter",
         "x": [
          0,
          1,
          2,
          3,
          4,
          5,
          6,
          7,
          8,
          9,
          10,
          11,
          12,
          13,
          14,
          15,
          16,
          17,
          18,
          19,
          20,
          21,
          22,
          23,
          24,
          25,
          26,
          27,
          28,
          29,
          30,
          31,
          32,
          33,
          34,
          35,
          36,
          37,
          38,
          39,
          40,
          41,
          42,
          43,
          44,
          45,
          46,
          47,
          48,
          49,
          50,
          51,
          52,
          53,
          54,
          55,
          56,
          57,
          58,
          59,
          60,
          61,
          62,
          63,
          64,
          65,
          66,
          67,
          68,
          69,
          70,
          71,
          72,
          73,
          74,
          75,
          76,
          77,
          78,
          79,
          80,
          81,
          82,
          83,
          84,
          85,
          86,
          87,
          88,
          89,
          90,
          91,
          92,
          93,
          94,
          95,
          96,
          97,
          98,
          99
         ],
         "y": [
          0.8349166461895503,
          0.835182775345535,
          0.835182775345535,
          0.835182775345535,
          0.8352033069557893,
          0.8352033069557893,
          0.8360017279584276,
          0.8360017279584276,
          0.8360017279584276,
          0.8360017279584276,
          0.8365545241684048,
          0.8365545241684048,
          0.8365545241684048,
          0.8365545241684048,
          0.8365545241684048,
          0.8365545241684048,
          0.8365545241684048,
          0.8365545241684048,
          0.8365545241684048,
          0.8365545241684048,
          0.8365545241684048,
          0.8365545241684048,
          0.8365545241684048,
          0.8365545241684048,
          0.8365545241684048,
          0.8365545241684048,
          0.8365545241684048,
          0.8365545241684048,
          0.8365545241684048,
          0.8365545241684048,
          0.8365545241684048,
          0.8365545241684048,
          0.8365545241684048,
          0.8365545241684048,
          0.8365545241684048,
          0.8365545241684048,
          0.8365545241684048,
          0.8365545241684048,
          0.8365545241684048,
          0.8365545241684048,
          0.8365545241684048,
          0.8365545241684048,
          0.8365545241684048,
          0.8365545241684048,
          0.8365545241684048,
          0.8365545241684048,
          0.8365545241684048,
          0.8365545241684048,
          0.8365545241684048,
          0.8365545241684048,
          0.8365545241684048,
          0.8365545241684048,
          0.8365545241684048,
          0.8365545241684048,
          0.8365545241684048,
          0.8365545241684048,
          0.8365545241684048,
          0.8365545241684048,
          0.8365545241684048,
          0.8365545241684048,
          0.8365545241684048,
          0.8365545241684048,
          0.8365545241684048,
          0.8365545241684048,
          0.8365545241684048,
          0.8367798038874914,
          0.8367798038874914,
          0.8367798038874914,
          0.8367798038874914,
          0.8367798038874914,
          0.8367798038874914,
          0.8367798038874914,
          0.8367798038874914,
          0.8367798038874914,
          0.8367798038874914,
          0.8367798038874914,
          0.8367798038874914,
          0.8367798038874914,
          0.8367798038874914,
          0.8367798038874914,
          0.8367798038874914,
          0.8367798038874914,
          0.8367798038874914,
          0.8367798038874914,
          0.8367798038874914,
          0.8367798038874914,
          0.8367798038874914,
          0.8367798038874914,
          0.8367798038874914,
          0.8367798038874914,
          0.8367798038874914,
          0.8367798038874914,
          0.8367798038874914,
          0.8367798038874914,
          0.8367798038874914,
          0.8367798038874914,
          0.8372506832482264,
          0.8372506832482264,
          0.8372506832482264,
          0.8372506832482264
         ]
        },
        {
         "marker": {
          "color": "#cccccc"
         },
         "mode": "markers",
         "name": "Infeasible Trial",
         "showlegend": false,
         "type": "scatter",
         "x": [],
         "y": []
        }
       ],
       "layout": {
        "template": {
         "data": {
          "bar": [
           {
            "error_x": {
             "color": "#2a3f5f"
            },
            "error_y": {
             "color": "#2a3f5f"
            },
            "marker": {
             "line": {
              "color": "#E5ECF6",
              "width": 0.5
             },
             "pattern": {
              "fillmode": "overlay",
              "size": 10,
              "solidity": 0.2
             }
            },
            "type": "bar"
           }
          ],
          "barpolar": [
           {
            "marker": {
             "line": {
              "color": "#E5ECF6",
              "width": 0.5
             },
             "pattern": {
              "fillmode": "overlay",
              "size": 10,
              "solidity": 0.2
             }
            },
            "type": "barpolar"
           }
          ],
          "carpet": [
           {
            "aaxis": {
             "endlinecolor": "#2a3f5f",
             "gridcolor": "white",
             "linecolor": "white",
             "minorgridcolor": "white",
             "startlinecolor": "#2a3f5f"
            },
            "baxis": {
             "endlinecolor": "#2a3f5f",
             "gridcolor": "white",
             "linecolor": "white",
             "minorgridcolor": "white",
             "startlinecolor": "#2a3f5f"
            },
            "type": "carpet"
           }
          ],
          "choropleth": [
           {
            "colorbar": {
             "outlinewidth": 0,
             "ticks": ""
            },
            "type": "choropleth"
           }
          ],
          "contour": [
           {
            "colorbar": {
             "outlinewidth": 0,
             "ticks": ""
            },
            "colorscale": [
             [
              0,
              "#0d0887"
             ],
             [
              0.1111111111111111,
              "#46039f"
             ],
             [
              0.2222222222222222,
              "#7201a8"
             ],
             [
              0.3333333333333333,
              "#9c179e"
             ],
             [
              0.4444444444444444,
              "#bd3786"
             ],
             [
              0.5555555555555556,
              "#d8576b"
             ],
             [
              0.6666666666666666,
              "#ed7953"
             ],
             [
              0.7777777777777778,
              "#fb9f3a"
             ],
             [
              0.8888888888888888,
              "#fdca26"
             ],
             [
              1,
              "#f0f921"
             ]
            ],
            "type": "contour"
           }
          ],
          "contourcarpet": [
           {
            "colorbar": {
             "outlinewidth": 0,
             "ticks": ""
            },
            "type": "contourcarpet"
           }
          ],
          "heatmap": [
           {
            "colorbar": {
             "outlinewidth": 0,
             "ticks": ""
            },
            "colorscale": [
             [
              0,
              "#0d0887"
             ],
             [
              0.1111111111111111,
              "#46039f"
             ],
             [
              0.2222222222222222,
              "#7201a8"
             ],
             [
              0.3333333333333333,
              "#9c179e"
             ],
             [
              0.4444444444444444,
              "#bd3786"
             ],
             [
              0.5555555555555556,
              "#d8576b"
             ],
             [
              0.6666666666666666,
              "#ed7953"
             ],
             [
              0.7777777777777778,
              "#fb9f3a"
             ],
             [
              0.8888888888888888,
              "#fdca26"
             ],
             [
              1,
              "#f0f921"
             ]
            ],
            "type": "heatmap"
           }
          ],
          "heatmapgl": [
           {
            "colorbar": {
             "outlinewidth": 0,
             "ticks": ""
            },
            "colorscale": [
             [
              0,
              "#0d0887"
             ],
             [
              0.1111111111111111,
              "#46039f"
             ],
             [
              0.2222222222222222,
              "#7201a8"
             ],
             [
              0.3333333333333333,
              "#9c179e"
             ],
             [
              0.4444444444444444,
              "#bd3786"
             ],
             [
              0.5555555555555556,
              "#d8576b"
             ],
             [
              0.6666666666666666,
              "#ed7953"
             ],
             [
              0.7777777777777778,
              "#fb9f3a"
             ],
             [
              0.8888888888888888,
              "#fdca26"
             ],
             [
              1,
              "#f0f921"
             ]
            ],
            "type": "heatmapgl"
           }
          ],
          "histogram": [
           {
            "marker": {
             "pattern": {
              "fillmode": "overlay",
              "size": 10,
              "solidity": 0.2
             }
            },
            "type": "histogram"
           }
          ],
          "histogram2d": [
           {
            "colorbar": {
             "outlinewidth": 0,
             "ticks": ""
            },
            "colorscale": [
             [
              0,
              "#0d0887"
             ],
             [
              0.1111111111111111,
              "#46039f"
             ],
             [
              0.2222222222222222,
              "#7201a8"
             ],
             [
              0.3333333333333333,
              "#9c179e"
             ],
             [
              0.4444444444444444,
              "#bd3786"
             ],
             [
              0.5555555555555556,
              "#d8576b"
             ],
             [
              0.6666666666666666,
              "#ed7953"
             ],
             [
              0.7777777777777778,
              "#fb9f3a"
             ],
             [
              0.8888888888888888,
              "#fdca26"
             ],
             [
              1,
              "#f0f921"
             ]
            ],
            "type": "histogram2d"
           }
          ],
          "histogram2dcontour": [
           {
            "colorbar": {
             "outlinewidth": 0,
             "ticks": ""
            },
            "colorscale": [
             [
              0,
              "#0d0887"
             ],
             [
              0.1111111111111111,
              "#46039f"
             ],
             [
              0.2222222222222222,
              "#7201a8"
             ],
             [
              0.3333333333333333,
              "#9c179e"
             ],
             [
              0.4444444444444444,
              "#bd3786"
             ],
             [
              0.5555555555555556,
              "#d8576b"
             ],
             [
              0.6666666666666666,
              "#ed7953"
             ],
             [
              0.7777777777777778,
              "#fb9f3a"
             ],
             [
              0.8888888888888888,
              "#fdca26"
             ],
             [
              1,
              "#f0f921"
             ]
            ],
            "type": "histogram2dcontour"
           }
          ],
          "mesh3d": [
           {
            "colorbar": {
             "outlinewidth": 0,
             "ticks": ""
            },
            "type": "mesh3d"
           }
          ],
          "parcoords": [
           {
            "line": {
             "colorbar": {
              "outlinewidth": 0,
              "ticks": ""
             }
            },
            "type": "parcoords"
           }
          ],
          "pie": [
           {
            "automargin": true,
            "type": "pie"
           }
          ],
          "scatter": [
           {
            "fillpattern": {
             "fillmode": "overlay",
             "size": 10,
             "solidity": 0.2
            },
            "type": "scatter"
           }
          ],
          "scatter3d": [
           {
            "line": {
             "colorbar": {
              "outlinewidth": 0,
              "ticks": ""
             }
            },
            "marker": {
             "colorbar": {
              "outlinewidth": 0,
              "ticks": ""
             }
            },
            "type": "scatter3d"
           }
          ],
          "scattercarpet": [
           {
            "marker": {
             "colorbar": {
              "outlinewidth": 0,
              "ticks": ""
             }
            },
            "type": "scattercarpet"
           }
          ],
          "scattergeo": [
           {
            "marker": {
             "colorbar": {
              "outlinewidth": 0,
              "ticks": ""
             }
            },
            "type": "scattergeo"
           }
          ],
          "scattergl": [
           {
            "marker": {
             "colorbar": {
              "outlinewidth": 0,
              "ticks": ""
             }
            },
            "type": "scattergl"
           }
          ],
          "scattermapbox": [
           {
            "marker": {
             "colorbar": {
              "outlinewidth": 0,
              "ticks": ""
             }
            },
            "type": "scattermapbox"
           }
          ],
          "scatterpolar": [
           {
            "marker": {
             "colorbar": {
              "outlinewidth": 0,
              "ticks": ""
             }
            },
            "type": "scatterpolar"
           }
          ],
          "scatterpolargl": [
           {
            "marker": {
             "colorbar": {
              "outlinewidth": 0,
              "ticks": ""
             }
            },
            "type": "scatterpolargl"
           }
          ],
          "scatterternary": [
           {
            "marker": {
             "colorbar": {
              "outlinewidth": 0,
              "ticks": ""
             }
            },
            "type": "scatterternary"
           }
          ],
          "surface": [
           {
            "colorbar": {
             "outlinewidth": 0,
             "ticks": ""
            },
            "colorscale": [
             [
              0,
              "#0d0887"
             ],
             [
              0.1111111111111111,
              "#46039f"
             ],
             [
              0.2222222222222222,
              "#7201a8"
             ],
             [
              0.3333333333333333,
              "#9c179e"
             ],
             [
              0.4444444444444444,
              "#bd3786"
             ],
             [
              0.5555555555555556,
              "#d8576b"
             ],
             [
              0.6666666666666666,
              "#ed7953"
             ],
             [
              0.7777777777777778,
              "#fb9f3a"
             ],
             [
              0.8888888888888888,
              "#fdca26"
             ],
             [
              1,
              "#f0f921"
             ]
            ],
            "type": "surface"
           }
          ],
          "table": [
           {
            "cells": {
             "fill": {
              "color": "#EBF0F8"
             },
             "line": {
              "color": "white"
             }
            },
            "header": {
             "fill": {
              "color": "#C8D4E3"
             },
             "line": {
              "color": "white"
             }
            },
            "type": "table"
           }
          ]
         },
         "layout": {
          "annotationdefaults": {
           "arrowcolor": "#2a3f5f",
           "arrowhead": 0,
           "arrowwidth": 1
          },
          "autotypenumbers": "strict",
          "coloraxis": {
           "colorbar": {
            "outlinewidth": 0,
            "ticks": ""
           }
          },
          "colorscale": {
           "diverging": [
            [
             0,
             "#8e0152"
            ],
            [
             0.1,
             "#c51b7d"
            ],
            [
             0.2,
             "#de77ae"
            ],
            [
             0.3,
             "#f1b6da"
            ],
            [
             0.4,
             "#fde0ef"
            ],
            [
             0.5,
             "#f7f7f7"
            ],
            [
             0.6,
             "#e6f5d0"
            ],
            [
             0.7,
             "#b8e186"
            ],
            [
             0.8,
             "#7fbc41"
            ],
            [
             0.9,
             "#4d9221"
            ],
            [
             1,
             "#276419"
            ]
           ],
           "sequential": [
            [
             0,
             "#0d0887"
            ],
            [
             0.1111111111111111,
             "#46039f"
            ],
            [
             0.2222222222222222,
             "#7201a8"
            ],
            [
             0.3333333333333333,
             "#9c179e"
            ],
            [
             0.4444444444444444,
             "#bd3786"
            ],
            [
             0.5555555555555556,
             "#d8576b"
            ],
            [
             0.6666666666666666,
             "#ed7953"
            ],
            [
             0.7777777777777778,
             "#fb9f3a"
            ],
            [
             0.8888888888888888,
             "#fdca26"
            ],
            [
             1,
             "#f0f921"
            ]
           ],
           "sequentialminus": [
            [
             0,
             "#0d0887"
            ],
            [
             0.1111111111111111,
             "#46039f"
            ],
            [
             0.2222222222222222,
             "#7201a8"
            ],
            [
             0.3333333333333333,
             "#9c179e"
            ],
            [
             0.4444444444444444,
             "#bd3786"
            ],
            [
             0.5555555555555556,
             "#d8576b"
            ],
            [
             0.6666666666666666,
             "#ed7953"
            ],
            [
             0.7777777777777778,
             "#fb9f3a"
            ],
            [
             0.8888888888888888,
             "#fdca26"
            ],
            [
             1,
             "#f0f921"
            ]
           ]
          },
          "colorway": [
           "#636efa",
           "#EF553B",
           "#00cc96",
           "#ab63fa",
           "#FFA15A",
           "#19d3f3",
           "#FF6692",
           "#B6E880",
           "#FF97FF",
           "#FECB52"
          ],
          "font": {
           "color": "#2a3f5f"
          },
          "geo": {
           "bgcolor": "white",
           "lakecolor": "white",
           "landcolor": "#E5ECF6",
           "showlakes": true,
           "showland": true,
           "subunitcolor": "white"
          },
          "hoverlabel": {
           "align": "left"
          },
          "hovermode": "closest",
          "mapbox": {
           "style": "light"
          },
          "paper_bgcolor": "white",
          "plot_bgcolor": "#E5ECF6",
          "polar": {
           "angularaxis": {
            "gridcolor": "white",
            "linecolor": "white",
            "ticks": ""
           },
           "bgcolor": "#E5ECF6",
           "radialaxis": {
            "gridcolor": "white",
            "linecolor": "white",
            "ticks": ""
           }
          },
          "scene": {
           "xaxis": {
            "backgroundcolor": "#E5ECF6",
            "gridcolor": "white",
            "gridwidth": 2,
            "linecolor": "white",
            "showbackground": true,
            "ticks": "",
            "zerolinecolor": "white"
           },
           "yaxis": {
            "backgroundcolor": "#E5ECF6",
            "gridcolor": "white",
            "gridwidth": 2,
            "linecolor": "white",
            "showbackground": true,
            "ticks": "",
            "zerolinecolor": "white"
           },
           "zaxis": {
            "backgroundcolor": "#E5ECF6",
            "gridcolor": "white",
            "gridwidth": 2,
            "linecolor": "white",
            "showbackground": true,
            "ticks": "",
            "zerolinecolor": "white"
           }
          },
          "shapedefaults": {
           "line": {
            "color": "#2a3f5f"
           }
          },
          "ternary": {
           "aaxis": {
            "gridcolor": "white",
            "linecolor": "white",
            "ticks": ""
           },
           "baxis": {
            "gridcolor": "white",
            "linecolor": "white",
            "ticks": ""
           },
           "bgcolor": "#E5ECF6",
           "caxis": {
            "gridcolor": "white",
            "linecolor": "white",
            "ticks": ""
           }
          },
          "title": {
           "x": 0.05
          },
          "xaxis": {
           "automargin": true,
           "gridcolor": "white",
           "linecolor": "white",
           "ticks": "",
           "title": {
            "standoff": 15
           },
           "zerolinecolor": "white",
           "zerolinewidth": 2
          },
          "yaxis": {
           "automargin": true,
           "gridcolor": "white",
           "linecolor": "white",
           "ticks": "",
           "title": {
            "standoff": 15
           },
           "zerolinecolor": "white",
           "zerolinewidth": 2
          }
         }
        },
        "title": {
         "text": "Optimization History Plot"
        },
        "xaxis": {
         "title": {
          "text": "Trial"
         }
        },
        "yaxis": {
         "title": {
          "text": "Objective Value"
         }
        }
       }
      }
     },
     "metadata": {},
     "output_type": "display_data"
    }
   ],
   "source": [
    "import optuna.visualization as vis\n",
    "fig = vis.plot_optimization_history(study)\n",
    "fig.show()"
   ]
  },
  {
   "cell_type": "code",
   "execution_count": 7,
   "metadata": {},
   "outputs": [
    {
     "data": {
      "image/png": "[encoded data removed]",
      "text/plain": [
       "<Figure size 1000x600 with 1 Axes>"
      ]
     },
     "metadata": {},
     "output_type": "display_data"
    }
   ],
   "source": [
    "\n",
    "\n",
    "n_layers = [trial.params['n_layers'] for trial in study.trials]\n",
    "accuracies = [trial.value for trial in study.trials]\n",
    "\n",
    "\n",
    "data = pd.DataFrame({'n_layers': n_layers, 'accuracy': accuracies})\n",
    "plt.figure(figsize=(10, 6))\n",
    "sns.boxplot(x='n_layers', y='accuracy', data=data, palette='Set2')\n",
    "\n",
    "\n",
    "plt.title('Accuracy vs. Number of Hidden Layers')\n",
    "plt.xlabel('Number of Hidden Layers')\n",
    "plt.ylabel('Accuracy')\n",
    "plt.grid(axis='y') \n",
    "plt.show()"
   ]
  },
  {
   "cell_type": "code",
   "execution_count": null,
   "metadata": {},
   "outputs": [
    {
     "ename": "NameError",
     "evalue": "name 'study' is not defined",
     "output_type": "error",
     "traceback": [
      "\u001b[1;31m---------------------------------------------------------------------------\u001b[0m",
      "\u001b[1;31mNameError\u001b[0m                                 Traceback (most recent call last)",
      "\u001b[1;32m~\\AppData\\Local\\Temp\\ipykernel_2124\\3031563315.py\u001b[0m in \u001b[0;36m<module>\u001b[1;34m\u001b[0m\n\u001b[1;32m----> 1\u001b[1;33m \u001b[0mn_units_i\u001b[0m \u001b[1;33m=\u001b[0m \u001b[1;33m[\u001b[0m\u001b[0mtrial\u001b[0m\u001b[1;33m.\u001b[0m\u001b[0mparams\u001b[0m\u001b[1;33m[\u001b[0m\u001b[1;34m'n_units_i'\u001b[0m\u001b[1;33m]\u001b[0m \u001b[1;32mfor\u001b[0m \u001b[0mtrial\u001b[0m \u001b[1;32min\u001b[0m \u001b[0mstudy\u001b[0m\u001b[1;33m.\u001b[0m\u001b[0mtrials\u001b[0m\u001b[1;33m]\u001b[0m\u001b[1;33m\u001b[0m\u001b[1;33m\u001b[0m\u001b[0m\n\u001b[0m\u001b[0;32m      2\u001b[0m \u001b[0mn_units_h\u001b[0m \u001b[1;33m=\u001b[0m \u001b[1;33m[\u001b[0m\u001b[0mtrial\u001b[0m\u001b[1;33m.\u001b[0m\u001b[0mparams\u001b[0m\u001b[1;33m[\u001b[0m\u001b[1;34m'n_units_h'\u001b[0m\u001b[1;33m]\u001b[0m \u001b[1;32mfor\u001b[0m \u001b[0mtrial\u001b[0m \u001b[1;32min\u001b[0m \u001b[0mstudy\u001b[0m\u001b[1;33m.\u001b[0m\u001b[0mtrials\u001b[0m\u001b[1;33m]\u001b[0m\u001b[1;33m\u001b[0m\u001b[1;33m\u001b[0m\u001b[0m\n\u001b[0;32m      3\u001b[0m \u001b[0maccuracies\u001b[0m \u001b[1;33m=\u001b[0m \u001b[1;33m[\u001b[0m\u001b[0mtrial\u001b[0m\u001b[1;33m.\u001b[0m\u001b[0mvalue\u001b[0m \u001b[1;32mfor\u001b[0m \u001b[0mtrial\u001b[0m \u001b[1;32min\u001b[0m \u001b[0mstudy\u001b[0m\u001b[1;33m.\u001b[0m\u001b[0mtrials\u001b[0m \u001b[1;32mif\u001b[0m \u001b[0mtrial\u001b[0m\u001b[1;33m.\u001b[0m\u001b[0mvalue\u001b[0m \u001b[1;32mis\u001b[0m \u001b[1;32mnot\u001b[0m \u001b[1;32mNone\u001b[0m\u001b[1;33m]\u001b[0m\u001b[1;33m\u001b[0m\u001b[1;33m\u001b[0m\u001b[0m\n\u001b[0;32m      4\u001b[0m \u001b[1;33m\u001b[0m\u001b[0m\n\u001b[0;32m      5\u001b[0m \u001b[0mdata\u001b[0m \u001b[1;33m=\u001b[0m \u001b[0mpd\u001b[0m\u001b[1;33m.\u001b[0m\u001b[0mDataFrame\u001b[0m\u001b[1;33m(\u001b[0m\u001b[1;33m{\u001b[0m\u001b[1;34m'n_units_i'\u001b[0m\u001b[1;33m:\u001b[0m \u001b[0mn_units_i\u001b[0m\u001b[1;33m,\u001b[0m \u001b[1;34m'n_units_h'\u001b[0m\u001b[1;33m:\u001b[0m \u001b[0mn_units_h\u001b[0m\u001b[1;33m,\u001b[0m \u001b[1;34m'accuracy'\u001b[0m\u001b[1;33m:\u001b[0m \u001b[0maccuracies\u001b[0m\u001b[1;33m}\u001b[0m\u001b[1;33m)\u001b[0m\u001b[1;33m\u001b[0m\u001b[1;33m\u001b[0m\u001b[0m\n",
      "\u001b[1;31mNameError\u001b[0m: name 'study' is not defined"
     ]
    }
   ],
   "source": [
    "n_units_i = [trial.params['n_units_i'] for trial in study.trials]\n",
    "n_units_h = [trial.params['n_units_h'] for trial in study.trials]\n",
    "accuracies = [trial.value for trial in study.trials if trial.value is not None]\n",
    "\n",
    "data = pd.DataFrame({'n_units_i': n_units_i, 'n_units_h': n_units_h, 'accuracy': accuracies})\n",
    "\n",
    "pivot_data = data.pivot_table(index='n_units_h', columns='n_units_i', values='accuracy')\n",
    "\n",
    "plt.figure(figsize=(12, 8))\n",
    "for n_input_neurons in pivot_data.columns:\n",
    "    plt.plot(pivot_data.index, pivot_data[n_input_neurons], marker='o', label=f'n_units_i={n_input_neurons}')\n",
    "\n",
    "# Customize the plot\n",
    "plt.title('Accuracy vs. Number of Neurons (Input and Hidden Layers)', fontsize=14)\n",
    "plt.xlabel('Number of Neurons in Hidden Layer ', fontsize=12)\n",
    "plt.ylabel('Accuracy', fontsize=12)\n",
    "plt.legend(title='Input Layer Neurons', fontsize=10)\n",
    "plt.grid(alpha=0.3)\n",
    "plt.xticks(pivot_data.index) \n",
    "plt.show()"
   ]
  },
  {
   "cell_type": "code",
   "execution_count": 8,
   "metadata": {},
   "outputs": [],
   "source": [
    "def build_best_model(study, input_dim):\n",
    "    model = Sequential()\n",
    "    X, _ = load_data()\n",
    "    model = Sequential()\n",
    "    n_layers = study.best_params['n_layers']\n",
    "\n",
    "    # Input Layer\n",
    "    units = study.best_params['n_units_i']\n",
    "    model.add(Dense(units, activation=\"relu\", input_dim=input_dim))  # input_dim specified\n",
    "    dropout_rate = study.best_params['dropout_rate']\n",
    "    model.add(Dropout(dropout_rate))\n",
    "\n",
    "    # Hidden Layers\n",
    "    units_h = study.best_params['n_units_h']\n",
    "    for i in range(n_layers):\n",
    "        model.add(Dense(units_h, activation=\"relu\"))\n",
    "        model.add(Dropout(dropout_rate))\n",
    "\n",
    "    # Output layer\n",
    "    model.add(Dense(1, activation=\"sigmoid\"))\n",
    "    model.compile(optimizer=tf.keras.optimizers.Adam(learning_rate=study.best_params['lr']),\n",
    "                  loss=\"binary_crossentropy\",\n",
    "                  metrics=[\"accuracy\"])\n",
    "    return model"
   ]
  },
  {
   "cell_type": "code",
   "execution_count": 9,
   "metadata": {},
   "outputs": [
    {
     "name": "stdout",
     "output_type": "stream",
     "text": [
      "306/306 [==============================] - 0s 1ms/step\n",
      "306/306 [==============================] - 0s 935us/step\n",
      "306/306 [==============================] - 0s 918us/step\n",
      "306/306 [==============================] - 0s 946us/step\n",
      "306/306 [==============================] - 0s 1ms/step\n",
      "0.8322072072072072\n",
      "Keras weights file (<HDF5 file \"variables.h5\" (mode r+)>) saving:\n",
      "...layers\\dense\n",
      "......vars\n",
      ".........0\n",
      ".........1\n",
      "...layers\\dense_1\n",
      "......vars\n",
      ".........0\n",
      ".........1\n",
      "...layers\\dense_2\n",
      "......vars\n",
      ".........0\n",
      ".........1\n",
      "...layers\\dropout\n",
      "......vars\n",
      "...layers\\dropout_1\n",
      "......vars\n",
      "...metrics\\mean\n",
      "......vars\n",
      ".........0\n",
      ".........1\n",
      "...metrics\\mean_metric_wrapper\n",
      "......vars\n",
      ".........0\n",
      ".........1\n",
      "...optimizer\n",
      "......vars\n",
      ".........0\n",
      ".........1\n",
      ".........10\n",
      ".........11\n",
      ".........12\n",
      ".........2\n",
      ".........3\n",
      ".........4\n",
      ".........5\n",
      ".........6\n",
      ".........7\n",
      ".........8\n",
      ".........9\n",
      "...vars\n",
      "Keras model archive saving:\n",
      "File Name                                             Modified             Size\n",
      "config.json                                    2025-01-11 21:24:28         2594\n",
      "metadata.json                                  2025-01-11 21:24:28           64\n",
      "variables.h5                                   2025-01-11 21:24:29       650688\n"
     ]
    },
    {
     "data": {
      "text/plain": [
       "['ann_model.joblib']"
      ]
     },
     "execution_count": 9,
     "metadata": {},
     "output_type": "execute_result"
    }
   ],
   "source": [
    "X, y = load_data()\n",
    "scaler = StandardScaler()\n",
    "X = scaler.fit_transform(X)\n",
    "    \n",
    "skf = StratifiedKFold(n_splits=5, shuffle=True, random_state=42)\n",
    "\n",
    "for train_idx, test_idx in skf.split(X, y):\n",
    "    X_train, X_test = X[train_idx], X[test_idx]\n",
    "    y_train, y_test = y[train_idx], y[test_idx]\n",
    "    \n",
    "    model = build_best_model(study, X_train.shape[1])\n",
    "    model.fit(X_train, y_train, epochs=10, batch_size=128, verbose=0)\n",
    "    y_pred = (model.predict(X_test) > 0.5).astype(int)\n",
    "\n",
    "\n",
    "print(accuracy_score(y_test, y_pred))\n",
    "joblib.dump(model, 'ann_model.joblib')"
   ]
  }
 ],
 "metadata": {
  "kernelspec": {
   "display_name": "Python 3",
   "language": "python",
   "name": "python3"
  },
  "language_info": {
   "codemirror_mode": {
    "name": "ipython",
    "version": 3
   },
   "file_extension": ".py",
   "mimetype": "text/x-python",
   "name": "python",
   "nbconvert_exporter": "python",
   "pygments_lexer": "ipython3",
   "version": "3.7.9"
  }
 },
 "nbformat": 4,
 "nbformat_minor": 2
}
