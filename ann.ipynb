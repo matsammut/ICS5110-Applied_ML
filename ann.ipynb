{
 "cells": [
  {
   "cell_type": "code",
   "execution_count": 3,
   "metadata": {},
   "outputs": [],
   "source": [
    "import pandas as pd\n",
    "import numpy as np\n",
    "from sklearn.model_selection import StratifiedKFold\n",
    "from sklearn.preprocessing import StandardScaler, LabelEncoder\n",
    "from sklearn.metrics import accuracy_score\n",
    "import tensorflow as tf\n",
    "from tensorflow.keras.models import Sequential\n",
    "from tensorflow.keras.layers import Dense, Dropout\n",
    "import optuna"
   ]
  },
  {
   "cell_type": "code",
   "execution_count": 4,
   "metadata": {},
   "outputs": [],
   "source": [
    "def load_data():    \n",
    "    data = pd.read_csv('dataset.csv')\n",
    "    X = data.drop('income', axis=1)\n",
    "    y = data['income']\n",
    "    return X, y"
   ]
  },
  {
   "cell_type": "code",
   "execution_count": 5,
   "metadata": {},
   "outputs": [],
   "source": [
    "def build_model(trial, input_dim):\n",
    "    model = Sequential()\n",
    "    n_layers = trial.suggest_int(\"n_layers\", 1, 5)\n",
    "\n",
    "    # First Layer\n",
    "    units = trial.suggest_int(f\"n_units_0\", 16, 128, step=16)\n",
    "    model.add(Dense(units, activation=\"relu\", input_dim=input_dim))  # input_dim specified\n",
    "    dropout_rate = trial.suggest_float(f\"dropout_rate_0\", 0.0, 0.5)\n",
    "    model.add(Dropout(dropout_rate))\n",
    "\n",
    "    # Hidden Layers\n",
    "    for i in range(n_layers):\n",
    "        units = trial.suggest_int(f\"n_units_{i}\", 16, 128, step=16)\n",
    "        model.add(Dense(units, activation=\"relu\"))\n",
    "        dropout_rate = trial.suggest_float(f\"dropout_rate_{i}\", 0.0, 0.5)\n",
    "        model.add(Dropout(dropout_rate))\n",
    "\n",
    "    # Output layer\n",
    "    model.add(Dense(1, activation=\"sigmoid\"))\n",
    "    model.compile(optimizer=tf.keras.optimizers.Adam(learning_rate=trial.suggest_float(\"lr\", 1e-4, 1e-2, log=True)),\n",
    "                  loss=\"binary_crossentropy\",\n",
    "                  metrics=[\"accuracy\"])\n",
    "    return model\n"
   ]
  },
  {
   "cell_type": "code",
   "execution_count": 6,
   "metadata": {},
   "outputs": [],
   "source": [
    "def objective(trial):\n",
    "    X, y = load_data()\n",
    "    scaler = StandardScaler()\n",
    "    X = scaler.fit_transform(X)\n",
    "    \n",
    "    skf = StratifiedKFold(n_splits=5, shuffle=True, random_state=42)\n",
    "    accuracies = []\n",
    "\n",
    "    for train_idx, test_idx in skf.split(X, y):\n",
    "        X_train, X_test = X[train_idx], X[test_idx]\n",
    "        y_train, y_test = y[train_idx], y[test_idx]\n",
    "        \n",
    "        model = build_model(trial, input_dim=X_train.shape[1])\n",
    "        model.fit(X_train, y_train, epochs=10, batch_size=128, verbose=0)\n",
    "        y_pred = (model.predict(X_test) > 0.5).astype(int)\n",
    "        accuracies.append(accuracy_score(y_test, y_pred))\n",
    "    \n",
    "    return np.mean(accuracies)"
   ]
  },
  {
   "cell_type": "code",
   "execution_count": 7,
   "metadata": {},
   "outputs": [
    {
     "name": "stderr",
     "output_type": "stream",
     "text": [
      "[I 2025-01-08 21:33:33,655] A new study created in memory with name: no-name-77f1324e-3585-4e0f-ae13-b4e884814fef\n"
     ]
    },
    {
     "name": "stdout",
     "output_type": "stream",
     "text": [
      "306/306 [==============================] - 0s 584us/step\n",
      "306/306 [==============================] - 0s 543us/step\n",
      "306/306 [==============================] - 0s 556us/step\n",
      "306/306 [==============================] - 0s 556us/step\n",
      "306/306 [==============================] - 0s 577us/step\n"
     ]
    },
    {
     "name": "stderr",
     "output_type": "stream",
     "text": [
      "[I 2025-01-08 21:34:37,165] Trial 0 finished with value: 0.8340567456316255 and parameters: {'n_layers': 2, 'n_units_0': 80, 'dropout_rate_0': 0.3833477986355386, 'n_units_1': 64, 'dropout_rate_1': 0.31603784982201816, 'lr': 0.0004065463305957174}. Best is trial 0 with value: 0.8340567456316255.\n"
     ]
    },
    {
     "name": "stdout",
     "output_type": "stream",
     "text": [
      "306/306 [==============================] - 0s 567us/step\n",
      "306/306 [==============================] - 0s 592us/step\n",
      "306/306 [==============================] - 0s 602us/step\n",
      "306/306 [==============================] - 0s 626us/step\n",
      "306/306 [==============================] - 0s 541us/step\n"
     ]
    },
    {
     "name": "stderr",
     "output_type": "stream",
     "text": [
      "[I 2025-01-08 21:35:38,170] Trial 1 finished with value: 0.8357970615903874 and parameters: {'n_layers': 2, 'n_units_0': 96, 'dropout_rate_0': 0.12005524838408271, 'n_units_1': 16, 'dropout_rate_1': 0.34375272575931437, 'lr': 0.0006386346101051046}. Best is trial 1 with value: 0.8357970615903874.\n"
     ]
    },
    {
     "name": "stdout",
     "output_type": "stream",
     "text": [
      "306/306 [==============================] - 0s 554us/step\n",
      "306/306 [==============================] - 0s 615us/step\n",
      "306/306 [==============================] - 0s 535us/step\n",
      "306/306 [==============================] - 0s 557us/step\n",
      "306/306 [==============================] - 0s 566us/step\n"
     ]
    },
    {
     "name": "stderr",
     "output_type": "stream",
     "text": [
      "[I 2025-01-08 21:36:49,666] Trial 2 finished with value: 0.835039540326673 and parameters: {'n_layers': 3, 'n_units_0': 128, 'dropout_rate_0': 0.2103352644719227, 'n_units_1': 32, 'dropout_rate_1': 0.365260598815743, 'n_units_2': 32, 'dropout_rate_2': 0.33851130634121807, 'lr': 0.0017474664390635878}. Best is trial 1 with value: 0.8357970615903874.\n"
     ]
    },
    {
     "name": "stdout",
     "output_type": "stream",
     "text": [
      "306/306 [==============================] - 0s 548us/step\n",
      "306/306 [==============================] - 0s 580us/step\n",
      "306/306 [==============================] - 0s 580us/step\n",
      "306/306 [==============================] - 0s 569us/step\n",
      "306/306 [==============================] - 0s 590us/step\n"
     ]
    },
    {
     "name": "stderr",
     "output_type": "stream",
     "text": [
      "[I 2025-01-08 21:38:00,943] Trial 3 finished with value: 0.8327873341846113 and parameters: {'n_layers': 3, 'n_units_0': 64, 'dropout_rate_0': 0.47469330142082783, 'n_units_1': 80, 'dropout_rate_1': 0.13717212409479113, 'n_units_2': 128, 'dropout_rate_2': 0.015609137774324044, 'lr': 0.003151962306993578}. Best is trial 1 with value: 0.8357970615903874.\n"
     ]
    },
    {
     "name": "stdout",
     "output_type": "stream",
     "text": [
      "306/306 [==============================] - 0s 548us/step\n",
      "306/306 [==============================] - 0s 558us/step\n",
      "306/306 [==============================] - 0s 589us/step\n",
      "306/306 [==============================] - 0s 571us/step\n",
      "306/306 [==============================] - 0s 551us/step\n"
     ]
    },
    {
     "name": "stderr",
     "output_type": "stream",
     "text": [
      "[I 2025-01-08 21:39:08,321] Trial 4 finished with value: 0.836247459642894 and parameters: {'n_layers': 2, 'n_units_0': 96, 'dropout_rate_0': 0.12391446795535888, 'n_units_1': 128, 'dropout_rate_1': 0.33100500105650127, 'lr': 0.00047650736120479306}. Best is trial 4 with value: 0.836247459642894.\n"
     ]
    },
    {
     "name": "stdout",
     "output_type": "stream",
     "text": [
      "306/306 [==============================] - 0s 533us/step\n",
      "306/306 [==============================] - 0s 548us/step\n",
      "306/306 [==============================] - 0s 544us/step\n",
      "306/306 [==============================] - 0s 548us/step\n",
      "306/306 [==============================] - 0s 535us/step\n"
     ]
    },
    {
     "name": "stderr",
     "output_type": "stream",
     "text": [
      "[I 2025-01-08 21:40:04,978] Trial 5 finished with value: 0.8336677202425999 and parameters: {'n_layers': 2, 'n_units_0': 16, 'dropout_rate_0': 0.05438037489007158, 'n_units_1': 128, 'dropout_rate_1': 0.42483344029547626, 'lr': 0.0005536796491775432}. Best is trial 4 with value: 0.836247459642894.\n"
     ]
    },
    {
     "name": "stdout",
     "output_type": "stream",
     "text": [
      "306/306 [==============================] - 0s 548us/step\n",
      "306/306 [==============================] - 0s 526us/step\n",
      "306/306 [==============================] - 0s 536us/step\n",
      "306/306 [==============================] - 0s 538us/step\n",
      "306/306 [==============================] - 0s 538us/step\n"
     ]
    },
    {
     "name": "stderr",
     "output_type": "stream",
     "text": [
      "[I 2025-01-08 21:40:51,133] Trial 6 finished with value: 0.8327668633559717 and parameters: {'n_layers': 1, 'n_units_0': 16, 'dropout_rate_0': 0.20172196438708712, 'lr': 0.0008982006329619887}. Best is trial 4 with value: 0.836247459642894.\n"
     ]
    },
    {
     "name": "stdout",
     "output_type": "stream",
     "text": [
      "306/306 [==============================] - 0s 538us/step\n",
      "306/306 [==============================] - 0s 508us/step\n",
      "306/306 [==============================] - 0s 551us/step\n",
      "306/306 [==============================] - 0s 530us/step\n",
      "306/306 [==============================] - 0s 533us/step\n"
     ]
    },
    {
     "name": "stderr",
     "output_type": "stream",
     "text": [
      "[I 2025-01-08 21:41:41,153] Trial 7 finished with value: 0.8337086849549742 and parameters: {'n_layers': 1, 'n_units_0': 48, 'dropout_rate_0': 0.26980357474063577, 'lr': 0.0002178862863761807}. Best is trial 4 with value: 0.836247459642894.\n"
     ]
    },
    {
     "name": "stdout",
     "output_type": "stream",
     "text": [
      "306/306 [==============================] - 0s 571us/step\n",
      "306/306 [==============================] - 0s 566us/step\n",
      "306/306 [==============================] - 0s 553us/step\n",
      "306/306 [==============================] - 0s 543us/step\n",
      "306/306 [==============================] - 0s 554us/step\n"
     ]
    },
    {
     "name": "stderr",
     "output_type": "stream",
     "text": [
      "[I 2025-01-08 21:42:36,677] Trial 8 finished with value: 0.8340977082480819 and parameters: {'n_layers': 2, 'n_units_0': 32, 'dropout_rate_0': 0.1976511099909416, 'n_units_1': 64, 'dropout_rate_1': 0.429959729773747, 'lr': 0.0005628588546838154}. Best is trial 4 with value: 0.836247459642894.\n"
     ]
    },
    {
     "name": "stdout",
     "output_type": "stream",
     "text": [
      "306/306 [==============================] - 0s 553us/step\n",
      "306/306 [==============================] - 0s 554us/step\n",
      "306/306 [==============================] - 0s 539us/step\n",
      "306/306 [==============================] - 0s 569us/step\n",
      "306/306 [==============================] - 0s 553us/step\n"
     ]
    },
    {
     "name": "stderr",
     "output_type": "stream",
     "text": [
      "[I 2025-01-08 21:43:37,054] Trial 9 finished with value: 0.8351623422434151 and parameters: {'n_layers': 2, 'n_units_0': 48, 'dropout_rate_0': 0.18763586200439997, 'n_units_1': 128, 'dropout_rate_1': 0.2795957826529554, 'lr': 0.00026803333801491184}. Best is trial 4 with value: 0.836247459642894.\n"
     ]
    },
    {
     "name": "stdout",
     "output_type": "stream",
     "text": [
      "306/306 [==============================] - 0s 597us/step\n",
      "306/306 [==============================] - 0s 567us/step\n",
      "306/306 [==============================] - 0s 569us/step\n",
      "306/306 [==============================] - 0s 572us/step\n",
      "306/306 [==============================] - 0s 549us/step\n"
     ]
    },
    {
     "name": "stderr",
     "output_type": "stream",
     "text": [
      "[I 2025-01-08 21:44:57,844] Trial 10 finished with value: 0.8219772716164364 and parameters: {'n_layers': 3, 'n_units_0': 128, 'dropout_rate_0': 0.017995884938386747, 'n_units_1': 96, 'dropout_rate_1': 0.14919351559065658, 'n_units_2': 112, 'dropout_rate_2': 0.4739184684606724, 'lr': 0.009271242943205334}. Best is trial 4 with value: 0.836247459642894.\n"
     ]
    },
    {
     "name": "stdout",
     "output_type": "stream",
     "text": [
      "306/306 [==============================] - 0s 544us/step\n",
      "306/306 [==============================] - 0s 533us/step\n",
      "306/306 [==============================] - 0s 546us/step\n",
      "306/306 [==============================] - 0s 562us/step\n",
      "306/306 [==============================] - 0s 567us/step\n"
     ]
    },
    {
     "name": "stderr",
     "output_type": "stream",
     "text": [
      "[I 2025-01-08 21:45:54,114] Trial 11 finished with value: 0.8349166399017971 and parameters: {'n_layers': 1, 'n_units_0': 96, 'dropout_rate_0': 0.09276038728483066, 'lr': 0.0001529260581892749}. Best is trial 4 with value: 0.836247459642894.\n"
     ]
    },
    {
     "name": "stdout",
     "output_type": "stream",
     "text": [
      "306/306 [==============================] - 0s 564us/step\n",
      "306/306 [==============================] - 0s 566us/step\n",
      "306/306 [==============================] - 0s 561us/step\n",
      "306/306 [==============================] - 0s 556us/step\n",
      "306/306 [==============================] - 0s 567us/step\n"
     ]
    },
    {
     "name": "stderr",
     "output_type": "stream",
     "text": [
      "[I 2025-01-08 21:46:53,427] Trial 12 finished with value: 0.8342409830893811 and parameters: {'n_layers': 2, 'n_units_0': 96, 'dropout_rate_0': 0.12018191266971237, 'n_units_1': 16, 'dropout_rate_1': 0.2238533670834329, 'lr': 0.00010520015763216159}. Best is trial 4 with value: 0.836247459642894.\n"
     ]
    },
    {
     "name": "stdout",
     "output_type": "stream",
     "text": [
      "306/306 [==============================] - 0s 562us/step\n",
      "306/306 [==============================] - 0s 559us/step\n",
      "306/306 [==============================] - 0s 566us/step\n",
      "306/306 [==============================] - 0s 562us/step\n",
      "306/306 [==============================] - 0s 551us/step\n"
     ]
    },
    {
     "name": "stderr",
     "output_type": "stream",
     "text": [
      "[I 2025-01-08 21:47:53,854] Trial 13 finished with value: 0.8358174758292478 and parameters: {'n_layers': 2, 'n_units_0': 96, 'dropout_rate_0': 0.2959632828399286, 'n_units_1': 32, 'dropout_rate_1': 0.01087552807588632, 'lr': 0.0016599340777807335}. Best is trial 4 with value: 0.836247459642894.\n"
     ]
    },
    {
     "name": "stdout",
     "output_type": "stream",
     "text": [
      "306/306 [==============================] - 0s 553us/step\n",
      "306/306 [==============================] - 0s 566us/step\n",
      "306/306 [==============================] - 0s 577us/step\n",
      "306/306 [==============================] - 0s 566us/step\n",
      "306/306 [==============================] - 0s 567us/step\n"
     ]
    },
    {
     "name": "stderr",
     "output_type": "stream",
     "text": [
      "[I 2025-01-08 21:49:01,571] Trial 14 finished with value: 0.8357560968780131 and parameters: {'n_layers': 3, 'n_units_0': 112, 'dropout_rate_0': 0.3085818277952286, 'n_units_1': 48, 'dropout_rate_1': 0.0028716855919634354, 'n_units_2': 16, 'dropout_rate_2': 0.02803253627515645, 'lr': 0.0017694082877163539}. Best is trial 4 with value: 0.836247459642894.\n"
     ]
    },
    {
     "name": "stdout",
     "output_type": "stream",
     "text": [
      "306/306 [==============================] - 0s 531us/step\n",
      "306/306 [==============================] - 0s 544us/step\n",
      "306/306 [==============================] - 0s 554us/step\n",
      "306/306 [==============================] - 0s 561us/step\n",
      "306/306 [==============================] - 0s 544us/step\n"
     ]
    },
    {
     "name": "stderr",
     "output_type": "stream",
     "text": [
      "[I 2025-01-08 21:49:56,318] Trial 15 finished with value: 0.8354489883382298 and parameters: {'n_layers': 1, 'n_units_0': 80, 'dropout_rate_0': 0.331557750431007, 'lr': 0.0044874766149468285}. Best is trial 4 with value: 0.836247459642894.\n"
     ]
    },
    {
     "name": "stdout",
     "output_type": "stream",
     "text": [
      "306/306 [==============================] - 0s 566us/step\n",
      "306/306 [==============================] - 0s 559us/step\n",
      "306/306 [==============================] - 0s 559us/step\n",
      "306/306 [==============================] - 0s 574us/step\n",
      "306/306 [==============================] - 0s 546us/step\n"
     ]
    },
    {
     "name": "stderr",
     "output_type": "stream",
     "text": [
      "[I 2025-01-08 21:51:03,115] Trial 16 finished with value: 0.8362884201634329 and parameters: {'n_layers': 2, 'n_units_0': 112, 'dropout_rate_0': 0.42704661509542063, 'n_units_1': 96, 'dropout_rate_1': 0.04099106974462052, 'lr': 0.0017028964624276148}. Best is trial 16 with value: 0.8362884201634329.\n"
     ]
    },
    {
     "name": "stdout",
     "output_type": "stream",
     "text": [
      "306/306 [==============================] - 0s 564us/step\n",
      "306/306 [==============================] - 0s 575us/step\n",
      "306/306 [==============================] - 0s 584us/step\n",
      "306/306 [==============================] - 0s 572us/step\n",
      "306/306 [==============================] - 0s 572us/step\n"
     ]
    },
    {
     "name": "stderr",
     "output_type": "stream",
     "text": [
      "[I 2025-01-08 21:52:17,973] Trial 17 finished with value: 0.8329714815179038 and parameters: {'n_layers': 3, 'n_units_0': 112, 'dropout_rate_0': 0.47703883807193764, 'n_units_1': 112, 'dropout_rate_1': 0.4984180944508975, 'n_units_2': 64, 'dropout_rate_2': 0.2178777466905794, 'lr': 0.0011429521309371934}. Best is trial 16 with value: 0.8362884201634329.\n"
     ]
    },
    {
     "name": "stdout",
     "output_type": "stream",
     "text": [
      "306/306 [==============================] - 0s 566us/step\n",
      "306/306 [==============================] - 0s 556us/step\n",
      "306/306 [==============================] - 0s 617us/step\n",
      "306/306 [==============================] - 0s 595us/step\n",
      "306/306 [==============================] - 0s 538us/step\n"
     ]
    },
    {
     "name": "stderr",
     "output_type": "stream",
     "text": [
      "[I 2025-01-08 21:53:17,768] Trial 18 finished with value: 0.834220466150551 and parameters: {'n_layers': 1, 'n_units_0': 112, 'dropout_rate_0': 0.41715575472008903, 'lr': 0.003419479712905945}. Best is trial 16 with value: 0.8362884201634329.\n"
     ]
    },
    {
     "name": "stdout",
     "output_type": "stream",
     "text": [
      "306/306 [==============================] - 0s 566us/step\n",
      "306/306 [==============================] - 0s 567us/step\n",
      "306/306 [==============================] - 0s 615us/step\n",
      "306/306 [==============================] - 0s 561us/step\n",
      "306/306 [==============================] - 0s 557us/step\n"
     ]
    },
    {
     "name": "stderr",
     "output_type": "stream",
     "text": [
      "[I 2025-01-08 21:54:19,450] Trial 19 finished with value: 0.8343843145204595 and parameters: {'n_layers': 2, 'n_units_0': 64, 'dropout_rate_0': 0.38137422267329274, 'n_units_1': 96, 'dropout_rate_1': 0.2009497293592265, 'lr': 0.00034239318973310393}. Best is trial 16 with value: 0.8362884201634329.\n"
     ]
    },
    {
     "name": "stdout",
     "output_type": "stream",
     "text": [
      "306/306 [==============================] - 0s 574us/step\n",
      "306/306 [==============================] - 0s 558us/step\n",
      "306/306 [==============================] - 0s 561us/step\n",
      "306/306 [==============================] - 0s 528us/step\n",
      "306/306 [==============================] - 0s 536us/step\n"
     ]
    },
    {
     "name": "stderr",
     "output_type": "stream",
     "text": [
      "[I 2025-01-08 21:55:30,429] Trial 20 finished with value: 0.8362474135327036 and parameters: {'n_layers': 2, 'n_units_0': 128, 'dropout_rate_0': 0.15994593638255677, 'n_units_1': 112, 'dropout_rate_1': 0.10670692599762514, 'lr': 0.0009463807823906034}. Best is trial 16 with value: 0.8362884201634329.\n"
     ]
    },
    {
     "name": "stdout",
     "output_type": "stream",
     "text": [
      "306/306 [==============================] - 0s 571us/step\n",
      "306/306 [==============================] - 0s 559us/step\n",
      "306/306 [==============================] - 0s 561us/step\n",
      "306/306 [==============================] - 0s 556us/step\n",
      "306/306 [==============================] - 0s 559us/step\n"
     ]
    },
    {
     "name": "stderr",
     "output_type": "stream",
     "text": [
      "[I 2025-01-08 21:56:42,137] Trial 21 finished with value: 0.8359812927603899 and parameters: {'n_layers': 2, 'n_units_0': 128, 'dropout_rate_0': 0.1419875391376474, 'n_units_1': 112, 'dropout_rate_1': 0.09626579482798042, 'lr': 0.001081423352887538}. Best is trial 16 with value: 0.8362884201634329.\n"
     ]
    },
    {
     "name": "stdout",
     "output_type": "stream",
     "text": [
      "306/306 [==============================] - 0s 548us/step\n",
      "306/306 [==============================] - 0s 551us/step\n",
      "306/306 [==============================] - 0s 554us/step\n",
      "306/306 [==============================] - 0s 571us/step\n",
      "306/306 [==============================] - 0s 562us/step\n"
     ]
    },
    {
     "name": "stderr",
     "output_type": "stream",
     "text": [
      "[I 2025-01-08 21:57:50,861] Trial 22 finished with value: 0.8354284797830708 and parameters: {'n_layers': 2, 'n_units_0': 112, 'dropout_rate_0': 0.06867572248312317, 'n_units_1': 112, 'dropout_rate_1': 0.06098877880932977, 'lr': 0.0007493766442082984}. Best is trial 16 with value: 0.8362884201634329.\n"
     ]
    },
    {
     "name": "stdout",
     "output_type": "stream",
     "text": [
      "306/306 [==============================] - 0s 554us/step\n",
      "306/306 [==============================] - 0s 569us/step\n",
      "306/306 [==============================] - 0s 600us/step\n",
      "306/306 [==============================] - 0s 548us/step\n",
      "306/306 [==============================] - 0s 566us/step\n"
     ]
    },
    {
     "name": "stderr",
     "output_type": "stream",
     "text": [
      "[I 2025-01-08 21:59:02,505] Trial 23 finished with value: 0.8356127235285798 and parameters: {'n_layers': 2, 'n_units_0': 128, 'dropout_rate_0': 0.15647902197339542, 'n_units_1': 96, 'dropout_rate_1': 0.07231615916938444, 'lr': 0.0023756885461319642}. Best is trial 16 with value: 0.8362884201634329.\n"
     ]
    },
    {
     "name": "stdout",
     "output_type": "stream",
     "text": [
      "306/306 [==============================] - 0s 557us/step\n",
      "306/306 [==============================] - 0s 595us/step\n",
      "306/306 [==============================] - 0s 574us/step\n",
      "306/306 [==============================] - 0s 554us/step\n",
      "306/306 [==============================] - 0s 564us/step\n"
     ]
    },
    {
     "name": "stderr",
     "output_type": "stream",
     "text": [
      "[I 2025-01-08 22:00:13,624] Trial 24 finished with value: 0.8368207015304978 and parameters: {'n_layers': 2, 'n_units_0': 112, 'dropout_rate_0': 0.24285812401830775, 'n_units_1': 128, 'dropout_rate_1': 0.17106016626081927, 'lr': 0.0012841032227776537}. Best is trial 24 with value: 0.8368207015304978.\n"
     ]
    },
    {
     "name": "stdout",
     "output_type": "stream",
     "text": [
      "306/306 [==============================] - 0s 538us/step\n",
      "306/306 [==============================] - 0s 564us/step\n",
      "306/306 [==============================] - 0s 539us/step\n",
      "306/306 [==============================] - 0s 1ms/step\n",
      "306/306 [==============================] - 0s 553us/step\n"
     ]
    },
    {
     "name": "stderr",
     "output_type": "stream",
     "text": [
      "[I 2025-01-08 22:01:13,444] Trial 25 finished with value: 0.836534097354038 and parameters: {'n_layers': 1, 'n_units_0': 112, 'dropout_rate_0': 0.2511143644624594, 'lr': 0.0012876552593722936}. Best is trial 24 with value: 0.8368207015304978.\n"
     ]
    },
    {
     "name": "stdout",
     "output_type": "stream",
     "text": [
      "306/306 [==============================] - 0s 566us/step\n",
      "306/306 [==============================] - 0s 549us/step\n",
      "306/306 [==============================] - 0s 536us/step\n",
      "306/306 [==============================] - 0s 562us/step\n",
      "306/306 [==============================] - 0s 553us/step\n"
     ]
    },
    {
     "name": "stderr",
     "output_type": "stream",
     "text": [
      "[I 2025-01-08 22:02:12,360] Trial 26 finished with value: 0.834241016624065 and parameters: {'n_layers': 1, 'n_units_0': 112, 'dropout_rate_0': 0.24836042932036548, 'lr': 0.005451790293971133}. Best is trial 24 with value: 0.8368207015304978.\n"
     ]
    },
    {
     "name": "stdout",
     "output_type": "stream",
     "text": [
      "306/306 [==============================] - 0s 559us/step\n",
      "306/306 [==============================] - 0s 549us/step\n",
      "306/306 [==============================] - 0s 557us/step\n",
      "306/306 [==============================] - 0s 553us/step\n",
      "306/306 [==============================] - 0s 549us/step\n"
     ]
    },
    {
     "name": "stderr",
     "output_type": "stream",
     "text": [
      "[I 2025-01-08 22:03:07,416] Trial 27 finished with value: 0.8348552295117961 and parameters: {'n_layers': 1, 'n_units_0': 80, 'dropout_rate_0': 0.3579189936937835, 'lr': 0.0023148090736958195}. Best is trial 24 with value: 0.8368207015304978.\n"
     ]
    },
    {
     "name": "stdout",
     "output_type": "stream",
     "text": [
      "306/306 [==============================] - 0s 579us/step\n",
      "306/306 [==============================] - 0s 551us/step\n",
      "306/306 [==============================] - 0s 548us/step\n",
      "306/306 [==============================] - 0s 566us/step\n",
      "306/306 [==============================] - 0s 582us/step\n"
     ]
    },
    {
     "name": "stderr",
     "output_type": "stream",
     "text": [
      "[I 2025-01-08 22:04:06,921] Trial 28 finished with value: 0.8355103630976289 and parameters: {'n_layers': 1, 'n_units_0': 112, 'dropout_rate_0': 0.42476724809315486, 'lr': 0.001506982011571822}. Best is trial 24 with value: 0.8368207015304978.\n"
     ]
    },
    {
     "name": "stdout",
     "output_type": "stream",
     "text": [
      "306/306 [==============================] - 0s 577us/step\n",
      "306/306 [==============================] - 0s 626us/step\n",
      "306/306 [==============================] - 0s 557us/step\n",
      "306/306 [==============================] - 0s 617us/step\n",
      "306/306 [==============================] - 0s 564us/step\n"
     ]
    },
    {
     "name": "stderr",
     "output_type": "stream",
     "text": [
      "[I 2025-01-08 22:05:20,768] Trial 29 finished with value: 0.8353465922766773 and parameters: {'n_layers': 3, 'n_units_0': 80, 'dropout_rate_0': 0.26919761149586774, 'n_units_1': 80, 'dropout_rate_1': 0.17335261068244984, 'n_units_2': 80, 'dropout_rate_2': 0.2040393312644303, 'lr': 0.0023558546410031495}. Best is trial 24 with value: 0.8368207015304978.\n"
     ]
    },
    {
     "name": "stdout",
     "output_type": "stream",
     "text": [
      "306/306 [==============================] - 0s 559us/step\n",
      "306/306 [==============================] - 0s 535us/step\n",
      "306/306 [==============================] - 0s 521us/step\n",
      "306/306 [==============================] - 0s 521us/step\n",
      "306/306 [==============================] - 0s 539us/step\n"
     ]
    },
    {
     "name": "stderr",
     "output_type": "stream",
     "text": [
      "[I 2025-01-08 22:06:19,388] Trial 30 finished with value: 0.8358174464863992 and parameters: {'n_layers': 1, 'n_units_0': 96, 'dropout_rate_0': 0.23444319020698218, 'lr': 0.0014503032059867773}. Best is trial 24 with value: 0.8368207015304978.\n"
     ]
    },
    {
     "name": "stdout",
     "output_type": "stream",
     "text": [
      "306/306 [==============================] - 0s 556us/step\n",
      "306/306 [==============================] - 0s 646us/step\n",
      "306/306 [==============================] - 0s 643us/step\n",
      "306/306 [==============================] - 0s 661us/step\n",
      "306/306 [==============================] - 0s 643us/step\n"
     ]
    },
    {
     "name": "stderr",
     "output_type": "stream",
     "text": [
      "[I 2025-01-08 22:07:30,172] Trial 31 finished with value: 0.8349166042711953 and parameters: {'n_layers': 2, 'n_units_0': 96, 'dropout_rate_0': 0.34443141478331374, 'n_units_1': 128, 'dropout_rate_1': 0.26235320422039704, 'lr': 0.00043296622594208916}. Best is trial 24 with value: 0.8368207015304978.\n"
     ]
    },
    {
     "name": "stdout",
     "output_type": "stream",
     "text": [
      "306/306 [==============================] - 0s 674us/step\n",
      "306/306 [==============================] - 0s 561us/step\n",
      "306/306 [==============================] - 0s 600us/step\n",
      "306/306 [==============================] - 0s 564us/step\n",
      "306/306 [==============================] - 0s 561us/step\n"
     ]
    },
    {
     "name": "stderr",
     "output_type": "stream",
     "text": [
      "[I 2025-01-08 22:08:43,695] Trial 32 finished with value: 0.8346299686559693 and parameters: {'n_layers': 2, 'n_units_0': 112, 'dropout_rate_0': 0.0066641355050671425, 'n_units_1': 128, 'dropout_rate_1': 0.21787542036354246, 'lr': 0.0007455106500734884}. Best is trial 24 with value: 0.8368207015304978.\n"
     ]
    },
    {
     "name": "stdout",
     "output_type": "stream",
     "text": [
      "306/306 [==============================] - 0s 584us/step\n",
      "306/306 [==============================] - 0s 651us/step\n",
      "306/306 [==============================] - 0s 554us/step\n",
      "306/306 [==============================] - 0s 610us/step\n",
      "306/306 [==============================] - 0s 544us/step\n"
     ]
    },
    {
     "name": "stderr",
     "output_type": "stream",
     "text": [
      "[I 2025-01-08 22:09:51,715] Trial 33 finished with value: 0.8363907386760289 and parameters: {'n_layers': 2, 'n_units_0': 96, 'dropout_rate_0': 0.4124662216087495, 'n_units_1': 96, 'dropout_rate_1': 0.3047688052661746, 'lr': 0.0012269909511610077}. Best is trial 24 with value: 0.8368207015304978.\n"
     ]
    },
    {
     "name": "stdout",
     "output_type": "stream",
     "text": [
      "306/306 [==============================] - 0s 625us/step\n",
      "306/306 [==============================] - 0s 689us/step\n",
      "306/306 [==============================] - 0s 595us/step\n",
      "306/306 [==============================] - 0s 572us/step\n",
      "306/306 [==============================] - 0s 620us/step\n"
     ]
    },
    {
     "name": "stderr",
     "output_type": "stream",
     "text": [
      "[I 2025-01-08 22:11:11,259] Trial 34 finished with value: 0.8361246137118796 and parameters: {'n_layers': 3, 'n_units_0': 128, 'dropout_rate_0': 0.4372842540084364, 'n_units_1': 80, 'dropout_rate_1': 0.0482063111239836, 'n_units_2': 64, 'dropout_rate_2': 0.47012205851001315, 'lr': 0.001133008305722953}. Best is trial 24 with value: 0.8368207015304978.\n"
     ]
    },
    {
     "name": "stdout",
     "output_type": "stream",
     "text": [
      "306/306 [==============================] - 0s 554us/step\n",
      "306/306 [==============================] - 0s 571us/step\n",
      "306/306 [==============================] - 0s 613us/step\n",
      "306/306 [==============================] - 0s 644us/step\n",
      "306/306 [==============================] - 0s 595us/step\n"
     ]
    },
    {
     "name": "stderr",
     "output_type": "stream",
     "text": [
      "[I 2025-01-08 22:12:17,274] Trial 35 finished with value: 0.8344661601084982 and parameters: {'n_layers': 2, 'n_units_0': 80, 'dropout_rate_0': 0.38635968410645655, 'n_units_1': 96, 'dropout_rate_1': 0.2914260789013081, 'lr': 0.0028953013826002387}. Best is trial 24 with value: 0.8368207015304978.\n"
     ]
    },
    {
     "name": "stdout",
     "output_type": "stream",
     "text": [
      "306/306 [==============================] - 0s 548us/step\n",
      "306/306 [==============================] - 0s 543us/step\n",
      "306/306 [==============================] - 0s 667us/step\n",
      "306/306 [==============================] - 0s 572us/step\n",
      "306/306 [==============================] - 0s 546us/step\n"
     ]
    },
    {
     "name": "stderr",
     "output_type": "stream",
     "text": [
      "[I 2025-01-08 22:13:26,346] Trial 36 finished with value: 0.8343637808142874 and parameters: {'n_layers': 2, 'n_units_0': 96, 'dropout_rate_0': 0.44523931519512316, 'n_units_1': 112, 'dropout_rate_1': 0.38395279296067747, 'lr': 0.0013763752320901004}. Best is trial 24 with value: 0.8368207015304978.\n"
     ]
    },
    {
     "name": "stdout",
     "output_type": "stream",
     "text": [
      "306/306 [==============================] - 0s 561us/step\n",
      "306/306 [==============================] - 0s 559us/step\n",
      "306/306 [==============================] - 0s 577us/step\n",
      "306/306 [==============================] - 0s 572us/step\n",
      "306/306 [==============================] - 0s 605us/step\n"
     ]
    },
    {
     "name": "stderr",
     "output_type": "stream",
     "text": [
      "[I 2025-01-08 22:14:36,967] Trial 37 finished with value: 0.8342818367181148 and parameters: {'n_layers': 2, 'n_units_0': 112, 'dropout_rate_0': 0.40209415034851753, 'n_units_1': 96, 'dropout_rate_1': 0.17335560999779184, 'lr': 0.001913037368704645}. Best is trial 24 with value: 0.8368207015304978.\n"
     ]
    },
    {
     "name": "stdout",
     "output_type": "stream",
     "text": [
      "306/306 [==============================] - 0s 654us/step\n",
      "306/306 [==============================] - 0s 608us/step\n",
      "306/306 [==============================] - 0s 635us/step\n",
      "306/306 [==============================] - 0s 598us/step\n",
      "306/306 [==============================] - 0s 557us/step\n"
     ]
    },
    {
     "name": "stderr",
     "output_type": "stream",
     "text": [
      "[I 2025-01-08 22:15:51,739] Trial 38 finished with value: 0.8342614308629255 and parameters: {'n_layers': 3, 'n_units_0': 96, 'dropout_rate_0': 0.49333122228744125, 'n_units_1': 64, 'dropout_rate_1': 0.11991733967611728, 'n_units_2': 96, 'dropout_rate_2': 0.3358142018079787, 'lr': 0.0007223555896268984}. Best is trial 24 with value: 0.8368207015304978.\n"
     ]
    },
    {
     "name": "stdout",
     "output_type": "stream",
     "text": [
      "306/306 [==============================] - 0s 582us/step\n",
      "306/306 [==============================] - 0s 548us/step\n",
      "306/306 [==============================] - 0s 613us/step\n",
      "306/306 [==============================] - 0s 553us/step\n",
      "306/306 [==============================] - 0s 548us/step\n"
     ]
    },
    {
     "name": "stderr",
     "output_type": "stream",
     "text": [
      "[I 2025-01-08 22:16:53,499] Trial 39 finished with value: 0.8339747910558637 and parameters: {'n_layers': 2, 'n_units_0': 64, 'dropout_rate_0': 0.4562270928826208, 'n_units_1': 80, 'dropout_rate_1': 0.22943233016229458, 'lr': 0.0008679836292888265}. Best is trial 24 with value: 0.8368207015304978.\n"
     ]
    },
    {
     "name": "stdout",
     "output_type": "stream",
     "text": [
      "306/306 [==============================] - 0s 562us/step\n",
      "306/306 [==============================] - 0s 564us/step\n",
      "306/306 [==============================] - 0s 561us/step\n",
      "306/306 [==============================] - 0s 533us/step\n",
      "306/306 [==============================] - 0s 559us/step\n"
     ]
    },
    {
     "name": "stderr",
     "output_type": "stream",
     "text": [
      "[I 2025-01-08 22:17:53,682] Trial 40 finished with value: 0.8323982291507116 and parameters: {'n_layers': 1, 'n_units_0': 112, 'dropout_rate_0': 0.2985141611764541, 'lr': 0.004356186469602337}. Best is trial 24 with value: 0.8368207015304978.\n"
     ]
    },
    {
     "name": "stdout",
     "output_type": "stream",
     "text": [
      "306/306 [==============================] - 0s 539us/step\n",
      "306/306 [==============================] - 0s 602us/step\n",
      "306/306 [==============================] - 0s 561us/step\n",
      "306/306 [==============================] - 0s 564us/step\n",
      "306/306 [==============================] - 0s 559us/step\n"
     ]
    },
    {
     "name": "stderr",
     "output_type": "stream",
     "text": [
      "[I 2025-01-08 22:19:01,554] Trial 41 finished with value: 0.8362883845328313 and parameters: {'n_layers': 2, 'n_units_0': 96, 'dropout_rate_0': 0.2232767960651742, 'n_units_1': 128, 'dropout_rate_1': 0.3168850816957337, 'lr': 0.00045014148669169745}. Best is trial 24 with value: 0.8368207015304978.\n"
     ]
    },
    {
     "name": "stdout",
     "output_type": "stream",
     "text": [
      "306/306 [==============================] - 0s 572us/step\n",
      "306/306 [==============================] - 0s 561us/step\n",
      "306/306 [==============================] - 0s 589us/step\n",
      "306/306 [==============================] - 0s 672us/step\n",
      "306/306 [==============================] - 0s 594us/step\n"
     ]
    },
    {
     "name": "stderr",
     "output_type": "stream",
     "text": [
      "[I 2025-01-08 22:20:19,367] Trial 42 finished with value: 0.8357765236923799 and parameters: {'n_layers': 2, 'n_units_0': 128, 'dropout_rate_0': 0.23185491299512717, 'n_units_1': 112, 'dropout_rate_1': 0.3019318124818793, 'lr': 0.000566829675244651}. Best is trial 24 with value: 0.8368207015304978.\n"
     ]
    },
    {
     "name": "stdout",
     "output_type": "stream",
     "text": [
      "306/306 [==============================] - 0s 553us/step\n",
      "306/306 [==============================] - 0s 584us/step\n",
      "306/306 [==============================] - 0s 582us/step\n",
      "306/306 [==============================] - 0s 590us/step\n",
      "306/306 [==============================] - 0s 769us/step\n"
     ]
    },
    {
     "name": "stderr",
     "output_type": "stream",
     "text": [
      "[I 2025-01-08 22:21:31,483] Trial 43 finished with value: 0.8365341036417913 and parameters: {'n_layers': 2, 'n_units_0': 96, 'dropout_rate_0': 0.2168833165911092, 'n_units_1': 128, 'dropout_rate_1': 0.33276974185139396, 'lr': 0.00033359558443476036}. Best is trial 24 with value: 0.8368207015304978.\n"
     ]
    },
    {
     "name": "stdout",
     "output_type": "stream",
     "text": [
      "306/306 [==============================] - 0s 649us/step\n",
      "306/306 [==============================] - 0s 705us/step\n",
      "306/306 [==============================] - 0s 702us/step\n",
      "306/306 [==============================] - 0s 817us/step\n",
      "306/306 [==============================] - 0s 789us/step\n"
     ]
    },
    {
     "name": "stderr",
     "output_type": "stream",
     "text": [
      "[I 2025-01-08 22:22:59,591] Trial 44 finished with value: 0.8358174779251655 and parameters: {'n_layers': 2, 'n_units_0': 112, 'dropout_rate_0': 0.18278154853162587, 'n_units_1': 112, 'dropout_rate_1': 0.39777768436415123, 'lr': 0.00033794849058822805}. Best is trial 24 with value: 0.8368207015304978.\n"
     ]
    },
    {
     "name": "stdout",
     "output_type": "stream",
     "text": [
      "306/306 [==============================] - 0s 859us/step\n",
      "306/306 [==============================] - 0s 777us/step\n",
      "306/306 [==============================] - 0s 810us/step\n",
      "306/306 [==============================] - 0s 751us/step\n",
      "306/306 [==============================] - 0s 789us/step\n"
     ]
    },
    {
     "name": "stderr",
     "output_type": "stream",
     "text": [
      "[I 2025-01-08 22:24:25,430] Trial 45 finished with value: 0.8355513152344967 and parameters: {'n_layers': 2, 'n_units_0': 96, 'dropout_rate_0': 0.2750427224371685, 'n_units_1': 48, 'dropout_rate_1': 0.3483907367651375, 'lr': 0.001270190998318417}. Best is trial 24 with value: 0.8368207015304978.\n"
     ]
    },
    {
     "name": "stdout",
     "output_type": "stream",
     "text": [
      "306/306 [==============================] - 0s 787us/step\n",
      "306/306 [==============================] - 0s 792us/step\n",
      "306/306 [==============================] - 0s 712us/step\n",
      "306/306 [==============================] - 0s 738us/step\n",
      "306/306 [==============================] - 0s 759us/step\n"
     ]
    },
    {
     "name": "stderr",
     "output_type": "stream",
     "text": [
      "[I 2025-01-08 22:25:49,959] Trial 46 finished with value: 0.8335244370176298 and parameters: {'n_layers': 2, 'n_units_0': 64, 'dropout_rate_0': 0.3618831739741504, 'n_units_1': 96, 'dropout_rate_1': 0.2764860761558017, 'lr': 0.00018829285227566517}. Best is trial 24 with value: 0.8368207015304978.\n"
     ]
    },
    {
     "name": "stdout",
     "output_type": "stream",
     "text": [
      "306/306 [==============================] - 0s 830us/step\n",
      "306/306 [==============================] - 0s 753us/step\n",
      "306/306 [==============================] - 0s 744us/step\n",
      "306/306 [==============================] - 0s 776us/step\n",
      "306/306 [==============================] - 0s 739us/step\n"
     ]
    },
    {
     "name": "stderr",
     "output_type": "stream",
     "text": [
      "[I 2025-01-08 22:27:25,601] Trial 47 finished with value: 0.8361041135403916 and parameters: {'n_layers': 2, 'n_units_0': 112, 'dropout_rate_0': 0.2571040891607223, 'n_units_1': 128, 'dropout_rate_1': 0.24593610032897617, 'lr': 0.0008601019792214488}. Best is trial 24 with value: 0.8368207015304978.\n"
     ]
    },
    {
     "name": "stdout",
     "output_type": "stream",
     "text": [
      "306/306 [==============================] - 0s 733us/step\n",
      "306/306 [==============================] - 0s 779us/step\n",
      "306/306 [==============================] - 0s 779us/step\n",
      "306/306 [==============================] - 0s 744us/step\n",
      "306/306 [==============================] - 0s 782us/step\n"
     ]
    },
    {
     "name": "stderr",
     "output_type": "stream",
     "text": [
      "[I 2025-01-08 22:28:57,854] Trial 48 finished with value: 0.8356741905083599 and parameters: {'n_layers': 3, 'n_units_0': 96, 'dropout_rate_0': 0.20680649687142807, 'n_units_1': 80, 'dropout_rate_1': 0.3297368939348096, 'n_units_2': 32, 'dropout_rate_2': 0.13543912510052417, 'lr': 0.0018308472861731078}. Best is trial 24 with value: 0.8368207015304978.\n"
     ]
    },
    {
     "name": "stdout",
     "output_type": "stream",
     "text": [
      "306/306 [==============================] - 0s 739us/step\n",
      "306/306 [==============================] - 0s 774us/step\n",
      "306/306 [==============================] - 0s 674us/step\n",
      "306/306 [==============================] - 0s 697us/step\n",
      "306/306 [==============================] - 0s 705us/step\n"
     ]
    },
    {
     "name": "stderr",
     "output_type": "stream",
     "text": [
      "[I 2025-01-08 22:30:22,033] Trial 49 finished with value: 0.8361245885608666 and parameters: {'n_layers': 2, 'n_units_0': 80, 'dropout_rate_0': 0.32823436259688943, 'n_units_1': 128, 'dropout_rate_1': 0.363326594569845, 'lr': 0.0006482714139084163}. Best is trial 24 with value: 0.8368207015304978.\n"
     ]
    },
    {
     "name": "stdout",
     "output_type": "stream",
     "text": [
      "Best hyperparameters: {'n_layers': 2, 'n_units_0': 112, 'dropout_rate_0': 0.24285812401830775, 'n_units_1': 128, 'dropout_rate_1': 0.17106016626081927, 'lr': 0.0012841032227776537}\n"
     ]
    }
   ],
   "source": [
    "study = optuna.create_study(direction=\"maximize\")\n",
    "study.optimize(objective, n_trials=50)\n",
    "\n",
    "# Best hyperparameters\n",
    "print(\"Best hyperparameters:\", study.best_params)"
   ]
  },
  {
   "cell_type": "code",
   "execution_count": null,
   "metadata": {},
   "outputs": [
    {
     "ename": "ImportError",
     "evalue": "Tried to import 'plotly' but failed. Please make sure that the package is installed correctly to use this feature. Actual error: No module named 'plotly'.",
     "output_type": "error",
     "traceback": [
      "\u001b[1;31m---------------------------------------------------------------------------\u001b[0m",
      "\u001b[1;31mModuleNotFoundError\u001b[0m                       Traceback (most recent call last)",
      "\u001b[1;32m~\\AppData\\Local\\Packages\\PythonSoftwareFoundation.Python.3.7_qbz5n2kfra8p0\\LocalCache\\local-packages\\Python37\\site-packages\\optuna\\visualization\\_plotly_imports.py\u001b[0m in \u001b[0;36m<module>\u001b[1;34m\u001b[0m\n\u001b[0;32m      6\u001b[0m \u001b[1;32mwith\u001b[0m \u001b[0mtry_import\u001b[0m\u001b[1;33m(\u001b[0m\u001b[1;33m)\u001b[0m \u001b[1;32mas\u001b[0m \u001b[0m_imports\u001b[0m\u001b[1;33m:\u001b[0m\u001b[1;33m\u001b[0m\u001b[1;33m\u001b[0m\u001b[0m\n\u001b[1;32m----> 7\u001b[1;33m     \u001b[1;32mimport\u001b[0m \u001b[0mplotly\u001b[0m\u001b[1;33m\u001b[0m\u001b[1;33m\u001b[0m\u001b[0m\n\u001b[0m\u001b[0;32m      8\u001b[0m     \u001b[1;32mfrom\u001b[0m \u001b[0mplotly\u001b[0m \u001b[1;32mimport\u001b[0m \u001b[0m__version__\u001b[0m \u001b[1;32mas\u001b[0m \u001b[0mplotly_version\u001b[0m\u001b[1;33m\u001b[0m\u001b[1;33m\u001b[0m\u001b[0m\n",
      "\u001b[1;31mModuleNotFoundError\u001b[0m: No module named 'plotly'",
      "\nThe above exception was the direct cause of the following exception:\n",
      "\u001b[1;31mImportError\u001b[0m                               Traceback (most recent call last)",
      "\u001b[1;32m~\\AppData\\Local\\Temp\\ipykernel_68348\\3592733771.py\u001b[0m in \u001b[0;36m<module>\u001b[1;34m\u001b[0m\n\u001b[0;32m      1\u001b[0m \u001b[1;32mimport\u001b[0m \u001b[0mplotly\u001b[0m\u001b[1;33m\u001b[0m\u001b[1;33m\u001b[0m\u001b[0m\n\u001b[0;32m      2\u001b[0m \u001b[1;32mimport\u001b[0m \u001b[0moptuna\u001b[0m\u001b[1;33m.\u001b[0m\u001b[0mvisualization\u001b[0m \u001b[1;32mas\u001b[0m \u001b[0mvis\u001b[0m\u001b[1;33m\u001b[0m\u001b[1;33m\u001b[0m\u001b[0m\n\u001b[1;32m----> 3\u001b[1;33m \u001b[0mfig\u001b[0m \u001b[1;33m=\u001b[0m \u001b[0mvis\u001b[0m\u001b[1;33m.\u001b[0m\u001b[0mplot_optimization_history\u001b[0m\u001b[1;33m(\u001b[0m\u001b[0mstudy\u001b[0m\u001b[1;33m)\u001b[0m\u001b[1;33m\u001b[0m\u001b[1;33m\u001b[0m\u001b[0m\n\u001b[0m\u001b[0;32m      4\u001b[0m \u001b[0mfig\u001b[0m\u001b[1;33m.\u001b[0m\u001b[0mshow\u001b[0m\u001b[1;33m(\u001b[0m\u001b[1;33m)\u001b[0m\u001b[1;33m\u001b[0m\u001b[1;33m\u001b[0m\u001b[0m\n",
      "\u001b[1;32m~\\AppData\\Local\\Packages\\PythonSoftwareFoundation.Python.3.7_qbz5n2kfra8p0\\LocalCache\\local-packages\\Python37\\site-packages\\optuna\\visualization\\_optimization_history.py\u001b[0m in \u001b[0;36mplot_optimization_history\u001b[1;34m(study, target, target_name, error_bar)\u001b[0m\n\u001b[0;32m    198\u001b[0m     \"\"\"\n\u001b[0;32m    199\u001b[0m \u001b[1;33m\u001b[0m\u001b[0m\n\u001b[1;32m--> 200\u001b[1;33m     \u001b[0m_imports\u001b[0m\u001b[1;33m.\u001b[0m\u001b[0mcheck\u001b[0m\u001b[1;33m(\u001b[0m\u001b[1;33m)\u001b[0m\u001b[1;33m\u001b[0m\u001b[1;33m\u001b[0m\u001b[0m\n\u001b[0m\u001b[0;32m    201\u001b[0m \u001b[1;33m\u001b[0m\u001b[0m\n\u001b[0;32m    202\u001b[0m     \u001b[0minfo_list\u001b[0m \u001b[1;33m=\u001b[0m \u001b[0m_get_optimization_history_info_list\u001b[0m\u001b[1;33m(\u001b[0m\u001b[0mstudy\u001b[0m\u001b[1;33m,\u001b[0m \u001b[0mtarget\u001b[0m\u001b[1;33m,\u001b[0m \u001b[0mtarget_name\u001b[0m\u001b[1;33m,\u001b[0m \u001b[0merror_bar\u001b[0m\u001b[1;33m)\u001b[0m\u001b[1;33m\u001b[0m\u001b[1;33m\u001b[0m\u001b[0m\n",
      "\u001b[1;32m~\\AppData\\Local\\Packages\\PythonSoftwareFoundation.Python.3.7_qbz5n2kfra8p0\\LocalCache\\local-packages\\Python37\\site-packages\\optuna\\_imports.py\u001b[0m in \u001b[0;36mcheck\u001b[1;34m(self)\u001b[0m\n\u001b[0;32m     93\u001b[0m         \u001b[1;32mif\u001b[0m \u001b[0mself\u001b[0m\u001b[1;33m.\u001b[0m\u001b[0m_deferred\u001b[0m \u001b[1;32mis\u001b[0m \u001b[1;32mnot\u001b[0m \u001b[1;32mNone\u001b[0m\u001b[1;33m:\u001b[0m\u001b[1;33m\u001b[0m\u001b[1;33m\u001b[0m\u001b[0m\n\u001b[0;32m     94\u001b[0m             \u001b[0mexc_value\u001b[0m\u001b[1;33m,\u001b[0m \u001b[0mmessage\u001b[0m \u001b[1;33m=\u001b[0m \u001b[0mself\u001b[0m\u001b[1;33m.\u001b[0m\u001b[0m_deferred\u001b[0m\u001b[1;33m\u001b[0m\u001b[1;33m\u001b[0m\u001b[0m\n\u001b[1;32m---> 95\u001b[1;33m             \u001b[1;32mraise\u001b[0m \u001b[0mImportError\u001b[0m\u001b[1;33m(\u001b[0m\u001b[0mmessage\u001b[0m\u001b[1;33m)\u001b[0m \u001b[1;32mfrom\u001b[0m \u001b[0mexc_value\u001b[0m\u001b[1;33m\u001b[0m\u001b[1;33m\u001b[0m\u001b[0m\n\u001b[0m\u001b[0;32m     96\u001b[0m \u001b[1;33m\u001b[0m\u001b[0m\n\u001b[0;32m     97\u001b[0m \u001b[1;33m\u001b[0m\u001b[0m\n",
      "\u001b[1;31mImportError\u001b[0m: Tried to import 'plotly' but failed. Please make sure that the package is installed correctly to use this feature. Actual error: No module named 'plotly'."
     ]
    }
   ],
   "source": [
    "import optuna.visualization as vis\n",
    "fig = vis.plot_optimization_history(study)\n",
    "fig.show()"
   ]
  },
  {
   "cell_type": "code",
   "execution_count": 16,
   "metadata": {},
   "outputs": [
    {
     "data": {
      "image/png": "[encoded data removed]",
      "text/plain": [
       "<Figure size 1000x600 with 1 Axes>"
      ]
     },
     "metadata": {},
     "output_type": "display_data"
    }
   ],
   "source": [
    "import matplotlib.pyplot as plt\n",
    "\n",
    "# Extract data from the study\n",
    "trials = study.trials\n",
    "values = [trial.value for trial in trials if trial.value is not None]\n",
    "trial_numbers = range(len(values))\n",
    "\n",
    "# Plot\n",
    "plt.figure(figsize=(10, 6))\n",
    "plt.plot(trial_numbers, values, marker='o', linestyle='-')\n",
    "plt.title('Objective Value Over Trials')\n",
    "plt.xlabel('Trial Number')\n",
    "plt.ylabel('Objective Value (Accuracy)')\n",
    "plt.grid()\n",
    "plt.show()"
   ]
  },
  {
   "cell_type": "code",
   "execution_count": null,
   "metadata": {},
   "outputs": [
    {
     "ename": "NameError",
     "evalue": "name 'study' is not defined",
     "output_type": "error",
     "traceback": [
      "\u001b[1;31m---------------------------------------------------------------------------\u001b[0m",
      "\u001b[1;31mNameError\u001b[0m                                 Traceback (most recent call last)",
      "\u001b[1;32m~\\AppData\\Local\\Temp\\ipykernel_49160\\3862941288.py\u001b[0m in \u001b[0;36m<module>\u001b[1;34m\u001b[0m\n\u001b[0;32m      2\u001b[0m \u001b[1;33m\u001b[0m\u001b[0m\n\u001b[0;32m      3\u001b[0m \u001b[1;31m# Extract the number of layers and the corresponding objective values (accuracy)\u001b[0m\u001b[1;33m\u001b[0m\u001b[1;33m\u001b[0m\u001b[1;33m\u001b[0m\u001b[0m\n\u001b[1;32m----> 4\u001b[1;33m \u001b[0mn_layers\u001b[0m \u001b[1;33m=\u001b[0m \u001b[1;33m[\u001b[0m\u001b[0mtrial\u001b[0m\u001b[1;33m.\u001b[0m\u001b[0mparams\u001b[0m\u001b[1;33m[\u001b[0m\u001b[1;34m'n_layers'\u001b[0m\u001b[1;33m]\u001b[0m \u001b[1;32mfor\u001b[0m \u001b[0mtrial\u001b[0m \u001b[1;32min\u001b[0m \u001b[0mstudy\u001b[0m\u001b[1;33m.\u001b[0m\u001b[0mtrials\u001b[0m \u001b[1;32mif\u001b[0m \u001b[0mtrial\u001b[0m\u001b[1;33m.\u001b[0m\u001b[0mvalue\u001b[0m \u001b[1;32mis\u001b[0m \u001b[1;32mnot\u001b[0m \u001b[1;32mNone\u001b[0m\u001b[1;33m]\u001b[0m\u001b[1;33m\u001b[0m\u001b[1;33m\u001b[0m\u001b[0m\n\u001b[0m\u001b[0;32m      5\u001b[0m \u001b[0maccuracies\u001b[0m \u001b[1;33m=\u001b[0m \u001b[1;33m[\u001b[0m\u001b[0mtrial\u001b[0m\u001b[1;33m.\u001b[0m\u001b[0mvalue\u001b[0m \u001b[1;32mfor\u001b[0m \u001b[0mtrial\u001b[0m \u001b[1;32min\u001b[0m \u001b[0mstudy\u001b[0m\u001b[1;33m.\u001b[0m\u001b[0mtrials\u001b[0m \u001b[1;32mif\u001b[0m \u001b[0mtrial\u001b[0m\u001b[1;33m.\u001b[0m\u001b[0mvalue\u001b[0m \u001b[1;32mis\u001b[0m \u001b[1;32mnot\u001b[0m \u001b[1;32mNone\u001b[0m\u001b[1;33m]\u001b[0m\u001b[1;33m\u001b[0m\u001b[1;33m\u001b[0m\u001b[0m\n\u001b[0;32m      6\u001b[0m \u001b[1;33m\u001b[0m\u001b[0m\n",
      "\u001b[1;31mNameError\u001b[0m: name 'study' is not defined"
     ]
    }
   ],
   "source": [
    "import matplotlib.pyplot as plt\n",
    "\n",
    "# Extract the number of layers and the corresponding objective values (accuracy)\n",
    "n_layers = [trial.params['n_layers'] for trial in study.trials if trial.value is not None]\n",
    "accuracies = [trial.value for trial in study.trials if trial.value is not None]\n",
    "\n",
    "# Create a scatter plot (or you can use a line plot if preferred)\n",
    "plt.figure(figsize=(10, 6))\n",
    "plt.scatter(n_layers, accuracies, c='blue', alpha=0.6)\n",
    "plt.title('Accuracy vs. Number of Hidden Layers')\n",
    "plt.xlabel('Number of Hidden Layers')\n",
    "plt.ylabel('Accuracy')\n",
    "plt.grid(True)"
   ]
  },
  {
   "cell_type": "code",
   "execution_count": null,
   "metadata": {},
   "outputs": [],
   "source": [
    "import seaborn as sns\n",
    "\n",
    "# Extract the number of layers and accuracies\n",
    "n_layers = [trial.params['n_layers'] for trial in study.trials if trial.value is not None]\n",
    "accuracies = [trial.value for trial in study.trials if trial.value is not None]\n",
    "\n",
    "# Combine into a DataFrame for easier plotting\n",
    "import pandas as pd\n",
    "data = pd.DataFrame({'n_layers': n_layers, 'accuracy': accuracies})\n",
    "\n",
    "# Create the box plot\n",
    "plt.figure(figsize=(10, 6))\n",
    "sns.boxplot(x='n_layers', y='accuracy', data=data, palette='Set2')\n",
    "\n",
    "# Customize the plot\n",
    "plt.title('Accuracy vs. Number of Hidden Layers')\n",
    "plt.xlabel('Number of Hidden Layers')\n",
    "plt.ylabel('Accuracy')\n",
    "plt.grid(axis='y')  # Add gridlines for easier comparison\n",
    "plt.show()"
   ]
  }
 ],
 "metadata": {
  "kernelspec": {
   "display_name": "Python 3",
   "language": "python",
   "name": "python3"
  },
  "language_info": {
   "codemirror_mode": {
    "name": "ipython",
    "version": 3
   },
   "file_extension": ".py",
   "mimetype": "text/x-python",
   "name": "python",
   "nbconvert_exporter": "python",
   "pygments_lexer": "ipython3",
   "version": "3.7.9"
  }
 },
 "nbformat": 4,
 "nbformat_minor": 2
}
