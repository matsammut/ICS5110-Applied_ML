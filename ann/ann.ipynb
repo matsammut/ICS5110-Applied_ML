{
 "cells": [
  {
   "cell_type": "code",
   "execution_count": 2,
   "metadata": {},
   "outputs": [
    {
     "name": "stderr",
     "output_type": "stream",
     "text": [
      "C:\\Users\\gianm\\AppData\\Local\\Packages\\PythonSoftwareFoundation.Python.3.7_qbz5n2kfra8p0\\LocalCache\\local-packages\\Python37\\site-packages\\tqdm\\auto.py:21: TqdmWarning: IProgress not found. Please update jupyter and ipywidgets. See https://ipywidgets.readthedocs.io/en/stable/user_install.html\n",
      "  from .autonotebook import tqdm as notebook_tqdm\n"
     ]
    }
   ],
   "source": [
    "import pandas as pd\n",
    "import numpy as np\n",
    "from sklearn.model_selection import StratifiedKFold\n",
    "from sklearn.preprocessing import StandardScaler, LabelEncoder\n",
    "from sklearn.metrics import accuracy_score\n",
    "import tensorflow as tf\n",
    "from tensorflow.keras.models import Sequential, load_model\n",
    "from tensorflow.keras.layers import Dense, Dropout\n",
    "import optuna\n",
    "import matplotlib.pyplot as plt\n",
    "import seaborn as sns"
   ]
  },
  {
   "cell_type": "code",
   "execution_count": 3,
   "metadata": {},
   "outputs": [],
   "source": [
    "def load_data():    \n",
    "    data = pd.read_csv('../dataset.csv')\n",
    "    X = data.drop('income', axis=1)\n",
    "    y = data['income']\n",
    "    return X, y"
   ]
  },
  {
   "cell_type": "code",
   "execution_count": 33,
   "metadata": {},
   "outputs": [],
   "source": [
    "def build_model(trial, input_dim):\n",
    "    model = Sequential()\n",
    "    n_layers = trial.suggest_int(\"n_layers\", 1, 5)\n",
    "\n",
    "    # First Layer\n",
    "    units = trial.suggest_int(f\"n_units_i\", 16, 256, step=16)\n",
    "    model.add(Dense(units, activation=\"relu\", input_dim=input_dim))  # input_dim specified\n",
    "    dropout_rate = trial.suggest_float(f\"dropout_rate\", 0.0, 0.5)\n",
    "    model.add(Dropout(dropout_rate))\n",
    "\n",
    "    # Hidden Layers\n",
    "    units_h = trial.suggest_int(f\"n_units_h\", 16, 256, step=16) \n",
    "    for i in range(n_layers):\n",
    "        model.add(Dense(units_h, activation=\"relu\"))\n",
    "        model.add(Dropout(dropout_rate))\n",
    "\n",
    "    # Output layer\n",
    "    model.add(Dense(1, activation=\"sigmoid\"))\n",
    "    model.compile(optimizer=tf.keras.optimizers.Adam(learning_rate=trial.suggest_float(\"lr\", 1e-4, 1e-2, log=True)),\n",
    "                  loss=\"binary_crossentropy\",\n",
    "                  metrics=[\"accuracy\"])\n",
    "    return model\n"
   ]
  },
  {
   "cell_type": "code",
   "execution_count": 34,
   "metadata": {},
   "outputs": [],
   "source": [
    "from sklearn.metrics import f1_scoren\n"
    "def objective(trial):\n",
    "    X, y = load_data()\n",
    "    scaler = StandardScaler()\n",
    "    X = scaler.fit_transform(X)\n",
    "    \n",
    "    skf = StratifiedKFold(n_splits=5, shuffle=True, random_state=42)\n",
    "    accuracies = []\n",
    "    f1_scores = []\n",
    "\n",
    "    for train_idx, test_idx in skf.split(X, y):\n",
    "        X_train, X_test = X[train_idx], X[test_idx]\n",
    "        y_train, y_test = y[train_idx], y[test_idx]\n",
    "        \n",
    "        model = build_model(trial, input_dim=X_train.shape[1])\n",
    "        model.fit(X_train, y_train, epochs=10, batch_size=128, verbose=0)\n",
    "        y_pred = (model.predict(X_test) > 0.5).astype(int)\n",
    "        accuracies.append(accuracy_score(y_test, y_pred))\n",
    "        f1_scores.append(f1_score(y_test, y_pred))\n",
    "    \n",
    "    avg_accuracy = np.mean(accuracies)n",
    "    avg_f1 = np.mean(f1_scores)n",
    "    print({"accuracy": avg_accuracy, "f1_score": avg_f1})n",
    "    return avg_accuracy
   ]
  },
  {
   "cell_type": "code",
   "execution_count": 35,
   "metadata": {},
   "outputs": [
    {
     "name": "stderr",
     "output_type": "stream",
     "text": [
      "[I 2025-01-25 16:22:39,986] A new study created in memory with name: no-name-82a93816-20f0-4945-93d9-88ee73fff76d\n"
     ]
    },
    {
     "name": "stdout",
     "output_type": "stream",
     "text": [
      "306/306 [==============================] - 0s 838us/step\n",
      "306/306 [==============================] - 0s 972us/step\n",
      "306/306 [==============================] - 0s 1ms/step\n",
      "306/306 [==============================] - 0s 817us/step\n",
      "306/306 [==============================] - 0s 861us/step\n"
     ]
    },
    {
     "name": "stderr",
     "output_type": "stream",
     "text": [
      "[I 2025-01-25 16:23:51,051] Trial 0 finished with value: 0.8328896925196444 and parameters: {'n_layers': 5, 'n_units_i': 192, 'dropout_rate': 0.20257062532613967, 'n_units_h': 208, 'lr': 0.007760424391293601}. Best is trial 0 with value: 0.8328896925196444.\n"
     ]
    },
    {
     "name": "stdout",
     "output_type": "stream",
     "text": [
      "306/306 [==============================] - 0s 505us/step\n",
      "306/306 [==============================] - 0s 516us/step\n",
      "306/306 [==============================] - 0s 487us/step\n",
      "306/306 [==============================] - 0s 505us/step\n",
      "306/306 [==============================] - 0s 518us/step\n"
     ]
    },
    {
     "name": "stderr",
     "output_type": "stream",
     "text": [
      "[I 2025-01-25 16:24:14,384] Trial 1 finished with value: 0.836165494587544 and parameters: {'n_layers': 1, 'n_units_i': 96, 'dropout_rate': 0.32300361336940636, 'n_units_h': 144, 'lr': 0.0029569809970626196}. Best is trial 1 with value: 0.836165494587544.\n"
     ]
    },
    {
     "name": "stdout",
     "output_type": "stream",
     "text": [
      "306/306 [==============================] - 0s 526us/step\n",
      "306/306 [==============================] - 0s 526us/step\n",
      "306/306 [==============================] - 0s 521us/step\n",
      "306/306 [==============================] - 0s 523us/step\n",
      "306/306 [==============================] - 0s 536us/step\n"
     ]
    },
    {
     "name": "stderr",
     "output_type": "stream",
     "text": [
      "[I 2025-01-25 16:24:41,501] Trial 2 finished with value: 0.8359608198358325 and parameters: {'n_layers': 2, 'n_units_i': 48, 'dropout_rate': 0.22629758274634276, 'n_units_h': 144, 'lr': 0.0011375657054693144}. Best is trial 1 with value: 0.836165494587544.\n"
     ]
    },
    {
     "name": "stdout",
     "output_type": "stream",
     "text": [
      "306/306 [==============================] - 0s 523us/step\n",
      "306/306 [==============================] - 0s 544us/step\n",
      "306/306 [==============================] - 0s 508us/step\n",
      "306/306 [==============================] - 0s 505us/step\n",
      "306/306 [==============================] - 0s 516us/step\n"
     ]
    },
    {
     "name": "stderr",
     "output_type": "stream",
     "text": [
      "[I 2025-01-25 16:25:17,083] Trial 3 finished with value: 0.8364111990250797 and parameters: {'n_layers': 3, 'n_units_i': 80, 'dropout_rate': 0.2181503398077852, 'n_units_h': 144, 'lr': 0.005018254185052077}. Best is trial 3 with value: 0.8364111990250797.\n"
     ]
    },
    {
     "name": "stdout",
     "output_type": "stream",
     "text": [
      "306/306 [==============================] - 0s 682us/step\n",
      "306/306 [==============================] - 0s 713us/step\n",
      "306/306 [==============================] - 0s 670us/step\n",
      "306/306 [==============================] - 0s 643us/step\n",
      "306/306 [==============================] - 0s 710us/step\n"
     ]
    },
    {
     "name": "stderr",
     "output_type": "stream",
     "text": [
      "[I 2025-01-25 16:26:05,488] Trial 4 finished with value: 0.8364931200661573 and parameters: {'n_layers': 3, 'n_units_i': 176, 'dropout_rate': 0.08259168280043117, 'n_units_h': 224, 'lr': 0.00010149366759625657}. Best is trial 4 with value: 0.8364931200661573.\n"
     ]
    },
    {
     "name": "stdout",
     "output_type": "stream",
     "text": [
      "306/306 [==============================] - 0s 551us/step\n",
      "306/306 [==============================] - 0s 523us/step\n",
      "306/306 [==============================] - 0s 566us/step\n",
      "306/306 [==============================] - 0s 521us/step\n",
      "306/306 [==============================] - 0s 564us/step\n"
     ]
    },
    {
     "name": "stderr",
     "output_type": "stream",
     "text": [
      "[I 2025-01-25 16:26:40,487] Trial 5 finished with value: 0.8336063182362702 and parameters: {'n_layers': 4, 'n_units_i': 48, 'dropout_rate': 0.4497587521021818, 'n_units_h': 128, 'lr': 0.0007915578057514805}. Best is trial 4 with value: 0.8364931200661573.\n"
     ]
    },
    {
     "name": "stdout",
     "output_type": "stream",
     "text": [
      "306/306 [==============================] - 0s 687us/step\n",
      "306/306 [==============================] - 0s 708us/step\n",
      "306/306 [==============================] - 0s 666us/step\n",
      "306/306 [==============================] - 0s 692us/step\n",
      "306/306 [==============================] - 0s 654us/step\n"
     ]
    },
    {
     "name": "stderr",
     "output_type": "stream",
     "text": [
      "[I 2025-01-25 16:27:43,738] Trial 6 finished with value: 0.8353056757704114 and parameters: {'n_layers': 5, 'n_units_i': 224, 'dropout_rate': 0.16489781160799633, 'n_units_h': 192, 'lr': 0.0006518683580678779}. Best is trial 4 with value: 0.8364931200661573.\n"
     ]
    },
    {
     "name": "stdout",
     "output_type": "stream",
     "text": [
      "306/306 [==============================] - 0s 582us/step\n",
      "306/306 [==============================] - 0s 567us/step\n",
      "306/306 [==============================] - 0s 577us/step\n",
      "306/306 [==============================] - 0s 566us/step\n",
      "306/306 [==============================] - 0s 574us/step\n"
     ]
    },
    {
     "name": "stderr",
     "output_type": "stream",
     "text": [
      "[I 2025-01-25 16:28:15,594] Trial 7 finished with value: 0.8367797850242317 and parameters: {'n_layers': 2, 'n_units_i': 240, 'dropout_rate': 0.12420414625383108, 'n_units_h': 144, 'lr': 0.0017723879458730358}. Best is trial 7 with value: 0.8367797850242317.\n"
     ]
    },
    {
     "name": "stdout",
     "output_type": "stream",
     "text": [
      "306/306 [==============================] - 0s 528us/step\n",
      "306/306 [==============================] - 0s 536us/step\n",
      "306/306 [==============================] - 0s 557us/step\n",
      "306/306 [==============================] - 0s 564us/step\n",
      "306/306 [==============================] - 0s 521us/step\n"
     ]
    },
    {
     "name": "stderr",
     "output_type": "stream",
     "text": [
      "[I 2025-01-25 16:28:48,580] Trial 8 finished with value: 0.8356127004734846 and parameters: {'n_layers': 2, 'n_units_i': 128, 'dropout_rate': 0.43010549580447965, 'n_units_h': 192, 'lr': 0.003394014939010898}. Best is trial 7 with value: 0.8367797850242317.\n"
     ]
    },
    {
     "name": "stdout",
     "output_type": "stream",
     "text": [
      "306/306 [==============================] - 0s 530us/step\n",
      "306/306 [==============================] - 0s 539us/step\n",
      "306/306 [==============================] - 0s 526us/step\n",
      "306/306 [==============================] - 0s 505us/step\n",
      "306/306 [==============================] - 0s 543us/step\n"
     ]
    },
    {
     "name": "stderr",
     "output_type": "stream",
     "text": [
      "[I 2025-01-25 16:29:17,369] Trial 9 finished with value: 0.835100900414648 and parameters: {'n_layers': 2, 'n_units_i': 80, 'dropout_rate': 0.4434690929248891, 'n_units_h': 80, 'lr': 0.0016183092480077518}. Best is trial 7 with value: 0.8367797850242317.\n"
     ]
    },
    {
     "name": "stdout",
     "output_type": "stream",
     "text": [
      "306/306 [==============================] - 0s 543us/step\n",
      "306/306 [==============================] - 0s 479us/step\n",
      "306/306 [==============================] - 0s 525us/step\n",
      "306/306 [==============================] - 0s 535us/step\n",
      "306/306 [==============================] - 0s 513us/step\n"
     ]
    },
    {
     "name": "stderr",
     "output_type": "stream",
     "text": [
      "[I 2025-01-25 16:29:36,095] Trial 10 finished with value: 0.8357151070146258 and parameters: {'n_layers': 1, 'n_units_i': 240, 'dropout_rate': 0.008920859158868963, 'n_units_h': 16, 'lr': 0.0002841990746566908}. Best is trial 7 with value: 0.8367797850242317.\n"
     ]
    },
    {
     "name": "stdout",
     "output_type": "stream",
     "text": [
      "306/306 [==============================] - 0s 639us/step\n",
      "306/306 [==============================] - 0s 680us/step\n",
      "306/306 [==============================] - 0s 677us/step\n",
      "306/306 [==============================] - 0s 625us/step\n",
      "306/306 [==============================] - 0s 689us/step\n"
     ]
    },
    {
     "name": "stderr",
     "output_type": "stream",
     "text": [
      "[I 2025-01-25 16:30:27,922] Trial 11 finished with value: 0.8361041386914044 and parameters: {'n_layers': 3, 'n_units_i': 176, 'dropout_rate': 0.0605772132274911, 'n_units_h': 256, 'lr': 0.00010542881901893786}. Best is trial 7 with value: 0.8367797850242317.\n"
     ]
    },
    {
     "name": "stdout",
     "output_type": "stream",
     "text": [
      "306/306 [==============================] - 0s 644us/step\n",
      "306/306 [==============================] - 0s 643us/step\n",
      "306/306 [==============================] - 0s 672us/step\n",
      "306/306 [==============================] - 0s 680us/step\n",
      "306/306 [==============================] - 0s 626us/step\n"
     ]
    },
    {
     "name": "stderr",
     "output_type": "stream",
     "text": [
      "[I 2025-01-25 16:31:26,890] Trial 12 finished with value: 0.8364931116824863 and parameters: {'n_layers': 4, 'n_units_i': 176, 'dropout_rate': 0.09971914820409511, 'n_units_h': 240, 'lr': 0.00011981886845628858}. Best is trial 7 with value: 0.8367797850242317.\n"
     ]
    },
    {
     "name": "stdout",
     "output_type": "stream",
     "text": [
      "306/306 [==============================] - 0s 512us/step\n",
      "306/306 [==============================] - 0s 498us/step\n",
      "306/306 [==============================] - 0s 533us/step\n",
      "306/306 [==============================] - 0s 513us/step\n",
      "306/306 [==============================] - 0s 566us/step\n"
     ]
    },
    {
     "name": "stderr",
     "output_type": "stream",
     "text": [
      "[I 2025-01-25 16:32:02,164] Trial 13 finished with value: 0.83669784931173 and parameters: {'n_layers': 3, 'n_units_i': 208, 'dropout_rate': 0.12338932347546284, 'n_units_h': 80, 'lr': 0.0003585972355784372}. Best is trial 7 with value: 0.8367797850242317.\n"
     ]
    },
    {
     "name": "stdout",
     "output_type": "stream",
     "text": [
      "306/306 [==============================] - 0s 592us/step\n",
      "306/306 [==============================] - 0s 549us/step\n",
      "306/306 [==============================] - 0s 549us/step\n",
      "306/306 [==============================] - 0s 582us/step\n",
      "306/306 [==============================] - 0s 597us/step\n"
     ]
    },
    {
     "name": "stderr",
     "output_type": "stream",
     "text": [
      "[I 2025-01-25 16:32:33,185] Trial 14 finished with value: 0.8363907617311239 and parameters: {'n_layers': 2, 'n_units_i': 256, 'dropout_rate': 0.31863451381706304, 'n_units_h': 80, 'lr': 0.00046124589086814883}. Best is trial 7 with value: 0.8367797850242317.\n"
     ]
    },
    {
     "name": "stdout",
     "output_type": "stream",
     "text": [
      "306/306 [==============================] - 0s 579us/step\n",
      "306/306 [==============================] - 0s 543us/step\n",
      "306/306 [==============================] - 0s 556us/step\n",
      "306/306 [==============================] - 0s 534us/step\n",
      "306/306 [==============================] - 0s 538us/step\n"
     ]
    },
    {
     "name": "stderr",
     "output_type": "stream",
     "text": [
      "[I 2025-01-25 16:33:14,322] Trial 15 finished with value: 0.8371687999336684 and parameters: {'n_layers': 4, 'n_units_i': 208, 'dropout_rate': 0.13949398926143974, 'n_units_h': 80, 'lr': 0.00027103013990727843}. Best is trial 15 with value: 0.8371687999336684.\n"
     ]
    },
    {
     "name": "stdout",
     "output_type": "stream",
     "text": [
      "306/306 [==============================] - 0s 513us/step\n",
      "306/306 [==============================] - 0s 502us/step\n",
      "306/306 [==============================] - 0s 508us/step\n",
      "306/306 [==============================] - 0s 557us/step\n",
      "306/306 [==============================] - 0s 508us/step\n"
     ]
    },
    {
     "name": "stderr",
     "output_type": "stream",
     "text": [
      "[I 2025-01-25 16:33:40,520] Trial 16 finished with value: 0.8344457102390361 and parameters: {'n_layers': 4, 'n_units_i': 144, 'dropout_rate': 0.2935346081693752, 'n_units_h': 32, 'lr': 0.0017343787255819805}. Best is trial 15 with value: 0.8371687999336684.\n"
     ]
    },
    {
     "name": "stdout",
     "output_type": "stream",
     "text": [
      "306/306 [==============================] - 0s 607us/step\n",
      "306/306 [==============================] - 0s 615us/step\n",
      "306/306 [==============================] - 0s 661us/step\n",
      "306/306 [==============================] - 0s 654us/step\n",
      "306/306 [==============================] - 0s 635us/step\n"
     ]
    },
    {
     "name": "stderr",
     "output_type": "stream",
     "text": [
      "[I 2025-01-25 16:34:35,137] Trial 17 finished with value: 0.8360017405339342 and parameters: {'n_layers': 4, 'n_units_i': 256, 'dropout_rate': 0.16239851331401622, 'n_units_h': 112, 'lr': 0.00020848123094484352}. Best is trial 15 with value: 0.8371687999336684.\n"
     ]
    },
    {
     "name": "stdout",
     "output_type": "stream",
     "text": [
      "306/306 [==============================] - 0s 531us/step\n",
      "306/306 [==============================] - 0s 508us/step\n",
      "306/306 [==============================] - 0s 513us/step\n",
      "306/306 [==============================] - 0s 516us/step\n",
      "306/306 [==============================] - 0s 521us/step\n"
     ]
    },
    {
     "name": "stderr",
     "output_type": "stream",
     "text": [
      "[I 2025-01-25 16:35:11,048] Trial 18 finished with value: 0.834896139730309 and parameters: {'n_layers': 5, 'n_units_i': 224, 'dropout_rate': 0.00870036634316168, 'n_units_h': 48, 'lr': 0.0014382524240482036}. Best is trial 15 with value: 0.8371687999336684.\n"
     ]
    },
    {
     "name": "stdout",
     "output_type": "stream",
     "text": [
      "306/306 [==============================] - 0s 477us/step\n",
      "306/306 [==============================] - 0s 500us/step\n",
      "306/306 [==============================] - 0s 487us/step\n",
      "306/306 [==============================] - 0s 515us/step\n",
      "306/306 [==============================] - 0s 508us/step\n"
     ]
    },
    {
     "name": "stderr",
     "output_type": "stream",
     "text": [
      "[I 2025-01-25 16:35:33,880] Trial 19 finished with value: 0.8361654966834617 and parameters: {'n_layers': 1, 'n_units_i': 144, 'dropout_rate': 0.16648824943569268, 'n_units_h': 176, 'lr': 0.000539103674585869}. Best is trial 15 with value: 0.8371687999336684.\n"
     ]
    },
    {
     "name": "stdout",
     "output_type": "stream",
     "text": [
      "306/306 [==============================] - 0s 508us/step\n",
      "306/306 [==============================] - 0s 490us/step\n",
      "306/306 [==============================] - 0s 525us/step\n",
      "306/306 [==============================] - 0s 502us/step\n",
      "306/306 [==============================] - 0s 533us/step\n"
     ]
    },
    {
     "name": "stderr",
     "output_type": "stream",
     "text": [
      "[I 2025-01-25 16:36:12,355] Trial 20 finished with value: 0.8275459867408891 and parameters: {'n_layers': 3, 'n_units_i': 16, 'dropout_rate': 0.3780590259353795, 'n_units_h': 112, 'lr': 0.00021344312563443982}. Best is trial 15 with value: 0.8371687999336684.\n"
     ]
    },
    {
     "name": "stdout",
     "output_type": "stream",
     "text": [
      "306/306 [==============================] - 0s 515us/step\n",
      "306/306 [==============================] - 0s 535us/step\n",
      "306/306 [==============================] - 0s 548us/step\n",
      "306/306 [==============================] - 0s 525us/step\n",
      "306/306 [==============================] - 0s 556us/step\n"
     ]
    },
    {
     "name": "stderr",
     "output_type": "stream",
     "text": [
      "[I 2025-01-25 16:36:48,617] Trial 21 finished with value: 0.8357355820351009 and parameters: {'n_layers': 3, 'n_units_i': 208, 'dropout_rate': 0.10757772503365207, 'n_units_h': 80, 'lr': 0.00034107231175132277}. Best is trial 15 with value: 0.8371687999336684.\n"
     ]
    },
    {
     "name": "stdout",
     "output_type": "stream",
     "text": [
      "306/306 [==============================] - 0s 510us/step\n",
      "306/306 [==============================] - 0s 508us/step\n",
      "306/306 [==============================] - 0s 503us/step\n",
      "306/306 [==============================] - 0s 546us/step\n",
      "306/306 [==============================] - 0s 523us/step\n"
     ]
    },
    {
     "name": "stderr",
     "output_type": "stream",
     "text": [
      "[I 2025-01-25 16:37:25,137] Trial 22 finished with value: 0.8365136223335629 and parameters: {'n_layers': 4, 'n_units_i': 208, 'dropout_rate': 0.1318875260410648, 'n_units_h': 64, 'lr': 0.0003666374005854768}. Best is trial 15 with value: 0.8371687999336684.\n"
     ]
    },
    {
     "name": "stdout",
     "output_type": "stream",
     "text": [
      "306/306 [==============================] - 0s 561us/step\n",
      "306/306 [==============================] - 0s 551us/step\n",
      "306/306 [==============================] - 0s 567us/step\n",
      "306/306 [==============================] - 0s 594us/step\n",
      "306/306 [==============================] - 0s 569us/step\n"
     ]
    },
    {
     "name": "stderr",
     "output_type": "stream",
     "text": [
      "[I 2025-01-25 16:38:01,454] Trial 23 finished with value: 0.8362270097734321 and parameters: {'n_layers': 2, 'n_units_i': 224, 'dropout_rate': 0.040074986726023706, 'n_units_h': 112, 'lr': 0.00017987540106179388}. Best is trial 15 with value: 0.8371687999336684.\n"
     ]
    },
    {
     "name": "stdout",
     "output_type": "stream",
     "text": [
      "306/306 [==============================] - 0s 612us/step\n",
      "306/306 [==============================] - 0s 612us/step\n",
      "306/306 [==============================] - 0s 585us/step\n",
      "306/306 [==============================] - 0s 574us/step\n",
      "306/306 [==============================] - 0s 621us/step\n"
     ]
    },
    {
     "name": "stderr",
     "output_type": "stream",
     "text": [
      "[I 2025-01-25 16:38:43,360] Trial 24 finished with value: 0.8363702594637183 and parameters: {'n_layers': 3, 'n_units_i': 256, 'dropout_rate': 0.26087020525638627, 'n_units_h': 96, 'lr': 0.0008223871721541441}. Best is trial 15 with value: 0.8371687999336684.\n"
     ]
    },
    {
     "name": "stdout",
     "output_type": "stream",
     "text": [
      "306/306 [==============================] - 0s 520us/step\n",
      "306/306 [==============================] - 0s 520us/step\n",
      "306/306 [==============================] - 0s 515us/step\n",
      "306/306 [==============================] - 0s 502us/step\n",
      "306/306 [==============================] - 0s 526us/step\n"
     ]
    },
    {
     "name": "stderr",
     "output_type": "stream",
     "text": [
      "[I 2025-01-25 16:39:07,617] Trial 25 finished with value: 0.8367387804894204 and parameters: {'n_layers': 2, 'n_units_i': 192, 'dropout_rate': 0.13822600543647728, 'n_units_h': 48, 'lr': 0.0023835374608486923}. Best is trial 15 with value: 0.8371687999336684.\n"
     ]
    },
    {
     "name": "stdout",
     "output_type": "stream",
     "text": [
      "306/306 [==============================] - 0s 500us/step\n",
      "306/306 [==============================] - 0s 518us/step\n",
      "306/306 [==============================] - 0s 535us/step\n",
      "306/306 [==============================] - 0s 523us/step\n",
      "306/306 [==============================] - 0s 551us/step\n"
     ]
    },
    {
     "name": "stderr",
     "output_type": "stream",
     "text": [
      "[I 2025-01-25 16:39:31,554] Trial 26 finished with value: 0.8357356323371269 and parameters: {'n_layers': 2, 'n_units_i': 160, 'dropout_rate': 0.49715082048337866, 'n_units_h': 48, 'lr': 0.0023516226603840346}. Best is trial 15 with value: 0.8371687999336684.\n"
     ]
    },
    {
     "name": "stdout",
     "output_type": "stream",
     "text": [
      "306/306 [==============================] - 0s 587us/step\n",
      "306/306 [==============================] - 0s 557us/step\n",
      "306/306 [==============================] - 0s 595us/step\n",
      "306/306 [==============================] - 0s 580us/step\n",
      "306/306 [==============================] - 0s 626us/step\n"
     ]
    },
    {
     "name": "stderr",
     "output_type": "stream",
     "text": [
      "[I 2025-01-25 16:39:57,651] Trial 27 finished with value: 0.8353875527972161 and parameters: {'n_layers': 1, 'n_units_i': 240, 'dropout_rate': 0.18849152615617948, 'n_units_h': 160, 'lr': 0.0047296151436853045}. Best is trial 15 with value: 0.8371687999336684.\n"
     ]
    },
    {
     "name": "stdout",
     "output_type": "stream",
     "text": [
      "306/306 [==============================] - 0s 528us/step\n",
      "306/306 [==============================] - 0s 516us/step\n",
      "306/306 [==============================] - 0s 536us/step\n",
      "306/306 [==============================] - 0s 526us/step\n",
      "306/306 [==============================] - 0s 541us/step\n"
     ]
    },
    {
     "name": "stderr",
     "output_type": "stream",
     "text": [
      "[I 2025-01-25 16:40:17,729] Trial 28 finished with value: 0.8357151426452276 and parameters: {'n_layers': 2, 'n_units_i': 192, 'dropout_rate': 0.13846328239697728, 'n_units_h': 16, 'lr': 0.0011374688827902927}. Best is trial 15 with value: 0.8371687999336684.\n"
     ]
    },
    {
     "name": "stdout",
     "output_type": "stream",
     "text": [
      "306/306 [==============================] - 0s 539us/step\n",
      "306/306 [==============================] - 0s 572us/step\n",
      "306/306 [==============================] - 0s 567us/step\n",
      "306/306 [==============================] - 0s 607us/step\n",
      "306/306 [==============================] - 0s 530us/step\n"
     ]
    },
    {
     "name": "stderr",
     "output_type": "stream",
     "text": [
      "[I 2025-01-25 16:40:53,889] Trial 29 finished with value: 0.8360222700482707 and parameters: {'n_layers': 5, 'n_units_i': 192, 'dropout_rate': 0.061927015751481185, 'n_units_h': 48, 'lr': 0.009435305176043166}. Best is trial 15 with value: 0.8371687999336684.\n"
     ]
    },
    {
     "name": "stdout",
     "output_type": "stream",
     "text": [
      "306/306 [==============================] - 0s 531us/step\n",
      "306/306 [==============================] - 0s 530us/step\n",
      "306/306 [==============================] - 0s 498us/step\n",
      "306/306 [==============================] - 0s 485us/step\n",
      "306/306 [==============================] - 0s 510us/step\n"
     ]
    },
    {
     "name": "stderr",
     "output_type": "stream",
     "text": [
      "[I 2025-01-25 16:41:14,308] Trial 30 finished with value: 0.8359812718012124 and parameters: {'n_layers': 1, 'n_units_i': 128, 'dropout_rate': 0.21579556777507702, 'n_units_h': 64, 'lr': 0.005908910135098205}. Best is trial 15 with value: 0.8371687999336684.\n"
     ]
    },
    {
     "name": "stdout",
     "output_type": "stream",
     "text": [
      "306/306 [==============================] - 0s 549us/step\n",
      "306/306 [==============================] - 0s 543us/step\n",
      "306/306 [==============================] - 0s 571us/step\n",
      "306/306 [==============================] - 0s 566us/step\n",
      "306/306 [==============================] - 0s 587us/step\n"
     ]
    },
    {
     "name": "stderr",
     "output_type": "stream",
     "text": [
      "[I 2025-01-25 16:41:54,530] Trial 31 finished with value: 0.8356331775898773 and parameters: {'n_layers': 3, 'n_units_i': 208, 'dropout_rate': 0.1319926982286925, 'n_units_h': 96, 'lr': 0.002260069011021207}. Best is trial 15 with value: 0.8371687999336684.\n"
     ]
    },
    {
     "name": "stdout",
     "output_type": "stream",
     "text": [
      "306/306 [==============================] - 0s 617us/step\n",
      "306/306 [==============================] - 0s 566us/step\n",
      "306/306 [==============================] - 0s 554us/step\n",
      "306/306 [==============================] - 0s 579us/step\n",
      "306/306 [==============================] - 0s 626us/step\n"
     ]
    },
    {
     "name": "stderr",
     "output_type": "stream",
     "text": [
      "[I 2025-01-25 16:42:24,953] Trial 32 finished with value: 0.8356946885839301 and parameters: {'n_layers': 2, 'n_units_i': 240, 'dropout_rate': 0.26337646852873536, 'n_units_h': 128, 'lr': 0.0032878324706567784}. Best is trial 15 with value: 0.8371687999336684.\n"
     ]
    },
    {
     "name": "stdout",
     "output_type": "stream",
     "text": [
      "306/306 [==============================] - 0s 715us/step\n",
      "306/306 [==============================] - 0s 671us/step\n",
      "306/306 [==============================] - 0s 654us/step\n",
      "306/306 [==============================] - 0s 698us/step\n",
      "306/306 [==============================] - 0s 695us/step\n"
     ]
    },
    {
     "name": "stderr",
     "output_type": "stream",
     "text": [
      "[I 2025-01-25 16:43:15,691] Trial 33 finished with value: 0.8348756940526825 and parameters: {'n_layers': 4, 'n_units_i': 208, 'dropout_rate': 0.19169476876757194, 'n_units_h': 160, 'lr': 0.00014825653541054374}. Best is trial 15 with value: 0.8371687999336684.\n"
     ]
    },
    {
     "name": "stdout",
     "output_type": "stream",
     "text": [
      "306/306 [==============================] - 0s 548us/step\n",
      "306/306 [==============================] - 0s 548us/step\n",
      "306/306 [==============================] - 0s 546us/step\n",
      "306/306 [==============================] - 0s 505us/step\n",
      "306/306 [==============================] - 0s 495us/step\n"
     ]
    },
    {
     "name": "stderr",
     "output_type": "stream",
     "text": [
      "[I 2025-01-25 16:43:41,204] Trial 34 finished with value: 0.8362678550184948 and parameters: {'n_layers': 3, 'n_units_i': 192, 'dropout_rate': 0.10280216458498036, 'n_units_h': 32, 'lr': 0.0022734407218970654}. Best is trial 15 with value: 0.8371687999336684.\n"
     ]
    },
    {
     "name": "stdout",
     "output_type": "stream",
     "text": [
      "306/306 [==============================] - 0s 512us/step\n",
      "306/306 [==============================] - 0s 498us/step\n",
      "306/306 [==============================] - 0s 535us/step\n",
      "306/306 [==============================] - 0s 508us/step\n",
      "306/306 [==============================] - 0s 507us/step\n"
     ]
    },
    {
     "name": "stderr",
     "output_type": "stream",
     "text": [
      "[I 2025-01-25 16:44:12,163] Trial 35 finished with value: 0.8367388098322687 and parameters: {'n_layers': 2, 'n_units_i': 160, 'dropout_rate': 0.05251039675060282, 'n_units_h': 96, 'lr': 0.00030064510077537334}. Best is trial 15 with value: 0.8371687999336684.\n"
     ]
    },
    {
     "name": "stdout",
     "output_type": "stream",
     "text": [
      "306/306 [==============================] - 0s 512us/step\n",
      "306/306 [==============================] - 0s 512us/step\n",
      "306/306 [==============================] - 0s 510us/step\n",
      "306/306 [==============================] - 0s 530us/step\n",
      "306/306 [==============================] - 0s 515us/step\n"
     ]
    },
    {
     "name": "stderr",
     "output_type": "stream",
     "text": [
      "[I 2025-01-25 16:44:43,587] Trial 36 finished with value: 0.8357969798495952 and parameters: {'n_layers': 2, 'n_units_i': 160, 'dropout_rate': 0.046711782757713385, 'n_units_h': 96, 'lr': 0.0009862547561943563}. Best is trial 15 with value: 0.8371687999336684.\n"
     ]
    },
    {
     "name": "stdout",
     "output_type": "stream",
     "text": [
      "306/306 [==============================] - 0s 494us/step\n",
      "306/306 [==============================] - 0s 533us/step\n",
      "306/306 [==============================] - 0s 533us/step\n",
      "306/306 [==============================] - 0s 523us/step\n",
      "306/306 [==============================] - 0s 564us/step\n"
     ]
    },
    {
     "name": "stderr",
     "output_type": "stream",
     "text": [
      "[I 2025-01-25 16:45:08,166] Trial 37 finished with value: 0.8362474847939072 and parameters: {'n_layers': 1, 'n_units_i': 112, 'dropout_rate': 0.0842585998972778, 'n_units_h': 144, 'lr': 0.0002638327176448062}. Best is trial 15 with value: 0.8371687999336684.\n"
     ]
    },
    {
     "name": "stdout",
     "output_type": "stream",
     "text": [
      "306/306 [==============================] - 0s 495us/step\n",
      "306/306 [==============================] - 0s 490us/step\n",
      "306/306 [==============================] - 0s 499us/step\n",
      "306/306 [==============================] - 0s 498us/step\n",
      "306/306 [==============================] - 0s 512us/step\n"
     ]
    },
    {
     "name": "stderr",
     "output_type": "stream",
     "text": [
      "[I 2025-01-25 16:45:35,966] Trial 38 finished with value: 0.8357970112883615 and parameters: {'n_layers': 2, 'n_units_i': 160, 'dropout_rate': 0.2418492105950477, 'n_units_h': 128, 'lr': 0.0041476953850920276}. Best is trial 15 with value: 0.8371687999336684.\n"
     ]
    },
    {
     "name": "stdout",
     "output_type": "stream",
     "text": [
      "306/306 [==============================] - 0s 533us/step\n",
      "306/306 [==============================] - 0s 512us/step\n",
      "306/306 [==============================] - 0s 513us/step\n",
      "306/306 [==============================] - 0s 523us/step\n",
      "306/306 [==============================] - 0s 503us/step\n"
     ]
    },
    {
     "name": "stderr",
     "output_type": "stream",
     "text": [
      "[I 2025-01-25 16:46:02,698] Trial 39 finished with value: 0.8360426654238712 and parameters: {'n_layers': 2, 'n_units_i': 176, 'dropout_rate': 0.16736790353655107, 'n_units_h': 64, 'lr': 0.0005220783069209064}. Best is trial 15 with value: 0.8371687999336684.\n"
     ]
    },
    {
     "name": "stdout",
     "output_type": "stream",
     "text": [
      "306/306 [==============================] - 0s 515us/step\n",
      "306/306 [==============================] - 0s 497us/step\n",
      "306/306 [==============================] - 0s 523us/step\n",
      "306/306 [==============================] - 0s 510us/step\n",
      "306/306 [==============================] - 0s 480us/step\n"
     ]
    },
    {
     "name": "stderr",
     "output_type": "stream",
     "text": [
      "[I 2025-01-25 16:46:28,078] Trial 40 finished with value: 0.8366364200584695 and parameters: {'n_layers': 1, 'n_units_i': 112, 'dropout_rate': 0.0264140336920054, 'n_units_h': 160, 'lr': 0.0007029105800953705}. Best is trial 15 with value: 0.8371687999336684.\n"
     ]
    },
    {
     "name": "stdout",
     "output_type": "stream",
     "text": [
      "306/306 [==============================] - 0s 538us/step\n",
      "306/306 [==============================] - 0s 531us/step\n",
      "306/306 [==============================] - 0s 538us/step\n",
      "306/306 [==============================] - 0s 544us/step\n",
      "306/306 [==============================] - 0s 543us/step\n"
     ]
    },
    {
     "name": "stderr",
     "output_type": "stream",
     "text": [
      "[I 2025-01-25 16:47:03,760] Trial 41 finished with value: 0.8362064236693165 and parameters: {'n_layers': 3, 'n_units_i': 224, 'dropout_rate': 0.12794756677209476, 'n_units_h': 80, 'lr': 0.0004010986721302039}. Best is trial 15 with value: 0.8371687999336684.\n"
     ]
    },
    {
     "name": "stdout",
     "output_type": "stream",
     "text": [
      "306/306 [==============================] - 0s 595us/step\n",
      "306/306 [==============================] - 0s 610us/step\n",
      "306/306 [==============================] - 0s 559us/step\n",
      "306/306 [==============================] - 0s 548us/step\n",
      "306/306 [==============================] - 0s 561us/step\n"
     ]
    },
    {
     "name": "stderr",
     "output_type": "stream",
     "text": [
      "[I 2025-01-25 16:47:43,751] Trial 42 finished with value: 0.8362475141367556 and parameters: {'n_layers': 3, 'n_units_i': 240, 'dropout_rate': 0.07423930836406417, 'n_units_h': 96, 'lr': 0.0002581431306145824}. Best is trial 15 with value: 0.8371687999336684.\n"
     ]
    },
    {
     "name": "stdout",
     "output_type": "stream",
     "text": [
      "306/306 [==============================] - 0s 490us/step\n",
      "306/306 [==============================] - 0s 484us/step\n",
      "306/306 [==============================] - 0s 507us/step\n",
      "306/306 [==============================] - 0s 479us/step\n",
      "306/306 [==============================] - 0s 525us/step\n"
     ]
    },
    {
     "name": "stderr",
     "output_type": "stream",
     "text": [
      "[I 2025-01-25 16:48:10,119] Trial 43 finished with value: 0.8344252624654918 and parameters: {'n_layers': 2, 'n_units_i': 192, 'dropout_rate': 0.10757818275242106, 'n_units_h': 64, 'lr': 0.00014780031689632422}. Best is trial 15 with value: 0.8371687999336684.\n"
     ]
    },
    {
     "name": "stdout",
     "output_type": "stream",
     "text": [
      "306/306 [==============================] - 0s 498us/step\n",
      "306/306 [==============================] - 0s 505us/step\n",
      "306/306 [==============================] - 0s 494us/step\n",
      "306/306 [==============================] - 0s 505us/step\n",
      "306/306 [==============================] - 0s 502us/step\n"
     ]
    },
    {
     "name": "stderr",
     "output_type": "stream",
     "text": [
      "[I 2025-01-25 16:48:44,592] Trial 44 finished with value: 0.8354080194340201 and parameters: {'n_layers': 2, 'n_units_i': 176, 'dropout_rate': 0.14863188671940794, 'n_units_h': 112, 'lr': 0.001328991596563098}. Best is trial 15 with value: 0.8371687999336684.\n"
     ]
    },
    {
     "name": "stdout",
     "output_type": "stream",
     "text": [
      "306/306 [==============================] - 0s 510us/step\n",
      "306/306 [==============================] - 0s 497us/step\n",
      "306/306 [==============================] - 0s 499us/step\n",
      "306/306 [==============================] - 0s 487us/step\n",
      "306/306 [==============================] - 0s 543us/step\n"
     ]
    },
    {
     "name": "stderr",
     "output_type": "stream",
     "text": [
      "[I 2025-01-25 16:49:10,019] Trial 45 finished with value: 0.8347938086422066 and parameters: {'n_layers': 3, 'n_units_i': 224, 'dropout_rate': 0.08407220271062693, 'n_units_h': 32, 'lr': 0.0018870239768340724}. Best is trial 15 with value: 0.8371687999336684.\n"
     ]
    },
    {
     "name": "stdout",
     "output_type": "stream",
     "text": [
      "306/306 [==============================] - 0s 526us/step\n",
      "306/306 [==============================] - 0s 535us/step\n",
      "306/306 [==============================] - 0s 562us/step\n",
      "306/306 [==============================] - 0s 530us/step\n",
      "306/306 [==============================] - 0s 544us/step\n"
     ]
    },
    {
     "name": "stderr",
     "output_type": "stream",
     "text": [
      "[I 2025-01-25 16:49:56,411] Trial 46 finished with value: 0.8364726639089419 and parameters: {'n_layers': 5, 'n_units_i': 208, 'dropout_rate': 0.2112782410068993, 'n_units_h': 80, 'lr': 0.002815518777649343}. Best is trial 15 with value: 0.8371687999336684.\n"
     ]
    },
    {
     "name": "stdout",
     "output_type": "stream",
     "text": [
      "306/306 [==============================] - 0s 595us/step\n",
      "306/306 [==============================] - 0s 553us/step\n",
      "306/306 [==============================] - 0s 549us/step\n",
      "306/306 [==============================] - 0s 597us/step\n",
      "306/306 [==============================] - 0s 610us/step\n"
     ]
    },
    {
     "name": "stderr",
     "output_type": "stream",
     "text": [
      "[I 2025-01-25 16:50:36,642] Trial 47 finished with value: 0.8356536588981056 and parameters: {'n_layers': 4, 'n_units_i': 192, 'dropout_rate': 0.030900137491314955, 'n_units_h': 128, 'lr': 0.00030582552578584945}. Best is trial 15 with value: 0.8371687999336684.\n"
     ]
    },
    {
     "name": "stdout",
     "output_type": "stream",
     "text": [
      "306/306 [==============================] - 0s 548us/step\n",
      "306/306 [==============================] - 0s 548us/step\n",
      "306/306 [==============================] - 0s 538us/step\n",
      "306/306 [==============================] - 0s 530us/step\n",
      "306/306 [==============================] - 0s 525us/step\n"
     ]
    },
    {
     "name": "stderr",
     "output_type": "stream",
     "text": [
      "[I 2025-01-25 16:51:00,364] Trial 48 finished with value: 0.8365545493194178 and parameters: {'n_layers': 2, 'n_units_i': 160, 'dropout_rate': 0.11701624842554051, 'n_units_h': 48, 'lr': 0.0006096498288788433}. Best is trial 15 with value: 0.8371687999336684.\n"
     ]
    },
    {
     "name": "stdout",
     "output_type": "stream",
     "text": [
      "306/306 [==============================] - 0s 595us/step\n",
      "306/306 [==============================] - 0s 654us/step\n",
      "306/306 [==============================] - 0s 620us/step\n",
      "306/306 [==============================] - 0s 625us/step\n",
      "306/306 [==============================] - 0s 621us/step\n"
     ]
    },
    {
     "name": "stderr",
     "output_type": "stream",
     "text": [
      "[I 2025-01-25 16:51:52,106] Trial 49 finished with value: 0.8366569055585332 and parameters: {'n_layers': 4, 'n_units_i': 240, 'dropout_rate': 0.17777626825031206, 'n_units_h': 176, 'lr': 0.0004092055166622615}. Best is trial 15 with value: 0.8371687999336684.\n"
     ]
    },
    {
     "name": "stdout",
     "output_type": "stream",
     "text": [
      "306/306 [==============================] - 0s 498us/step\n",
      "306/306 [==============================] - 0s 508us/step\n",
      "306/306 [==============================] - 0s 515us/step\n",
      "306/306 [==============================] - 0s 487us/step\n",
      "306/306 [==============================] - 0s 490us/step\n"
     ]
    },
    {
     "name": "stderr",
     "output_type": "stream",
     "text": [
      "[I 2025-01-25 16:52:29,380] Trial 50 finished with value: 0.8360631530198527 and parameters: {'n_layers': 3, 'n_units_i': 144, 'dropout_rate': 0.06124856619019455, 'n_units_h': 96, 'lr': 0.00021250470229508122}. Best is trial 15 with value: 0.8371687999336684.\n"
     ]
    },
    {
     "name": "stdout",
     "output_type": "stream",
     "text": [
      "306/306 [==============================] - 0s 723us/step\n",
      "306/306 [==============================] - 0s 756us/step\n",
      "306/306 [==============================] - 0s 721us/step\n",
      "306/306 [==============================] - 0s 749us/step\n",
      "306/306 [==============================] - 0s 756us/step\n"
     ]
    },
    {
     "name": "stderr",
     "output_type": "stream",
     "text": [
      "[I 2025-01-25 16:53:26,797] Trial 51 finished with value: 0.8364726303742579 and parameters: {'n_layers': 4, 'n_units_i': 240, 'dropout_rate': 0.19349404802755862, 'n_units_h': 208, 'lr': 0.0004444994160897325}. Best is trial 15 with value: 0.8371687999336684.\n"
     ]
    },
    {
     "name": "stdout",
     "output_type": "stream",
     "text": [
      "306/306 [==============================] - 0s 794us/step\n",
      "306/306 [==============================] - 0s 790us/step\n",
      "306/306 [==============================] - 0s 766us/step\n",
      "306/306 [==============================] - 0s 769us/step\n",
      "306/306 [==============================] - 0s 764us/step\n"
     ]
    },
    {
     "name": "stderr",
     "output_type": "stream",
     "text": [
      "[I 2025-01-25 16:54:26,864] Trial 52 finished with value: 0.8362474072449505 and parameters: {'n_layers': 4, 'n_units_i': 256, 'dropout_rate': 0.15321240811267897, 'n_units_h': 208, 'lr': 0.0003293815063813633}. Best is trial 15 with value: 0.8371687999336684.\n"
     ]
    },
    {
     "name": "stdout",
     "output_type": "stream",
     "text": [
      "306/306 [==============================] - 0s 623us/step\n",
      "306/306 [==============================] - 0s 689us/step\n",
      "306/306 [==============================] - 0s 625us/step\n",
      "306/306 [==============================] - 0s 651us/step\n",
      "306/306 [==============================] - 0s 615us/step\n"
     ]
    },
    {
     "name": "stderr",
     "output_type": "stream",
     "text": [
      "[I 2025-01-25 16:55:19,273] Trial 53 finished with value: 0.836247428204128 and parameters: {'n_layers': 4, 'n_units_i': 224, 'dropout_rate': 0.23787299554332325, 'n_units_h': 176, 'lr': 0.0009382292634898443}. Best is trial 15 with value: 0.8371687999336684.\n"
     ]
    },
    {
     "name": "stdout",
     "output_type": "stream",
     "text": [
      "306/306 [==============================] - 0s 676us/step\n",
      "306/306 [==============================] - 0s 631us/step\n",
      "306/306 [==============================] - 0s 621us/step\n",
      "306/306 [==============================] - 0s 633us/step\n",
      "306/306 [==============================] - 0s 648us/step\n"
     ]
    },
    {
     "name": "stderr",
     "output_type": "stream",
     "text": [
      "[I 2025-01-25 16:56:11,234] Trial 54 finished with value: 0.835326102584778 and parameters: {'n_layers': 4, 'n_units_i': 208, 'dropout_rate': 0.17543295314736312, 'n_units_h': 192, 'lr': 0.00016873471623378777}. Best is trial 15 with value: 0.8371687999336684.\n"
     ]
    },
    {
     "name": "stdout",
     "output_type": "stream",
     "text": [
      "306/306 [==============================] - 0s 631us/step\n",
      "306/306 [==============================] - 0s 654us/step\n",
      "306/306 [==============================] - 0s 628us/step\n",
      "306/306 [==============================] - 0s 607us/step\n",
      "306/306 [==============================] - 0s 615us/step\n"
     ]
    },
    {
     "name": "stderr",
     "output_type": "stream",
     "text": [
      "[I 2025-01-25 16:57:04,390] Trial 55 finished with value: 0.8363702343127055 and parameters: {'n_layers': 5, 'n_units_i': 240, 'dropout_rate': 0.09150188190268223, 'n_units_h': 144, 'lr': 0.00042609585037801495}. Best is trial 15 with value: 0.8371687999336684.\n"
     ]
    },
    {
     "name": "stdout",
     "output_type": "stream",
     "text": [
      "306/306 [==============================] - 0s 608us/step\n",
      "306/306 [==============================] - 0s 605us/step\n",
      "306/306 [==============================] - 0s 592us/step\n",
      "306/306 [==============================] - 0s 597us/step\n",
      "306/306 [==============================] - 0s 612us/step\n"
     ]
    },
    {
     "name": "stderr",
     "output_type": "stream",
     "text": [
      "[I 2025-01-25 16:57:47,321] Trial 56 finished with value: 0.8360426549442825 and parameters: {'n_layers': 3, 'n_units_i': 224, 'dropout_rate': 0.11262185133003777, 'n_units_h': 176, 'lr': 0.00022778691428217775}. Best is trial 15 with value: 0.8371687999336684.\n"
     ]
    },
    {
     "name": "stdout",
     "output_type": "stream",
     "text": [
      "306/306 [==============================] - 0s 512us/step\n",
      "306/306 [==============================] - 0s 536us/step\n",
      "306/306 [==============================] - 0s 535us/step\n",
      "306/306 [==============================] - 0s 505us/step\n",
      "306/306 [==============================] - 0s 510us/step\n"
     ]
    },
    {
     "name": "stderr",
     "output_type": "stream",
     "text": [
      "[I 2025-01-25 16:58:11,129] Trial 57 finished with value: 0.8360017531094407 and parameters: {'n_layers': 2, 'n_units_i': 256, 'dropout_rate': 0.003098191036886383, 'n_units_h': 32, 'lr': 0.0014050181758657279}. Best is trial 15 with value: 0.8371687999336684.\n"
     ]
    },
    {
     "name": "stdout",
     "output_type": "stream",
     "text": [
      "306/306 [==============================] - 0s 523us/step\n",
      "306/306 [==============================] - 0s 531us/step\n",
      "306/306 [==============================] - 0s 518us/step\n",
      "306/306 [==============================] - 0s 549us/step\n",
      "306/306 [==============================] - 0s 513us/step\n"
     ]
    },
    {
     "name": "stderr",
     "output_type": "stream",
     "text": [
      "[I 2025-01-25 16:59:03,682] Trial 58 finished with value: 0.8358993633356414 and parameters: {'n_layers': 4, 'n_units_i': 176, 'dropout_rate': 0.1430401619171291, 'n_units_h': 112, 'lr': 0.000528364441031999}. Best is trial 15 with value: 0.8371687999336684.\n"
     ]
    },
    {
     "name": "stdout",
     "output_type": "stream",
     "text": [
      "306/306 [==============================] - 0s 641us/step\n",
      "306/306 [==============================] - 0s 617us/step\n",
      "306/306 [==============================] - 0s 561us/step\n",
      "306/306 [==============================] - 0s 630us/step\n",
      "306/306 [==============================] - 0s 598us/step\n"
     ]
    },
    {
     "name": "stderr",
     "output_type": "stream",
     "text": [
      "[I 2025-01-25 16:59:37,465] Trial 59 finished with value: 0.8359812152114332 and parameters: {'n_layers': 2, 'n_units_i': 64, 'dropout_rate': 0.18459624568025718, 'n_units_h': 224, 'lr': 0.001977801131023822}. Best is trial 15 with value: 0.8371687999336684.\n"
     ]
    },
    {
     "name": "stdout",
     "output_type": "stream",
     "text": [
      "306/306 [==============================] - 0s 500us/step\n",
      "306/306 [==============================] - 0s 526us/step\n",
      "306/306 [==============================] - 0s 507us/step\n",
      "306/306 [==============================] - 0s 495us/step\n",
      "306/306 [==============================] - 0s 539us/step\n"
     ]
    },
    {
     "name": "stderr",
     "output_type": "stream",
     "text": [
      "[I 2025-01-25 17:00:00,227] Trial 60 finished with value: 0.8352442150783844 and parameters: {'n_layers': 1, 'n_units_i': 208, 'dropout_rate': 0.2891771151982125, 'n_units_h': 64, 'lr': 0.0003641178530072712}. Best is trial 15 with value: 0.8371687999336684.\n"
     ]
    },
    {
     "name": "stdout",
     "output_type": "stream",
     "text": [
      "306/306 [==============================] - 0s 521us/step\n",
      "306/306 [==============================] - 0s 477us/step\n",
      "306/306 [==============================] - 0s 479us/step\n",
      "306/306 [==============================] - 0s 484us/step\n",
      "306/306 [==============================] - 0s 543us/step\n"
     ]
    },
    {
     "name": "stderr",
     "output_type": "stream",
     "text": [
      "[I 2025-01-25 17:00:25,376] Trial 61 finished with value: 0.8359607821093131 and parameters: {'n_layers': 1, 'n_units_i': 112, 'dropout_rate': 0.03244038731906393, 'n_units_h': 160, 'lr': 0.0008202830441816682}. Best is trial 15 with value: 0.8371687999336684.\n"
     ]
    },
    {
     "name": "stdout",
     "output_type": "stream",
     "text": [
      "306/306 [==============================] - 0s 510us/step\n",
      "306/306 [==============================] - 0s 503us/step\n",
      "306/306 [==============================] - 0s 508us/step\n",
      "306/306 [==============================] - 0s 515us/step\n",
      "306/306 [==============================] - 0s 508us/step\n"
     ]
    },
    {
     "name": "stderr",
     "output_type": "stream",
     "text": [
      "[I 2025-01-25 17:00:49,374] Trial 62 finished with value: 0.8369844744473672 and parameters: {'n_layers': 1, 'n_units_i': 96, 'dropout_rate': 0.048964031769182514, 'n_units_h': 160, 'lr': 0.0006902387008673074}. Best is trial 15 with value: 0.8371687999336684.\n"
     ]
    },
    {
     "name": "stdout",
     "output_type": "stream",
     "text": [
      "306/306 [==============================] - 0s 505us/step\n",
      "306/306 [==============================] - 0s 495us/step\n",
      "306/306 [==============================] - 0s 544us/step\n",
      "306/306 [==============================] - 0s 498us/step\n",
      "306/306 [==============================] - 0s 515us/step\n"
     ]
    },
    {
     "name": "stderr",
     "output_type": "stream",
     "text": [
      "[I 2025-01-25 17:01:12,366] Trial 63 finished with value: 0.8350599440859447 and parameters: {'n_layers': 1, 'n_units_i': 80, 'dropout_rate': 0.07129250002116308, 'n_units_h': 192, 'lr': 0.0006103430141459359}. Best is trial 15 with value: 0.8371687999336684.\n"
     ]
    },
    {
     "name": "stdout",
     "output_type": "stream",
     "text": [
      "306/306 [==============================] - 0s 500us/step\n",
      "306/306 [==============================] - 0s 518us/step\n",
      "306/306 [==============================] - 0s 520us/step\n",
      "306/306 [==============================] - 0s 526us/step\n",
      "306/306 [==============================] - 0s 484us/step\n"
     ]
    },
    {
     "name": "stderr",
     "output_type": "stream",
     "text": [
      "[I 2025-01-25 17:01:42,031] Trial 64 finished with value: 0.8361655155467214 and parameters: {'n_layers': 2, 'n_units_i': 96, 'dropout_rate': 0.049020349499795356, 'n_units_h': 144, 'lr': 0.0011348927167537937}. Best is trial 15 with value: 0.8371687999336684.\n"
     ]
    },
    {
     "name": "stdout",
     "output_type": "stream",
     "text": [
      "306/306 [==============================] - 0s 502us/step\n",
      "306/306 [==============================] - 0s 516us/step\n",
      "306/306 [==============================] - 0s 535us/step\n",
      "306/306 [==============================] - 0s 528us/step\n",
      "306/306 [==============================] - 0s 541us/step\n"
     ]
    },
    {
     "name": "stderr",
     "output_type": "stream",
     "text": [
      "[I 2025-01-25 17:02:01,168] Trial 65 finished with value: 0.8350394648736341 and parameters: {'n_layers': 1, 'n_units_i': 32, 'dropout_rate': 0.12507556131869607, 'n_units_h': 176, 'lr': 0.0002890446202174772}. Best is trial 15 with value: 0.8371687999336684.\n"
     ]
    },
    {
     "name": "stdout",
     "output_type": "stream",
     "text": [
      "306/306 [==============================] - 0s 603us/step\n",
      "306/306 [==============================] - 0s 602us/step\n",
      "306/306 [==============================] - 0s 646us/step\n",
      "306/306 [==============================] - 0s 672us/step\n",
      "306/306 [==============================] - 0s 607us/step\n"
     ]
    },
    {
     "name": "stderr",
     "output_type": "stream",
     "text": [
      "[I 2025-01-25 17:02:42,541] Trial 66 finished with value: 0.8354284881667418 and parameters: {'n_layers': 3, 'n_units_i': 224, 'dropout_rate': 0.15427574772224253, 'n_units_h': 160, 'lr': 0.002812542205665658}. Best is trial 15 with value: 0.8371687999336684.\n"
     ]
    },
    {
     "name": "stdout",
     "output_type": "stream",
     "text": [
      "306/306 [==============================] - 0s 553us/step\n",
      "306/306 [==============================] - 0s 551us/step\n",
      "306/306 [==============================] - 0s 510us/step\n",
      "306/306 [==============================] - 0s 515us/step\n",
      "306/306 [==============================] - 0s 541us/step\n"
     ]
    },
    {
     "name": "stderr",
     "output_type": "stream",
     "text": [
      "[I 2025-01-25 17:03:16,218] Trial 67 finished with value: 0.8366159303665702 and parameters: {'n_layers': 3, 'n_units_i': 128, 'dropout_rate': 0.09497222534031291, 'n_units_h': 80, 'lr': 0.0006907786170367616}. Best is trial 15 with value: 0.8371687999336684.\n"
     ]
    },
    {
     "name": "stdout",
     "output_type": "stream",
     "text": [
      "306/306 [==============================] - 0s 567us/step\n",
      "306/306 [==============================] - 0s 594us/step\n",
      "306/306 [==============================] - 0s 562us/step\n",
      "306/306 [==============================] - 0s 574us/step\n",
      "306/306 [==============================] - 0s 602us/step\n"
     ]
    },
    {
     "name": "stderr",
     "output_type": "stream",
     "text": [
      "[I 2025-01-25 17:04:01,386] Trial 68 finished with value: 0.8335243783319329 and parameters: {'n_layers': 5, 'n_units_i': 192, 'dropout_rate': 0.375560696679975, 'n_units_h': 128, 'lr': 0.00024376906758360862}. Best is trial 15 with value: 0.8371687999336684.\n"
     ]
    },
    {
     "name": "stdout",
     "output_type": "stream",
     "text": [
      "306/306 [==============================] - 0s 533us/step\n",
      "306/306 [==============================] - 0s 544us/step\n",
      "306/306 [==============================] - 0s 556us/step\n",
      "306/306 [==============================] - 0s 510us/step\n",
      "306/306 [==============================] - 0s 530us/step\n"
     ]
    },
    {
     "name": "stderr",
     "output_type": "stream",
     "text": [
      "[I 2025-01-25 17:04:25,893] Trial 69 finished with value: 0.8355103714812999 and parameters: {'n_layers': 4, 'n_units_i': 240, 'dropout_rate': 0.020927242933273624, 'n_units_h': 16, 'lr': 0.0005069922731587081}. Best is trial 15 with value: 0.8371687999336684.\n"
     ]
    },
    {
     "name": "stdout",
     "output_type": "stream",
     "text": [
      "306/306 [==============================] - 0s 528us/step\n",
      "306/306 [==============================] - 0s 525us/step\n",
      "306/306 [==============================] - 0s 571us/step\n",
      "306/306 [==============================] - 0s 533us/step\n",
      "306/306 [==============================] - 0s 536us/step\n"
     ]
    },
    {
     "name": "stderr",
     "output_type": "stream",
     "text": [
      "[I 2025-01-25 17:04:47,774] Trial 70 finished with value: 0.8353670232828796 and parameters: {'n_layers': 1, 'n_units_i': 256, 'dropout_rate': 0.22587095974473614, 'n_units_h': 48, 'lr': 0.00018710021437476842}. Best is trial 15 with value: 0.8371687999336684.\n"
     ]
    },
    {
     "name": "stdout",
     "output_type": "stream",
     "text": [
      "306/306 [==============================] - 0s 561us/step\n",
      "306/306 [==============================] - 0s 538us/step\n",
      "306/306 [==============================] - 0s 503us/step\n",
      "306/306 [==============================] - 0s 526us/step\n",
      "306/306 [==============================] - 0s 523us/step\n"
     ]
    },
    {
     "name": "stderr",
     "output_type": "stream",
     "text": [
      "[I 2025-01-25 17:05:12,973] Trial 71 finished with value: 0.8362269489918175 and parameters: {'n_layers': 1, 'n_units_i': 112, 'dropout_rate': 0.011142436731776461, 'n_units_h': 160, 'lr': 0.0006758495530182275}. Best is trial 15 with value: 0.8371687999336684.\n"
     ]
    },
    {
     "name": "stdout",
     "output_type": "stream",
     "text": [
      "306/306 [==============================] - 0s 510us/step\n",
      "306/306 [==============================] - 0s 495us/step\n",
      "306/306 [==============================] - 0s 528us/step\n",
      "306/306 [==============================] - 0s 533us/step\n",
      "306/306 [==============================] - 0s 521us/step\n"
     ]
    },
    {
     "name": "stderr",
     "output_type": "stream",
     "text": [
      "[I 2025-01-25 17:05:36,634] Trial 72 finished with value: 0.8363088888961547 and parameters: {'n_layers': 1, 'n_units_i': 96, 'dropout_rate': 0.05228423848353732, 'n_units_h': 176, 'lr': 0.0007215922822950165}. Best is trial 15 with value: 0.8371687999336684.\n"
     ]
    },
    {
     "name": "stdout",
     "output_type": "stream",
     "text": [
      "306/306 [==============================] - 0s 549us/step\n",
      "306/306 [==============================] - 0s 505us/step\n",
      "306/306 [==============================] - 0s 500us/step\n",
      "306/306 [==============================] - 0s 553us/step\n",
      "306/306 [==============================] - 0s 544us/step\n"
     ]
    },
    {
     "name": "stderr",
     "output_type": "stream",
     "text": [
      "[I 2025-01-25 17:05:59,639] Trial 73 finished with value: 0.8357765048291202 and parameters: {'n_layers': 1, 'n_units_i': 96, 'dropout_rate': 0.07165953292539737, 'n_units_h': 144, 'lr': 0.0003748274906391484}. Best is trial 15 with value: 0.8371687999336684.\n"
     ]
    },
    {
     "name": "stdout",
     "output_type": "stream",
     "text": [
      "306/306 [==============================] - 0s 549us/step\n",
      "306/306 [==============================] - 0s 536us/step\n",
      "306/306 [==============================] - 0s 508us/step\n",
      "306/306 [==============================] - 0s 518us/step\n",
      "306/306 [==============================] - 0s 541us/step\n"
     ]
    },
    {
     "name": "stderr",
     "output_type": "stream",
     "text": [
      "[I 2025-01-25 17:06:31,634] Trial 74 finished with value: 0.8360222323217512 and parameters: {'n_layers': 2, 'n_units_i': 80, 'dropout_rate': 0.12179316115427807, 'n_units_h': 192, 'lr': 0.0015546861121785523}. Best is trial 15 with value: 0.8371687999336684.\n"
     ]
    },
    {
     "name": "stdout",
     "output_type": "stream",
     "text": [
      "306/306 [==============================] - 0s 477us/step\n",
      "306/306 [==============================] - 0s 500us/step\n",
      "306/306 [==============================] - 0s 518us/step\n",
      "306/306 [==============================] - 0s 502us/step\n",
      "306/306 [==============================] - 0s 546us/step\n"
     ]
    },
    {
     "name": "stderr",
     "output_type": "stream",
     "text": [
      "[I 2025-01-25 17:06:53,950] Trial 75 finished with value: 0.8357151279738033 and parameters: {'n_layers': 1, 'n_units_i': 128, 'dropout_rate': 0.02190648876533786, 'n_units_h': 160, 'lr': 0.000469124663585904}. Best is trial 15 with value: 0.8371687999336684.\n"
     ]
    },
    {
     "name": "stdout",
     "output_type": "stream",
     "text": [
      "306/306 [==============================] - 0s 1ms/step\n",
      "306/306 [==============================] - 0s 498us/step\n",
      "306/306 [==============================] - 0s 544us/step\n",
      "306/306 [==============================] - 0s 535us/step\n",
      "306/306 [==============================] - 0s 518us/step\n"
     ]
    },
    {
     "name": "stderr",
     "output_type": "stream",
     "text": [
      "[I 2025-01-25 17:07:27,067] Trial 76 finished with value: 0.8368616892979673 and parameters: {'n_layers': 2, 'n_units_i': 144, 'dropout_rate': 0.09655065494166998, 'n_units_h': 112, 'lr': 0.0008617717469464676}. Best is trial 15 with value: 0.8371687999336684.\n"
     ]
    },
    {
     "name": "stdout",
     "output_type": "stream",
     "text": [
      "306/306 [==============================] - 0s 510us/step\n",
      "306/306 [==============================] - 0s 546us/step\n",
      "306/306 [==============================] - 0s 520us/step\n",
      "306/306 [==============================] - 0s 497us/step\n",
      "306/306 [==============================] - 0s 492us/step\n"
     ]
    },
    {
     "name": "stderr",
     "output_type": "stream",
     "text": [
      "[I 2025-01-25 17:07:59,777] Trial 77 finished with value: 0.8363088281145401 and parameters: {'n_layers': 2, 'n_units_i': 144, 'dropout_rate': 0.10020172019541253, 'n_units_h': 112, 'lr': 0.0003236448875088693}. Best is trial 15 with value: 0.8371687999336684.\n"
     ]
    },
    {
     "name": "stdout",
     "output_type": "stream",
     "text": [
      "306/306 [==============================] - 0s 538us/step\n",
      "306/306 [==============================] - 0s 554us/step\n",
      "306/306 [==============================] - 0s 543us/step\n",
      "306/306 [==============================] - 0s 554us/step\n",
      "306/306 [==============================] - 0s 528us/step\n"
     ]
    },
    {
     "name": "stderr",
     "output_type": "stream",
     "text": [
      "[I 2025-01-25 17:08:31,971] Trial 78 finished with value: 0.8363088930879903 and parameters: {'n_layers': 2, 'n_units_i': 208, 'dropout_rate': 0.17135704504658772, 'n_units_h': 96, 'lr': 0.0009148939509380006}. Best is trial 15 with value: 0.8371687999336684.\n"
     ]
    },
    {
     "name": "stdout",
     "output_type": "stream",
     "text": [
      "306/306 [==============================] - 0s 546us/step\n",
      "306/306 [==============================] - 0s 482us/step\n",
      "306/306 [==============================] - 0s 513us/step\n",
      "306/306 [==============================] - 0s 536us/step\n",
      "306/306 [==============================] - 0s 490us/step\n"
     ]
    },
    {
     "name": "stderr",
     "output_type": "stream",
     "text": [
      "[I 2025-01-25 17:08:59,589] Trial 79 finished with value: 0.8362269427040643 and parameters: {'n_layers': 2, 'n_units_i': 144, 'dropout_rate': 0.14127626372351793, 'n_units_h': 80, 'lr': 0.0012340960940775407}. Best is trial 15 with value: 0.8371687999336684.\n"
     ]
    },
    {
     "name": "stdout",
     "output_type": "stream",
     "text": [
      "306/306 [==============================] - 0s 539us/step\n",
      "306/306 [==============================] - 0s 535us/step\n",
      "306/306 [==============================] - 0s 523us/step\n",
      "306/306 [==============================] - 0s 485us/step\n",
      "306/306 [==============================] - 0s 520us/step\n"
     ]
    },
    {
     "name": "stderr",
     "output_type": "stream",
     "text": [
      "[I 2025-01-25 17:09:34,835] Trial 80 finished with value: 0.8354489527076281 and parameters: {'n_layers': 2, 'n_units_i': 176, 'dropout_rate': 0.08651294253247122, 'n_units_h': 112, 'lr': 0.003702307085252385}. Best is trial 15 with value: 0.8371687999336684.\n"
     ]
    },
    {
     "name": "stdout",
     "output_type": "stream",
     "text": [
      "306/306 [==============================] - 0s 512us/step\n",
      "306/306 [==============================] - 0s 495us/step\n",
      "306/306 [==============================] - 0s 525us/step\n",
      "306/306 [==============================] - 0s 548us/step\n",
      "306/306 [==============================] - 0s 507us/step\n"
     ]
    },
    {
     "name": "stderr",
     "output_type": "stream",
     "text": [
      "[I 2025-01-25 17:09:56,844] Trial 81 finished with value: 0.8356127465836749 and parameters: {'n_layers': 1, 'n_units_i': 160, 'dropout_rate': 0.03835915326640747, 'n_units_h': 128, 'lr': 0.001062243017190422}. Best is trial 15 with value: 0.8371687999336684.\n"
     ]
    },
    {
     "name": "stdout",
     "output_type": "stream",
     "text": [
      "306/306 [==============================] - 0s 520us/step\n",
      "306/306 [==============================] - 0s 475us/step\n",
      "306/306 [==============================] - 0s 520us/step\n",
      "306/306 [==============================] - 0s 480us/step\n",
      "306/306 [==============================] - 0s 525us/step\n"
     ]
    },
    {
     "name": "stderr",
     "output_type": "stream",
     "text": [
      "[I 2025-01-25 17:10:27,427] Trial 82 finished with value: 0.8349780775387284 and parameters: {'n_layers': 2, 'n_units_i': 112, 'dropout_rate': 0.06828894662066487, 'n_units_h': 80, 'lr': 0.0005856072735116979}. Best is trial 15 with value: 0.8371687999336684.\n"
     ]
    },
    {
     "name": "stdout",
     "output_type": "stream",
     "text": [
      "306/306 [==============================] - 0s 536us/step\n",
      "306/306 [==============================] - 0s 543us/step\n",
      "306/306 [==============================] - 0s 561us/step\n",
      "306/306 [==============================] - 0s 553us/step\n",
      "306/306 [==============================] - 0s 516us/step\n"
     ]
    },
    {
     "name": "stderr",
     "output_type": "stream",
     "text": [
      "[I 2025-01-25 17:11:12,226] Trial 83 finished with value: 0.8354899341873445 and parameters: {'n_layers': 4, 'n_units_i': 144, 'dropout_rate': 0.11458445325552784, 'n_units_h': 96, 'lr': 0.00028673350064434234}. Best is trial 15 with value: 0.8371687999336684.\n"
     ]
    },
    {
     "name": "stdout",
     "output_type": "stream",
     "text": [
      "306/306 [==============================] - 0s 515us/step\n",
      "306/306 [==============================] - 0s 564us/step\n",
      "306/306 [==============================] - 0s 523us/step\n",
      "306/306 [==============================] - 0s 589us/step\n",
      "306/306 [==============================] - 0s 536us/step\n"
     ]
    },
    {
     "name": "stderr",
     "output_type": "stream",
     "text": [
      "[I 2025-01-25 17:11:50,673] Trial 84 finished with value: 0.836697882846414 and parameters: {'n_layers': 3, 'n_units_i': 112, 'dropout_rate': 0.05709177915801482, 'n_units_h': 144, 'lr': 0.0007746559488813835}. Best is trial 15 with value: 0.8371687999336684.\n"
     ]
    },
    {
     "name": "stdout",
     "output_type": "stream",
     "text": [
      "306/306 [==============================] - 0s 554us/step\n",
      "306/306 [==============================] - 0s 535us/step\n",
      "306/306 [==============================] - 0s 549us/step\n",
      "306/306 [==============================] - 0s 520us/step\n",
      "306/306 [==============================] - 0s 531us/step\n"
     ]
    },
    {
     "name": "stderr",
     "output_type": "stream",
     "text": [
      "[I 2025-01-25 17:12:27,351] Trial 85 finished with value: 0.8352442129824666 and parameters: {'n_layers': 3, 'n_units_i': 160, 'dropout_rate': 0.13081254478680232, 'n_units_h': 144, 'lr': 0.0008794144161581906}. Best is trial 15 with value: 0.8371687999336684.\n"
     ]
    },
    {
     "name": "stdout",
     "output_type": "stream",
     "text": [
      "306/306 [==============================] - 0s 531us/step\n",
      "306/306 [==============================] - 0s 523us/step\n",
      "306/306 [==============================] - 0s 487us/step\n",
      "306/306 [==============================] - 0s 500us/step\n",
      "306/306 [==============================] - 0s 503us/step\n"
     ]
    },
    {
     "name": "stderr",
     "output_type": "stream",
     "text": [
      "[I 2025-01-25 17:12:57,066] Trial 86 finished with value: 0.8358994094458317 and parameters: {'n_layers': 3, 'n_units_i': 128, 'dropout_rate': 0.07825575505717938, 'n_units_h': 64, 'lr': 0.0007773973711504362}. Best is trial 15 with value: 0.8371687999336684.\n"
     ]
    },
    {
     "name": "stdout",
     "output_type": "stream",
     "text": [
      "306/306 [==============================] - 0s 508us/step\n",
      "306/306 [==============================] - 0s 507us/step\n",
      "306/306 [==============================] - 0s 512us/step\n",
      "306/306 [==============================] - 0s 498us/step\n",
      "306/306 [==============================] - 0s 513us/step\n"
     ]
    },
    {
     "name": "stderr",
     "output_type": "stream",
     "text": [
      "[I 2025-01-25 17:13:29,734] Trial 87 finished with value: 0.8347323332787555 and parameters: {'n_layers': 3, 'n_units_i': 176, 'dropout_rate': 0.15954510651915826, 'n_units_h': 128, 'lr': 0.0003985357858561054}. Best is trial 15 with value: 0.8371687999336684.\n"
     ]
    },
    {
     "name": "stdout",
     "output_type": "stream",
     "text": [
      "306/306 [==============================] - 0s 502us/step\n",
      "306/306 [==============================] - 0s 528us/step\n",
      "306/306 [==============================] - 0s 569us/step\n",
      "306/306 [==============================] - 0s 557us/step\n",
      "306/306 [==============================] - 0s 549us/step\n"
     ]
    },
    {
     "name": "stderr",
     "output_type": "stream",
     "text": [
      "[I 2025-01-25 17:14:13,509] Trial 88 finished with value: 0.8359608030684906 and parameters: {'n_layers': 3, 'n_units_i': 96, 'dropout_rate': 0.0574742735391897, 'n_units_h': 112, 'lr': 0.0016956615023051068}. Best is trial 15 with value: 0.8371687999336684.\n"
     ]
    },
    {
     "name": "stdout",
     "output_type": "stream",
     "text": [
      "306/306 [==============================] - 0s 523us/step\n",
      "306/306 [==============================] - 0s 505us/step\n",
      "306/306 [==============================] - 0s 489us/step\n",
      "306/306 [==============================] - 0s 523us/step\n",
      "306/306 [==============================] - 0s 502us/step\n"
     ]
    },
    {
     "name": "stderr",
     "output_type": "stream",
     "text": [
      "[I 2025-01-25 17:14:43,529] Trial 89 finished with value: 0.8363088113471981 and parameters: {'n_layers': 2, 'n_units_i': 192, 'dropout_rate': 0.09139664723449736, 'n_units_h': 144, 'lr': 0.0005721689129726125}. Best is trial 15 with value: 0.8371687999336684.\n"
     ]
    },
    {
     "name": "stdout",
     "output_type": "stream",
     "text": [
      "306/306 [==============================] - 0s 669us/step\n",
      "306/306 [==============================] - 0s 605us/step\n",
      "306/306 [==============================] - 0s 603us/step\n",
      "306/306 [==============================] - 0s 649us/step\n",
      "306/306 [==============================] - 0s 598us/step\n"
     ]
    },
    {
     "name": "stderr",
     "output_type": "stream",
     "text": [
      "[I 2025-01-25 17:15:24,038] Trial 90 finished with value: 0.8346709815744517 and parameters: {'n_layers': 4, 'n_units_i': 240, 'dropout_rate': 0.10581562264161654, 'n_units_h': 128, 'lr': 0.0024122913284241286}. Best is trial 15 with value: 0.8371687999336684.\n"
     ]
    },
    {
     "name": "stdout",
     "output_type": "stream",
     "text": [
      "306/306 [==============================] - 0s 508us/step\n",
      "306/306 [==============================] - 0s 507us/step\n",
      "306/306 [==============================] - 0s 531us/step\n",
      "306/306 [==============================] - 0s 515us/step\n",
      "306/306 [==============================] - 0s 525us/step\n"
     ]
    },
    {
     "name": "stderr",
     "output_type": "stream",
     "text": [
      "[I 2025-01-25 17:15:57,274] Trial 91 finished with value: 0.8365954553460953 and parameters: {'n_layers': 2, 'n_units_i': 112, 'dropout_rate': 0.04087424436371628, 'n_units_h': 160, 'lr': 0.00047170437671376883}. Best is trial 15 with value: 0.8371687999336684.\n"
     ]
    },
    {
     "name": "stdout",
     "output_type": "stream",
     "text": [
      "306/306 [==============================] - 0s 518us/step\n",
      "306/306 [==============================] - 0s 502us/step\n",
      "306/306 [==============================] - 0s 523us/step\n",
      "306/306 [==============================] - 0s 494us/step\n",
      "306/306 [==============================] - 0s 494us/step\n"
     ]
    },
    {
     "name": "stderr",
     "output_type": "stream",
     "text": [
      "[I 2025-01-25 17:16:19,862] Trial 92 finished with value: 0.8354694088648434 and parameters: {'n_layers': 1, 'n_units_i': 128, 'dropout_rate': 0.019276803650983602, 'n_units_h': 176, 'lr': 0.006296777739272867}. Best is trial 15 with value: 0.8371687999336684.\n"
     ]
    },
    {
     "name": "stdout",
     "output_type": "stream",
     "text": [
      "306/306 [==============================] - 0s 518us/step\n",
      "306/306 [==============================] - 0s 526us/step\n",
      "306/306 [==============================] - 0s 502us/step\n",
      "306/306 [==============================] - 0s 528us/step\n",
      "306/306 [==============================] - 0s 510us/step\n"
     ]
    },
    {
     "name": "stderr",
     "output_type": "stream",
     "text": [
      "[I 2025-01-25 17:16:51,838] Trial 93 finished with value: 0.835756031904563 and parameters: {'n_layers': 2, 'n_units_i': 96, 'dropout_rate': 0.054295845125508876, 'n_units_h': 160, 'lr': 0.0007600678756845375}. Best is trial 15 with value: 0.8371687999336684.\n"
     ]
    },
    {
     "name": "stdout",
     "output_type": "stream",
     "text": [
      "306/306 [==============================] - 0s 512us/step\n",
      "306/306 [==============================] - 0s 498us/step\n",
      "306/306 [==============================] - 0s 502us/step\n",
      "306/306 [==============================] - 0s 505us/step\n",
      "306/306 [==============================] - 0s 518us/step\n"
     ]
    },
    {
     "name": "stderr",
     "output_type": "stream",
     "text": [
      "[I 2025-01-25 17:17:32,688] Trial 94 finished with value: 0.8356332299878211 and parameters: {'n_layers': 3, 'n_units_i': 112, 'dropout_rate': 0.1369771197080539, 'n_units_h': 96, 'lr': 0.0012571173108504169}. Best is trial 15 with value: 0.8371687999336684.\n"
     ]
    },
    {
     "name": "stdout",
     "output_type": "stream",
     "text": [
      "306/306 [==============================] - 0s 531us/step\n",
      "306/306 [==============================] - 0s 556us/step\n",
      "306/306 [==============================] - 0s 536us/step\n",
      "306/306 [==============================] - 0s 536us/step\n",
      "306/306 [==============================] - 0s 525us/step\n"
     ]
    },
    {
     "name": "stderr",
     "output_type": "stream",
     "text": [
      "[I 2025-01-25 17:18:08,005] Trial 95 finished with value: 0.8359403531990287 and parameters: {'n_layers': 3, 'n_units_i': 80, 'dropout_rate': 0.03083669265414027, 'n_units_h': 144, 'lr': 0.0010533380435527383}. Best is trial 15 with value: 0.8371687999336684.\n"
     ]
    },
    {
     "name": "stdout",
     "output_type": "stream",
     "text": [
      "306/306 [==============================] - 0s 662us/step\n",
      "306/306 [==============================] - 0s 702us/step\n",
      "306/306 [==============================] - 0s 613us/step\n",
      "306/306 [==============================] - 0s 676us/step\n",
      "306/306 [==============================] - 0s 685us/step\n"
     ]
    },
    {
     "name": "stderr",
     "output_type": "stream",
     "text": [
      "[I 2025-01-25 17:18:59,537] Trial 96 finished with value: 0.8358584552130462 and parameters: {'n_layers': 4, 'n_units_i': 224, 'dropout_rate': 0.08010235180670672, 'n_units_h': 176, 'lr': 0.0006430135338008401}. Best is trial 15 with value: 0.8371687999336684.\n"
     ]
    },
    {
     "name": "stdout",
     "output_type": "stream",
     "text": [
      "306/306 [==============================] - 0s 518us/step\n",
      "306/306 [==============================] - 0s 508us/step\n",
      "306/306 [==============================] - 0s 512us/step\n",
      "306/306 [==============================] - 0s 544us/step\n",
      "306/306 [==============================] - 0s 525us/step\n"
     ]
    },
    {
     "name": "stderr",
     "output_type": "stream",
     "text": [
      "[I 2025-01-25 17:19:30,266] Trial 97 finished with value: 0.8365545493194178 and parameters: {'n_layers': 2, 'n_units_i': 128, 'dropout_rate': 0.17897606597373358, 'n_units_h': 160, 'lr': 0.00034803259916718816}. Best is trial 15 with value: 0.8371687999336684.\n"
     ]
    },
    {
     "name": "stdout",
     "output_type": "stream",
     "text": [
      "306/306 [==============================] - 0s 636us/step\n",
      "306/306 [==============================] - 0s 664us/step\n",
      "306/306 [==============================] - 0s 676us/step\n",
      "306/306 [==============================] - 0s 618us/step\n",
      "306/306 [==============================] - 0s 623us/step\n"
     ]
    },
    {
     "name": "stderr",
     "output_type": "stream",
     "text": [
      "[I 2025-01-25 17:20:22,600] Trial 98 finished with value: 0.8354898650220587 and parameters: {'n_layers': 5, 'n_units_i': 208, 'dropout_rate': 0.11883734626189223, 'n_units_h': 144, 'lr': 0.0004189896194420596}. Best is trial 15 with value: 0.8371687999336684.\n"
     ]
    },
    {
     "name": "stdout",
     "output_type": "stream",
     "text": [
      "306/306 [==============================] - 0s 523us/step\n",
      "306/306 [==============================] - 0s 521us/step\n",
      "306/306 [==============================] - 0s 535us/step\n",
      "306/306 [==============================] - 0s 552us/step\n",
      "306/306 [==============================] - 0s 530us/step\n"
     ]
    },
    {
     "name": "stderr",
     "output_type": "stream",
     "text": [
      "[I 2025-01-25 17:20:52,478] Trial 99 finished with value: 0.8356537259674737 and parameters: {'n_layers': 3, 'n_units_i': 64, 'dropout_rate': 0.19771734191357568, 'n_units_h': 64, 'lr': 0.00192078790691839}. Best is trial 15 with value: 0.8371687999336684.\n"
     ]
    },
    {
     "name": "stdout",
     "output_type": "stream",
     "text": [
      "Best hyperparameters: {'n_layers': 4, 'n_units_i': 208, 'dropout_rate': 0.13949398926143974, 'n_units_h': 80, 'lr': 0.00027103013990727843}\n"
     ]
    }
   ],
   "source": [
    "study = optuna.create_study(direction=\"maximize\")\n",
    "study.optimize(objective, n_trials=100)\n",
    "\n",
    "print(\"Best hyperparameters:\", study.best_params)"
   ]
  },
  {
   "cell_type": "markdown",
   "metadata": {},
   "source": [
    "Best hyperparameters: {'n_layers': 4, 'n_units_i': 208, 'dropout_rate': 0.13949398926143974, 'n_units_h': 80, 'lr': 0.00027103013990727843}"
   ]
  },
  {
   "cell_type": "code",
   "execution_count": 36,
   "metadata": {},
   "outputs": [
    {
     "data": {
      "application/vnd.plotly.v1+json": {
       "config": {
        "plotlyServerURL": "https://plot.ly"
       },
       "data": [
        {
         "mode": "markers",
         "name": "Objective Value",
         "type": "scatter",
         "x": [
          0,
          1,
          2,
          3,
          4,
          5,
          6,
          7,
          8,
          9,
          10,
          11,
          12,
          13,
          14,
          15,
          16,
          17,
          18,
          19,
          20,
          21,
          22,
          23,
          24,
          25,
          26,
          27,
          28,
          29,
          30,
          31,
          32,
          33,
          34,
          35,
          36,
          37,
          38,
          39,
          40,
          41,
          42,
          43,
          44,
          45,
          46,
          47,
          48,
          49,
          50,
          51,
          52,
          53,
          54,
          55,
          56,
          57,
          58,
          59,
          60,
          61,
          62,
          63,
          64,
          65,
          66,
          67,
          68,
          69,
          70,
          71,
          72,
          73,
          74,
          75,
          76,
          77,
          78,
          79,
          80,
          81,
          82,
          83,
          84,
          85,
          86,
          87,
          88,
          89,
          90,
          91,
          92,
          93,
          94,
          95,
          96,
          97,
          98,
          99
         ],
         "y": [
          0.8328896925196444,
          0.836165494587544,
          0.8359608198358325,
          0.8364111990250797,
          0.8364931200661573,
          0.8336063182362702,
          0.8353056757704114,
          0.8367797850242317,
          0.8356127004734846,
          0.835100900414648,
          0.8357151070146258,
          0.8361041386914044,
          0.8364931116824863,
          0.83669784931173,
          0.8363907617311239,
          0.8371687999336684,
          0.8344457102390361,
          0.8360017405339342,
          0.834896139730309,
          0.8361654966834617,
          0.8275459867408891,
          0.8357355820351009,
          0.8365136223335629,
          0.8362270097734321,
          0.8363702594637183,
          0.8367387804894204,
          0.8357356323371269,
          0.8353875527972161,
          0.8357151426452276,
          0.8360222700482707,
          0.8359812718012124,
          0.8356331775898773,
          0.8356946885839301,
          0.8348756940526825,
          0.8362678550184948,
          0.8367388098322687,
          0.8357969798495952,
          0.8362474847939072,
          0.8357970112883615,
          0.8360426654238712,
          0.8366364200584695,
          0.8362064236693165,
          0.8362475141367556,
          0.8344252624654918,
          0.8354080194340201,
          0.8347938086422066,
          0.8364726639089419,
          0.8356536588981056,
          0.8365545493194178,
          0.8366569055585332,
          0.8360631530198527,
          0.8364726303742579,
          0.8362474072449505,
          0.836247428204128,
          0.835326102584778,
          0.8363702343127055,
          0.8360426549442825,
          0.8360017531094407,
          0.8358993633356414,
          0.8359812152114332,
          0.8352442150783844,
          0.8359607821093131,
          0.8369844744473672,
          0.8350599440859447,
          0.8361655155467214,
          0.8350394648736341,
          0.8354284881667418,
          0.8366159303665702,
          0.8335243783319329,
          0.8355103714812999,
          0.8353670232828796,
          0.8362269489918175,
          0.8363088888961547,
          0.8357765048291202,
          0.8360222323217512,
          0.8357151279738033,
          0.8368616892979673,
          0.8363088281145401,
          0.8363088930879903,
          0.8362269427040643,
          0.8354489527076281,
          0.8356127465836749,
          0.8349780775387284,
          0.8354899341873445,
          0.836697882846414,
          0.8352442129824666,
          0.8358994094458317,
          0.8347323332787555,
          0.8359608030684906,
          0.8363088113471981,
          0.8346709815744517,
          0.8365954553460953,
          0.8354694088648434,
          0.835756031904563,
          0.8356332299878211,
          0.8359403531990287,
          0.8358584552130462,
          0.8365545493194178,
          0.8354898650220587,
          0.8356537259674737
         ]
        },
        {
         "mode": "lines",
         "name": "Best Value",
         "type": "scatter",
         "x": [
          0,
          1,
          2,
          3,
          4,
          5,
          6,
          7,
          8,
          9,
          10,
          11,
          12,
          13,
          14,
          15,
          16,
          17,
          18,
          19,
          20,
          21,
          22,
          23,
          24,
          25,
          26,
          27,
          28,
          29,
          30,
          31,
          32,
          33,
          34,
          35,
          36,
          37,
          38,
          39,
          40,
          41,
          42,
          43,
          44,
          45,
          46,
          47,
          48,
          49,
          50,
          51,
          52,
          53,
          54,
          55,
          56,
          57,
          58,
          59,
          60,
          61,
          62,
          63,
          64,
          65,
          66,
          67,
          68,
          69,
          70,
          71,
          72,
          73,
          74,
          75,
          76,
          77,
          78,
          79,
          80,
          81,
          82,
          83,
          84,
          85,
          86,
          87,
          88,
          89,
          90,
          91,
          92,
          93,
          94,
          95,
          96,
          97,
          98,
          99
         ],
         "y": [
          0.8328896925196444,
          0.836165494587544,
          0.836165494587544,
          0.8364111990250797,
          0.8364931200661573,
          0.8364931200661573,
          0.8364931200661573,
          0.8367797850242317,
          0.8367797850242317,
          0.8367797850242317,
          0.8367797850242317,
          0.8367797850242317,
          0.8367797850242317,
          0.8367797850242317,
          0.8367797850242317,
          0.8371687999336684,
          0.8371687999336684,
          0.8371687999336684,
          0.8371687999336684,
          0.8371687999336684,
          0.8371687999336684,
          0.8371687999336684,
          0.8371687999336684,
          0.8371687999336684,
          0.8371687999336684,
          0.8371687999336684,
          0.8371687999336684,
          0.8371687999336684,
          0.8371687999336684,
          0.8371687999336684,
          0.8371687999336684,
          0.8371687999336684,
          0.8371687999336684,
          0.8371687999336684,
          0.8371687999336684,
          0.8371687999336684,
          0.8371687999336684,
          0.8371687999336684,
          0.8371687999336684,
          0.8371687999336684,
          0.8371687999336684,
          0.8371687999336684,
          0.8371687999336684,
          0.8371687999336684,
          0.8371687999336684,
          0.8371687999336684,
          0.8371687999336684,
          0.8371687999336684,
          0.8371687999336684,
          0.8371687999336684,
          0.8371687999336684,
          0.8371687999336684,
          0.8371687999336684,
          0.8371687999336684,
          0.8371687999336684,
          0.8371687999336684,
          0.8371687999336684,
          0.8371687999336684,
          0.8371687999336684,
          0.8371687999336684,
          0.8371687999336684,
          0.8371687999336684,
          0.8371687999336684,
          0.8371687999336684,
          0.8371687999336684,
          0.8371687999336684,
          0.8371687999336684,
          0.8371687999336684,
          0.8371687999336684,
          0.8371687999336684,
          0.8371687999336684,
          0.8371687999336684,
          0.8371687999336684,
          0.8371687999336684,
          0.8371687999336684,
          0.8371687999336684,
          0.8371687999336684,
          0.8371687999336684,
          0.8371687999336684,
          0.8371687999336684,
          0.8371687999336684,
          0.8371687999336684,
          0.8371687999336684,
          0.8371687999336684,
          0.8371687999336684,
          0.8371687999336684,
          0.8371687999336684,
          0.8371687999336684,
          0.8371687999336684,
          0.8371687999336684,
          0.8371687999336684,
          0.8371687999336684,
          0.8371687999336684,
          0.8371687999336684,
          0.8371687999336684,
          0.8371687999336684,
          0.8371687999336684,
          0.8371687999336684,
          0.8371687999336684,
          0.8371687999336684
         ]
        },
        {
         "marker": {
          "color": "#cccccc"
         },
         "mode": "markers",
         "name": "Infeasible Trial",
         "showlegend": false,
         "type": "scatter",
         "x": [],
         "y": []
        }
       ],
       "layout": {
        "template": {
         "data": {
          "bar": [
           {
            "error_x": {
             "color": "#2a3f5f"
            },
            "error_y": {
             "color": "#2a3f5f"
            },
            "marker": {
             "line": {
              "color": "#E5ECF6",
              "width": 0.5
             },
             "pattern": {
              "fillmode": "overlay",
              "size": 10,
              "solidity": 0.2
             }
            },
            "type": "bar"
           }
          ],
          "barpolar": [
           {
            "marker": {
             "line": {
              "color": "#E5ECF6",
              "width": 0.5
             },
             "pattern": {
              "fillmode": "overlay",
              "size": 10,
              "solidity": 0.2
             }
            },
            "type": "barpolar"
           }
          ],
          "carpet": [
           {
            "aaxis": {
             "endlinecolor": "#2a3f5f",
             "gridcolor": "white",
             "linecolor": "white",
             "minorgridcolor": "white",
             "startlinecolor": "#2a3f5f"
            },
            "baxis": {
             "endlinecolor": "#2a3f5f",
             "gridcolor": "white",
             "linecolor": "white",
             "minorgridcolor": "white",
             "startlinecolor": "#2a3f5f"
            },
            "type": "carpet"
           }
          ],
          "choropleth": [
           {
            "colorbar": {
             "outlinewidth": 0,
             "ticks": ""
            },
            "type": "choropleth"
           }
          ],
          "contour": [
           {
            "colorbar": {
             "outlinewidth": 0,
             "ticks": ""
            },
            "colorscale": [
             [
              0,
              "#0d0887"
             ],
             [
              0.1111111111111111,
              "#46039f"
             ],
             [
              0.2222222222222222,
              "#7201a8"
             ],
             [
              0.3333333333333333,
              "#9c179e"
             ],
             [
              0.4444444444444444,
              "#bd3786"
             ],
             [
              0.5555555555555556,
              "#d8576b"
             ],
             [
              0.6666666666666666,
              "#ed7953"
             ],
             [
              0.7777777777777778,
              "#fb9f3a"
             ],
             [
              0.8888888888888888,
              "#fdca26"
             ],
             [
              1,
              "#f0f921"
             ]
            ],
            "type": "contour"
           }
          ],
          "contourcarpet": [
           {
            "colorbar": {
             "outlinewidth": 0,
             "ticks": ""
            },
            "type": "contourcarpet"
           }
          ],
          "heatmap": [
           {
            "colorbar": {
             "outlinewidth": 0,
             "ticks": ""
            },
            "colorscale": [
             [
              0,
              "#0d0887"
             ],
             [
              0.1111111111111111,
              "#46039f"
             ],
             [
              0.2222222222222222,
              "#7201a8"
             ],
             [
              0.3333333333333333,
              "#9c179e"
             ],
             [
              0.4444444444444444,
              "#bd3786"
             ],
             [
              0.5555555555555556,
              "#d8576b"
             ],
             [
              0.6666666666666666,
              "#ed7953"
             ],
             [
              0.7777777777777778,
              "#fb9f3a"
             ],
             [
              0.8888888888888888,
              "#fdca26"
             ],
             [
              1,
              "#f0f921"
             ]
            ],
            "type": "heatmap"
           }
          ],
          "heatmapgl": [
           {
            "colorbar": {
             "outlinewidth": 0,
             "ticks": ""
            },
            "colorscale": [
             [
              0,
              "#0d0887"
             ],
             [
              0.1111111111111111,
              "#46039f"
             ],
             [
              0.2222222222222222,
              "#7201a8"
             ],
             [
              0.3333333333333333,
              "#9c179e"
             ],
             [
              0.4444444444444444,
              "#bd3786"
             ],
             [
              0.5555555555555556,
              "#d8576b"
             ],
             [
              0.6666666666666666,
              "#ed7953"
             ],
             [
              0.7777777777777778,
              "#fb9f3a"
             ],
             [
              0.8888888888888888,
              "#fdca26"
             ],
             [
              1,
              "#f0f921"
             ]
            ],
            "type": "heatmapgl"
           }
          ],
          "histogram": [
           {
            "marker": {
             "pattern": {
              "fillmode": "overlay",
              "size": 10,
              "solidity": 0.2
             }
            },
            "type": "histogram"
           }
          ],
          "histogram2d": [
           {
            "colorbar": {
             "outlinewidth": 0,
             "ticks": ""
            },
            "colorscale": [
             [
              0,
              "#0d0887"
             ],
             [
              0.1111111111111111,
              "#46039f"
             ],
             [
              0.2222222222222222,
              "#7201a8"
             ],
             [
              0.3333333333333333,
              "#9c179e"
             ],
             [
              0.4444444444444444,
              "#bd3786"
             ],
             [
              0.5555555555555556,
              "#d8576b"
             ],
             [
              0.6666666666666666,
              "#ed7953"
             ],
             [
              0.7777777777777778,
              "#fb9f3a"
             ],
             [
              0.8888888888888888,
              "#fdca26"
             ],
             [
              1,
              "#f0f921"
             ]
            ],
            "type": "histogram2d"
           }
          ],
          "histogram2dcontour": [
           {
            "colorbar": {
             "outlinewidth": 0,
             "ticks": ""
            },
            "colorscale": [
             [
              0,
              "#0d0887"
             ],
             [
              0.1111111111111111,
              "#46039f"
             ],
             [
              0.2222222222222222,
              "#7201a8"
             ],
             [
              0.3333333333333333,
              "#9c179e"
             ],
             [
              0.4444444444444444,
              "#bd3786"
             ],
             [
              0.5555555555555556,
              "#d8576b"
             ],
             [
              0.6666666666666666,
              "#ed7953"
             ],
             [
              0.7777777777777778,
              "#fb9f3a"
             ],
             [
              0.8888888888888888,
              "#fdca26"
             ],
             [
              1,
              "#f0f921"
             ]
            ],
            "type": "histogram2dcontour"
           }
          ],
          "mesh3d": [
           {
            "colorbar": {
             "outlinewidth": 0,
             "ticks": ""
            },
            "type": "mesh3d"
           }
          ],
          "parcoords": [
           {
            "line": {
             "colorbar": {
              "outlinewidth": 0,
              "ticks": ""
             }
            },
            "type": "parcoords"
           }
          ],
          "pie": [
           {
            "automargin": true,
            "type": "pie"
           }
          ],
          "scatter": [
           {
            "fillpattern": {
             "fillmode": "overlay",
             "size": 10,
             "solidity": 0.2
            },
            "type": "scatter"
           }
          ],
          "scatter3d": [
           {
            "line": {
             "colorbar": {
              "outlinewidth": 0,
              "ticks": ""
             }
            },
            "marker": {
             "colorbar": {
              "outlinewidth": 0,
              "ticks": ""
             }
            },
            "type": "scatter3d"
           }
          ],
          "scattercarpet": [
           {
            "marker": {
             "colorbar": {
              "outlinewidth": 0,
              "ticks": ""
             }
            },
            "type": "scattercarpet"
           }
          ],
          "scattergeo": [
           {
            "marker": {
             "colorbar": {
              "outlinewidth": 0,
              "ticks": ""
             }
            },
            "type": "scattergeo"
           }
          ],
          "scattergl": [
           {
            "marker": {
             "colorbar": {
              "outlinewidth": 0,
              "ticks": ""
             }
            },
            "type": "scattergl"
           }
          ],
          "scattermapbox": [
           {
            "marker": {
             "colorbar": {
              "outlinewidth": 0,
              "ticks": ""
             }
            },
            "type": "scattermapbox"
           }
          ],
          "scatterpolar": [
           {
            "marker": {
             "colorbar": {
              "outlinewidth": 0,
              "ticks": ""
             }
            },
            "type": "scatterpolar"
           }
          ],
          "scatterpolargl": [
           {
            "marker": {
             "colorbar": {
              "outlinewidth": 0,
              "ticks": ""
             }
            },
            "type": "scatterpolargl"
           }
          ],
          "scatterternary": [
           {
            "marker": {
             "colorbar": {
              "outlinewidth": 0,
              "ticks": ""
             }
            },
            "type": "scatterternary"
           }
          ],
          "surface": [
           {
            "colorbar": {
             "outlinewidth": 0,
             "ticks": ""
            },
            "colorscale": [
             [
              0,
              "#0d0887"
             ],
             [
              0.1111111111111111,
              "#46039f"
             ],
             [
              0.2222222222222222,
              "#7201a8"
             ],
             [
              0.3333333333333333,
              "#9c179e"
             ],
             [
              0.4444444444444444,
              "#bd3786"
             ],
             [
              0.5555555555555556,
              "#d8576b"
             ],
             [
              0.6666666666666666,
              "#ed7953"
             ],
             [
              0.7777777777777778,
              "#fb9f3a"
             ],
             [
              0.8888888888888888,
              "#fdca26"
             ],
             [
              1,
              "#f0f921"
             ]
            ],
            "type": "surface"
           }
          ],
          "table": [
           {
            "cells": {
             "fill": {
              "color": "#EBF0F8"
             },
             "line": {
              "color": "white"
             }
            },
            "header": {
             "fill": {
              "color": "#C8D4E3"
             },
             "line": {
              "color": "white"
             }
            },
            "type": "table"
           }
          ]
         },
         "layout": {
          "annotationdefaults": {
           "arrowcolor": "#2a3f5f",
           "arrowhead": 0,
           "arrowwidth": 1
          },
          "autotypenumbers": "strict",
          "coloraxis": {
           "colorbar": {
            "outlinewidth": 0,
            "ticks": ""
           }
          },
          "colorscale": {
           "diverging": [
            [
             0,
             "#8e0152"
            ],
            [
             0.1,
             "#c51b7d"
            ],
            [
             0.2,
             "#de77ae"
            ],
            [
             0.3,
             "#f1b6da"
            ],
            [
             0.4,
             "#fde0ef"
            ],
            [
             0.5,
             "#f7f7f7"
            ],
            [
             0.6,
             "#e6f5d0"
            ],
            [
             0.7,
             "#b8e186"
            ],
            [
             0.8,
             "#7fbc41"
            ],
            [
             0.9,
             "#4d9221"
            ],
            [
             1,
             "#276419"
            ]
           ],
           "sequential": [
            [
             0,
             "#0d0887"
            ],
            [
             0.1111111111111111,
             "#46039f"
            ],
            [
             0.2222222222222222,
             "#7201a8"
            ],
            [
             0.3333333333333333,
             "#9c179e"
            ],
            [
             0.4444444444444444,
             "#bd3786"
            ],
            [
             0.5555555555555556,
             "#d8576b"
            ],
            [
             0.6666666666666666,
             "#ed7953"
            ],
            [
             0.7777777777777778,
             "#fb9f3a"
            ],
            [
             0.8888888888888888,
             "#fdca26"
            ],
            [
             1,
             "#f0f921"
            ]
           ],
           "sequentialminus": [
            [
             0,
             "#0d0887"
            ],
            [
             0.1111111111111111,
             "#46039f"
            ],
            [
             0.2222222222222222,
             "#7201a8"
            ],
            [
             0.3333333333333333,
             "#9c179e"
            ],
            [
             0.4444444444444444,
             "#bd3786"
            ],
            [
             0.5555555555555556,
             "#d8576b"
            ],
            [
             0.6666666666666666,
             "#ed7953"
            ],
            [
             0.7777777777777778,
             "#fb9f3a"
            ],
            [
             0.8888888888888888,
             "#fdca26"
            ],
            [
             1,
             "#f0f921"
            ]
           ]
          },
          "colorway": [
           "#636efa",
           "#EF553B",
           "#00cc96",
           "#ab63fa",
           "#FFA15A",
           "#19d3f3",
           "#FF6692",
           "#B6E880",
           "#FF97FF",
           "#FECB52"
          ],
          "font": {
           "color": "#2a3f5f"
          },
          "geo": {
           "bgcolor": "white",
           "lakecolor": "white",
           "landcolor": "#E5ECF6",
           "showlakes": true,
           "showland": true,
           "subunitcolor": "white"
          },
          "hoverlabel": {
           "align": "left"
          },
          "hovermode": "closest",
          "mapbox": {
           "style": "light"
          },
          "paper_bgcolor": "white",
          "plot_bgcolor": "#E5ECF6",
          "polar": {
           "angularaxis": {
            "gridcolor": "white",
            "linecolor": "white",
            "ticks": ""
           },
           "bgcolor": "#E5ECF6",
           "radialaxis": {
            "gridcolor": "white",
            "linecolor": "white",
            "ticks": ""
           }
          },
          "scene": {
           "xaxis": {
            "backgroundcolor": "#E5ECF6",
            "gridcolor": "white",
            "gridwidth": 2,
            "linecolor": "white",
            "showbackground": true,
            "ticks": "",
            "zerolinecolor": "white"
           },
           "yaxis": {
            "backgroundcolor": "#E5ECF6",
            "gridcolor": "white",
            "gridwidth": 2,
            "linecolor": "white",
            "showbackground": true,
            "ticks": "",
            "zerolinecolor": "white"
           },
           "zaxis": {
            "backgroundcolor": "#E5ECF6",
            "gridcolor": "white",
            "gridwidth": 2,
            "linecolor": "white",
            "showbackground": true,
            "ticks": "",
            "zerolinecolor": "white"
           }
          },
          "shapedefaults": {
           "line": {
            "color": "#2a3f5f"
           }
          },
          "ternary": {
           "aaxis": {
            "gridcolor": "white",
            "linecolor": "white",
            "ticks": ""
           },
           "baxis": {
            "gridcolor": "white",
            "linecolor": "white",
            "ticks": ""
           },
           "bgcolor": "#E5ECF6",
           "caxis": {
            "gridcolor": "white",
            "linecolor": "white",
            "ticks": ""
           }
          },
          "title": {
           "x": 0.05
          },
          "xaxis": {
           "automargin": true,
           "gridcolor": "white",
           "linecolor": "white",
           "ticks": "",
           "title": {
            "standoff": 15
           },
           "zerolinecolor": "white",
           "zerolinewidth": 2
          },
          "yaxis": {
           "automargin": true,
           "gridcolor": "white",
           "linecolor": "white",
           "ticks": "",
           "title": {
            "standoff": 15
           },
           "zerolinecolor": "white",
           "zerolinewidth": 2
          }
         }
        },
        "title": {
         "text": "Optimization History Plot"
        },
        "xaxis": {
         "title": {
          "text": "Trial"
         }
        },
        "yaxis": {
         "title": {
          "text": "Objective Value"
         }
        }
       }
      }
     },
     "metadata": {},
     "output_type": "display_data"
    }
   ],
   "source": [
    "import optuna.visualization as vis\n",
    "fig = vis.plot_optimization_history(study)\n",
    "fig.show()"
   ]
  },
  {
   "cell_type": "code",
   "execution_count": 37,
   "metadata": {},
   "outputs": [
    {
     "data": {
      "image/png": "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",
      "text/plain": [
       "<Figure size 1000x600 with 1 Axes>"
      ]
     },
     "metadata": {},
     "output_type": "display_data"
    }
   ],
   "source": [
    "\n",
    "\n",
    "n_layers = [trial.params['n_layers'] for trial in study.trials]\n",
    "accuracies = [trial.value for trial in study.trials]\n",
    "\n",
    "\n",
    "data = pd.DataFrame({'n_layers': n_layers, 'accuracy': accuracies})\n",
    "plt.figure(figsize=(10, 6))\n",
    "sns.boxplot(x='n_layers', y='accuracy', data=data, palette='Set2')\n",
    "\n",
    "\n",
    "plt.title('Accuracy vs. Number of Hidden Layers')\n",
    "plt.xlabel('Number of Hidden Layers')\n",
    "plt.ylabel('Accuracy')\n",
    "plt.grid(axis='y') \n",
    "plt.show()"
   ]
  },
  {
   "cell_type": "code",
   "execution_count": 38,
   "metadata": {},
   "outputs": [
    {
     "data": {
      "image/png": "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",
      "text/plain": [
       "<Figure size 800x500 with 1 Axes>"
      ]
     },
     "metadata": {},
     "output_type": "display_data"
    }
   ],
   "source": [
    "n_units_i = [trial.params['n_units_i'] for trial in study.trials]\n",
    "n_units_h = [trial.params['n_units_h'] for trial in study.trials]\n",
    "accuracies = [trial.value for trial in study.trials if trial.value is not None]\n",
    "\n",
    "sns.set(style=\"whitegrid\")\n",
    "plt.figure(figsize=(8, 5))\n",
    "sns.lineplot(x=n_units_h, y=accuracies, marker='o', color='b', label='Hidden Layer')\n",
    "sns.lineplot(x=n_units_i, y=accuracies, marker='s', color='r', label='Input Layer')\n",
    "plt.title('ANN Neurons Count vs. Accuracy', fontsize=14)\n",
    "plt.xlabel('Number of Neurons', fontsize=12)\n",
    "plt.ylabel('Accuracy Score', fontsize=12)\n",
    "plt.show()"
   ]
  },
  {
   "cell_type": "code",
   "execution_count": 5,
   "metadata": {},
   "outputs": [],
   "source": [
    "def build_best_model(study, input_dim,demographic_analysis_booster):\n",
    "    model = Sequential()\n",
    "    X, _ = load_data()\n",
    "    model = Sequential()\n",
    "    n_layers = study.best_params['n_layers']\n",
    "\n",
    "    # Input Layer\n",
    "    units = study.best_params['n_units_i'] + demographic_analysis_booster\n",
    "    model.add(Dense(units, activation=\"relu\", input_dim=input_dim))  # input_dim specified\n",
    "    dropout_rate = study.best_params['dropout_rate']\n",
    "    model.add(Dropout(dropout_rate))\n",
    "\n",
    "    # Hidden Layers\n",
    "    units_h = study.best_params['n_units_h'] + demographic_analysis_booster\n",
    "    for i in range(n_layers):\n",
    "        model.add(Dense(units_h, activation=\"relu\"))\n",
    "        model.add(Dropout(dropout_rate))\n",
    "\n",
    "    # Output layer\n",
    "    model.add(Dense(1, activation=\"sigmoid\"))\n",
    "    model.compile(optimizer=tf.keras.optimizers.Adam(learning_rate=study.best_params['lr']),\n",
    "                  loss=\"binary_crossentropy\",\n",
    "                  metrics=[\"accuracy\"])\n",
    "    return model"
   ]
  },
  {
   "cell_type": "code",
   "execution_count": null,
   "metadata": {},
   "outputs": [
    {
     "name": "stdout",
     "output_type": "stream",
     "text": [
      "306/306 [==============================] - 0s 561us/step\n",
      "306/306 [==============================] - 0s 571us/step\n",
      "306/306 [==============================] - 0s 518us/step\n",
      "306/306 [==============================] - 0s 516us/step\n",
      "306/306 [==============================] - 0s 571us/step\n",
      "0.8402948402948403\n",
      "F1 Score: 0.6078431372549019\n"
     ]
    }
   ],
   "source": [
    "from sklearn.metrics import f1_score\n",
    "X, y = load_data()\n",
    "scaler = StandardScaler()\n",
    "X = scaler.fit_transform(X)\n",
    "    \n",
    "skf = StratifiedKFold(n_splits=5, shuffle=True, random_state=42)\n",
    "\n",
    "for train_idx, test_idx in skf.split(X, y):\n",
    "    X_train, X_test = X[train_idx], X[test_idx]\n",
    "    y_train, y_test = y[train_idx], y[test_idx]\n",
    "    \n",
    "    model = build_best_model(study, X_train.shape[1],0)\n",
    "    model.fit(X_train, y_train, epochs=10, batch_size=128, verbose=0)\n",
    "    y_pred = (model.predict(X_test) > 0.5).astype(int)\n",
    "\n",
    "\n",
    "print(accuracy_score(y_test, y_pred))\n",
    "f1 = f1_score(y_test, y_pred)\n",
    "print(\"F1 Score:\", f1)\n",
    "model.save('ann_model.h5')"
   ]
  },
  {
   "cell_type": "markdown",
   "metadata": {},
   "source": [
    "Saving the model for use on the site"
   ]
  },
  {
   "cell_type": "code",
   "execution_count": 7,
   "metadata": {},
   "outputs": [
    {
     "name": "stdout",
     "output_type": "stream",
     "text": [
      "<keras.engine.sequential.Sequential object at 0x0000028F7C771D48>\n"
     ]
    }
   ],
   "source": [
    "model = load_model('ann_model.h5')\n",
    "print(model)\n"
   ]
  },
  {
   "cell_type": "markdown",
   "metadata": {},
   "source": [
    "Boosting the input and hidden layer neurons by a factor of 256, to see if this causes a demographic change"
   ]
  },
  {
   "cell_type": "code",
   "execution_count": 61,
   "metadata": {},
   "outputs": [
    {
     "name": "stdout",
     "output_type": "stream",
     "text": [
      "306/306 [==============================] - 0s 544us/step\n",
      "306/306 [==============================] - 0s 1ms/step\n",
      "306/306 [==============================] - 0s 513us/step\n",
      "306/306 [==============================] - 0s 1ms/step\n",
      "306/306 [==============================] - 0s 521us/step\n",
      "306/306 [==============================] - 0s 1ms/step\n",
      "306/306 [==============================] - 0s 549us/step\n",
      "306/306 [==============================] - 0s 1ms/step\n",
      "306/306 [==============================] - 0s 572us/step\n",
      "306/306 [==============================] - 0s 1ms/step\n",
      "0.8349984687224937\n",
      "0.8357559836984547\n",
      "0.8357730654280967\n",
      "0.8365663964944854\n",
      "0.8319000819000819\n",
      "0.8325143325143325\n"
     ]
    }
   ],
   "source": [
    "X, y = load_data()\n",
    "scaler = StandardScaler()\n",
    "X = scaler.fit_transform(X)\n",
    "\n",
    "skf = StratifiedKFold(n_splits=5, shuffle=True, random_state=42)\n",
    "accuracies_baseline_total = []\n",
    "accuracies_demographic_total = []\n",
    "accuracies_baseline_total_male = []\n",
    "accuracies_demographic_total_male = []\n",
    "accuracies_baseline_total_female = []\n",
    "accuracies_demographic_total_female = []\n",
    "\n",
    "data = pd.read_csv('dataset.csv')\n",
    "male_indexes = data.index[data['gender'] == 1].tolist()\n",
    "\n",
    "counter = 0\n",
    "for train_idx, test_idx in skf.split(X, y):\n",
    "    X_train, X_test = X[train_idx], X[test_idx]\n",
    "    y_train, y_test = y[train_idx], y[test_idx]\n",
    "    \n",
    "    model_baseline = build_best_model(study, X_train.shape[1],0)\n",
    "    model_demographic = build_best_model(study, X_train.shape[1],256)\n",
    "    model_baseline.fit(X_train, y_train, epochs=10, batch_size=128, verbose=0)\n",
    "    model_demographic.fit(X_train, y_train, epochs=10, batch_size=128, verbose=0)\n",
    "    \n",
    "    y_pred_baseline = (model_baseline.predict(X_test) > 0.5).astype(int)\n",
    "    y_pred_demographic = (model_demographic.predict(X_test) > 0.5).astype(int)\n",
    "    if counter in male_indexes:\n",
    "        accuracies_baseline_total_male.append(accuracy_score(y_test, y_pred_baseline))\n",
    "        accuracies_demographic_total_male.append(accuracy_score(y_test, y_pred_demographic))\n",
    "    else:\n",
    "        accuracies_baseline_total_female.append(accuracy_score(y_test, y_pred_baseline))\n",
    "        accuracies_demographic_total_female.append(accuracy_score(y_test, y_pred_demographic))\n",
    "\n",
    "    accuracies_baseline_total.append(accuracy_score(y_test, y_pred_baseline))\n",
    "    accuracies_demographic_total.append(accuracy_score(y_test, y_pred_demographic))\n",
    "\n",
    "    counter+=1\n",
    "\n",
    "print(np.mean(accuracies_baseline_total))\n",
    "print(np.mean(accuracies_demographic_total))\n",
    "print(np.mean(accuracies_baseline_total_male))\n",
    "print(np.mean(accuracies_demographic_total_male))\n",
    "print(np.mean(accuracies_baseline_total_female))\n",
    "print(np.mean(accuracies_demographic_total_female))\n"
   ]
  },
  {
   "cell_type": "markdown",
   "metadata": {},
   "source": [
    "Graphing the results of the above test into a bar chart"
   ]
  },
  {
   "cell_type": "code",
   "execution_count": 62,
   "metadata": {},
   "outputs": [
    {
     "data": {
      "image/png": "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",
      "text/plain": [
       "<Figure size 1000x600 with 1 Axes>"
      ]
     },
     "metadata": {},
     "output_type": "display_data"
    }
   ],
   "source": [
    "act = np.mean(accuracies_baseline_total)\n",
    "actm = np.mean(accuracies_baseline_total_male)\n",
    "actf = np.mean(accuracies_baseline_total_female)\n",
    "adt = np.mean(accuracies_demographic_total)\n",
    "adtm = np.mean(accuracies_demographic_total_male)\n",
    "adtf = np.mean(accuracies_demographic_total_female)\n",
    "\n",
    "labels = [\"Baseline Total\", \"Baseline Male\", \"Baseline Female\", \n",
    "          \"Boosted Total\", \"Boosted Male\", \"Boosted Female\"]\n",
    "values = [act, actm, actf, adt, adtm, adtf]\n",
    "\n",
    "# Plot\n",
    "plt.figure(figsize=(10, 6))\n",
    "plt.bar(labels, values, color=['blue', 'cyan', 'lightblue', 'green', 'lightgreen', 'darkgreen'])\n",
    "\n",
    "# Labels & Titles\n",
    "plt.xlabel(\"Category\")\n",
    "plt.ylabel(\"Accuracy\")\n",
    "plt.title(\"Comparison of Accuracy Across Groups\")\n",
    "plt.ylim(0, 1) \n",
    "plt.xticks(rotation=20)  # Rotate labels for better readability\n",
    "\n",
    "# Display values on bars\n",
    "for i, v in enumerate(values):\n",
    "    plt.text(i, v + 0.02, f\"{v:.2f}\", ha='center', fontsize=12)\n",
    "\n",
    "plt.show()"
   ]
  }
 ],
 "metadata": {
  "kernelspec": {
   "display_name": "Python 3",
   "language": "python",
   "name": "python3"
  },
  "language_info": {
   "codemirror_mode": {
    "name": "ipython",
    "version": 3
   },
   "file_extension": ".py",
   "mimetype": "text/x-python",
   "name": "python",
   "nbconvert_exporter": "python",
   "pygments_lexer": "ipython3",
   "version": "3.7.9"
  }
 },
 "nbformat": 4,
 "nbformat_minor": 2
}
