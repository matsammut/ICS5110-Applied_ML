{
 "cells": [
  {
   "cell_type": "code",
   "execution_count": null,
   "metadata": {},
   "outputs": [],
   "source": [
    "import pandas as pd\n",
    "from sklearn.preprocessing import OneHotEncoder\n",
    "import prince\n",
    "import matplotlib.pyplot as plt\n",
    "import matplotlib as mpl\n",
    "from sklearn.decomposition import PCA\n",
    "import numpy as np\n",
    "import seaborn as sns"
   ]
  },
  {
   "cell_type": "code",
   "execution_count": null,
   "metadata": {},
   "outputs": [],
   "source": [
    "data = pd.read_csv('imputed_dataset_2.csv')"
   ]
  },
  {
   "cell_type": "code",
   "execution_count": null,
   "metadata": {},
   "outputs": [],
   "source": [
    "print(f\"Unique values in workclass: {data['workclass'].unique()}: {data['workclass'].unique().size} unique values\\n\")\n",
    "print(f\"Unique values in occupation: {data['occupation'].unique()}: {data['occupation'].unique().size} unique values\")"
   ]
  },
  {
   "cell_type": "markdown",
   "metadata": {},
   "source": [
    "**One hot encoding (workclass and occupation)**"
   ]
  },
  {
   "cell_type": "code",
   "execution_count": null,
   "metadata": {},
   "outputs": [],
   "source": [
    "encoder = OneHotEncoder(sparse_output=False)\n",
    "one_hot_encoded = encoder.fit_transform(data[['workclass', 'occupation']])\n",
    "encoded_columns_df = pd.DataFrame(one_hot_encoded, columns=encoder.get_feature_names_out())"
   ]
  },
  {
   "cell_type": "code",
   "execution_count": null,
   "metadata": {},
   "outputs": [],
   "source": [
    "correlation_matrix = encoded_columns_df.corr()\n",
    "plt.figure(figsize=(15,10))\n",
    "sns.heatmap(correlation_matrix)\n",
    "plt.title('Correlation Matrix of One-Hot Encoded Features')\n",
    "plt.show()"
   ]
  },
  {
   "cell_type": "markdown",
   "metadata": {},
   "source": [
    "****Dimensionality reduction Phase**** <br>\n",
    "Testing MCA vs PCA"
   ]
  },
  {
   "cell_type": "markdown",
   "metadata": {},
   "source": [
    "**MCA**\n"
   ]
  },
  {
   "cell_type": "code",
   "execution_count": null,
   "metadata": {},
   "outputs": [],
   "source": [
    "mca = prince.MCA(\n",
    "    one_hot=False,\n",
    "    n_components=23\n",
    "    )\n",
    "\n",
    "mca_coords = mca.fit_transform(encoded_columns_df)"
   ]
  },
  {
   "cell_type": "code",
   "execution_count": null,
   "metadata": {},
   "outputs": [],
   "source": [
    "mca.eigenvalues_summary"
   ]
  },
  {
   "cell_type": "markdown",
   "metadata": {},
   "source": [
    "**MCA separately for workclass and occupation <br>**\n",
    "Testing if using MCA separately for the workclass features and occupation is improving the descriptive performances"
   ]
  },
  {
   "cell_type": "code",
   "execution_count": null,
   "metadata": {},
   "outputs": [],
   "source": [
    "# Separate the encoded columns\n",
    "workclass_cols = [col for col in encoded_columns_df.columns if 'workclass' in col]\n",
    "occupation_cols = [col for col in encoded_columns_df.columns if 'occupation' in col]\n",
    "\n",
    "# Create two separate MCAs\n",
    "mca_workclass = prince.MCA(n_components=8)\n",
    "mca_occupation = prince.MCA(n_components=15)\n",
    "\n",
    "# Fit and transform separately\n",
    "workclass_transformed = mca_workclass.fit_transform(encoded_columns_df[workclass_cols])\n",
    "occupation_transformed = mca_occupation.fit_transform(encoded_columns_df[occupation_cols])\n",
    "\n",
    "# Check eigenvalues summaries\n",
    "print(\"Workclass Components:\")\n",
    "print(mca_workclass.eigenvalues_summary)\n",
    "print(\"\\nOccupation Components:\")\n",
    "print(mca_occupation.eigenvalues_summary)"
   ]
  },
  {
   "cell_type": "markdown",
   "metadata": {},
   "source": [
    "**PCA**"
   ]
  },
  {
   "cell_type": "code",
   "execution_count": null,
   "metadata": {},
   "outputs": [],
   "source": [
    "pca_net = PCA(n_components=10)\n",
    "\n",
    "pca_result_net = pca_net.fit_transform(encoded_columns_df)\n",
    "\n",
    "pca_columns = [f'pca_component_{i+1}' for i in range(10)]\n",
    "\n",
    "pca_df = pd.DataFrame(pca_result_net, columns=pca_columns)"
   ]
  },
  {
   "cell_type": "code",
   "execution_count": null,
   "metadata": {},
   "outputs": [],
   "source": [
    "pca = PCA(n_components=22)\n",
    "\n",
    "pca_result = pca.fit_transform(encoded_columns_df)\n",
    "\n",
    "# Let's look at the explained variance ratios\n",
    "explained_variance_ratio = pca.explained_variance_ratio_\n",
    "cumulative_variance_ratio = np.cumsum(explained_variance_ratio)\n",
    "\n",
    "for i, (var, cum_var) in enumerate(zip(explained_variance_ratio[:22], cumulative_variance_ratio[:22]), 1):\n",
    "    print(f\"Component: {i}, Variance Explained: {var * 100:.2f}%, Cumulative Variance Explained: {cum_var * 100:.2f}%\")"
   ]
  },
  {
   "cell_type": "code",
   "execution_count": null,
   "metadata": {},
   "outputs": [],
   "source": [
    "# Get the eigenvalues summary dataframe and convert percentage column to numeric\n",
    "eigenvalues_summary = mca.eigenvalues_summary\n",
    "cumulative_variance = pd.to_numeric(eigenvalues_summary['% of variance (cumulative)'].str.rstrip('%')) / 100\n",
    "\n",
    "plt.figure(figsize=(10, 6))\n",
    "\n",
    "# Plot both MCA and PCA with different line styles and some transparency\n",
    "plt.plot(range(1, len(eigenvalues_summary) + 1),\n",
    "         cumulative_variance, 'ro-', label='MCA', alpha=0.7,\n",
    "         linestyle='--',  \n",
    "         linewidth=1,     \n",
    "         markersize=8)   \n",
    "\n",
    "plt.plot(range(1, len(pca.explained_variance_ratio_) + 1),\n",
    "         np.cumsum(pca.explained_variance_ratio_), 'bo-', label='PCA', alpha=0.7,\n",
    "         linestyle='-.',  \n",
    "         linewidth=1,     \n",
    "         markersize=8)    \n",
    "\n",
    "plt.xlabel('Number of Components', fontsize=15)\n",
    "plt.ylabel('Cumulative Explained Variance Ratio', fontsize=15)\n",
    "plt.title('Comparison of MCA and PCA Cumulative Explained Variance', \n",
    "          fontsize=19, fontweight=\"bold\")\n",
    "plt.grid(True, alpha=0.9)\n",
    "plt.legend(fontsize=12)\n",
    "plt.tight_layout()\n",
    "plt.show()"
   ]
  },
  {
   "cell_type": "markdown",
   "metadata": {},
   "source": [
    "**Integrating component columns in the dataset**"
   ]
  },
  {
   "cell_type": "code",
   "execution_count": null,
   "metadata": {},
   "outputs": [],
   "source": [
    "data = data.drop(columns=['workclass', 'occupation'], axis=1) #remove the original columns\n",
    "data = pd.concat([data, pca_df], axis=1) #add the PCA components"
   ]
  },
  {
   "cell_type": "code",
   "execution_count": null,
   "metadata": {},
   "outputs": [],
   "source": [
    "data.to_csv('dataset.csv')"
   ]
  }
 ],
 "metadata": {
  "kernelspec": {
   "display_name": "Python 3",
   "language": "python",
   "name": "python3"
  },
  "language_info": {
   "codemirror_mode": {
    "name": "ipython",
    "version": 3
   },
   "file_extension": ".py",
   "mimetype": "text/x-python",
   "name": "python",
   "nbconvert_exporter": "python",
   "pygments_lexer": "ipython3",
   "version": "3.7.9"
  }
 },
 "nbformat": 4,
 "nbformat_minor": 2
}
