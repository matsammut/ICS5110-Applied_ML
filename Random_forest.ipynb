{
 "cells": [
  {
   "cell_type": "code",
   "execution_count": 1,
   "metadata": {},
   "outputs": [
    {
     "name": "stderr",
     "output_type": "stream",
     "text": [
      "c:\\Users\\User\\AppData\\Local\\Programs\\Python\\Python312\\Lib\\site-packages\\tqdm\\auto.py:21: TqdmWarning: IProgress not found. Please update jupyter and ipywidgets. See https://ipywidgets.readthedocs.io/en/stable/user_install.html\n",
      "  from .autonotebook import tqdm as notebook_tqdm\n"
     ]
    }
   ],
   "source": [
    "import optuna\n",
    "import random\n",
    "import numpy as np\n",
    "import pandas as pd\n",
    "from sklearn.ensemble import RandomForestClassifier\n",
    "from sklearn.model_selection import train_test_split\n",
    "from sklearn.metrics import accuracy_score, precision_score, f1_score, recall_score\n",
    "from sklearn.preprocessing import StandardScaler, MinMaxScaler, MaxAbsScaler, RobustScaler, QuantileTransformer\n",
    "from sklearn.metrics import confusion_matrix\n",
    "from sklearn.model_selection import cross_validate\n",
    "from sklearn.model_selection import cross_val_score, cross_validate\n",
    "import joblib\n",
    "import warnings\n",
    "\n",
    "warnings.filterwarnings(\"ignore\")\n",
    "\n",
    "# Set global random seeds for reproducibility\n",
    "SEED = 42\n",
    "random.seed(SEED)\n",
    "\n",
    "np.random.seed(SEED)\n"
   ]
  },
  {
   "cell_type": "code",
   "execution_count": 2,
   "metadata": {},
   "outputs": [],
   "source": [
    "def Rescaling_experiments(data, numeric_cols, scaling_method):\n",
    "    if scaling_method == 0:  # No Scaling\n",
    "        pass\n",
    "    elif scaling_method == 1:  # MaxAbsScaler\n",
    "        data[numeric_cols] = MaxAbsScaler().fit_transform(data[numeric_cols])\n",
    "    elif scaling_method == 2:  # StandardScaler\n",
    "        data[numeric_cols] = StandardScaler().fit_transform(data[numeric_cols])\n",
    "    elif scaling_method == 3:  # MinMaxScaler\n",
    "        data[numeric_cols] = MinMaxScaler().fit_transform(data[numeric_cols])\n",
    "    elif scaling_method == 4:  # RobustScaler\n",
    "        data[numeric_cols] = RobustScaler().fit_transform(data[numeric_cols])\n",
    "    elif scaling_method == 5:  # QuantileTransformer (Uniform)\n",
    "        data[numeric_cols] = QuantileTransformer(output_distribution='uniform', random_state=SEED).fit_transform(data[numeric_cols])\n",
    "    elif scaling_method == 6:  # QuantileTransformer (Normal)\n",
    "        data[numeric_cols] = QuantileTransformer(output_distribution='normal', random_state=SEED).fit_transform(data[numeric_cols])\n",
    "    return data\n"
   ]
  },
  {
   "cell_type": "code",
   "execution_count": 3,
   "metadata": {},
   "outputs": [
    {
     "name": "stdout",
     "output_type": "stream",
     "text": [
      "Data processed and split into training and testing \n"
     ]
    }
   ],
   "source": [
    "# Load Dataset\n",
    "data = pd.read_csv('dataset.csv')\n",
    "\n",
    "# Specify numeric columns for scaling\n",
    "numeric_cols = ['age', 'educational-num', 'hours-per-week']\n",
    "\n",
    "# Apply rescaling (using QuantileTransformer Normal in this example)\n",
    "scaling_method = 6\n",
    "processed_data = Rescaling_experiments(data.copy(), numeric_cols, scaling_method)\n",
    "\n",
    "# Split features and target\n",
    "x = processed_data.drop(columns=['income'])\n",
    "y = processed_data['income']\n",
    "\n",
    "# Train-test split\n",
    "X_train, X_test, y_train, y_test = train_test_split(x, y, test_size=0.3, random_state=SEED)\n",
    "\n",
    "print(\"Data processed and split into training and testing \")\n"
   ]
  },
  {
   "cell_type": "code",
   "execution_count": 5,
   "metadata": {},
   "outputs": [
    {
     "name": "stdout",
     "output_type": "stream",
     "text": [
      "Model trained successfully.\n"
     ]
    }
   ],
   "source": [
    "# Define RandomForestClassifier with best parameters\n",
    "DTC=RandomForestClassifier\n",
    "best_model = DTC(\n",
    "    n_estimators=150,         # Number of trees in the forest\n",
    "    criterion='gini',       # Split quality: 'entropy' for information gain\n",
    "    max_depth=13,              # Maximum depth of each tree\n",
    "    min_samples_split=4,      # Minimum number of samples required to split an internal node\n",
    "    min_samples_leaf=2,        # Minimum number of samples required to be at a leaf node\n",
    "    max_features='sqrt',       # Number of features to consider for splitting at each node ('sqrt' = square root of features)\n",
    "    bootstrap=True,            # Whether bootstrap samples are used when building trees\n",
    "    ccp_alpha=0.0,             # Complexity parameter for pruning (0.0 = no pruning)\n",
    "    class_weight=None       # Weights associated with classes (None = all classes are weighted equally)\n",
    "                # Seed for reproducibility\n",
    ")\n",
    "\n",
    "\n",
    "best_model.fit(X_train,y_train)\n",
    "print(\"Model trained successfully.\")\n"
   ]
  },
  {
   "cell_type": "code",
   "execution_count": 6,
   "metadata": {},
   "outputs": [
    {
     "name": "stdout",
     "output_type": "stream",
     "text": [
      "Accuracy on Test Set: 0.8468572988466526\n"
     ]
    }
   ],
   "source": [
    "# Predict test set\n",
    "prediction = best_model.predict(X_test)\n",
    "\n",
    "# Evaluate accuracy\n",
    "acc_score = accuracy_score(y_test, prediction)\n",
    "print(f\"Accuracy on Test Set: {acc_score}\")\n"
   ]
  },
  {
   "cell_type": "code",
   "execution_count": 8,
   "metadata": {},
   "outputs": [
    {
     "name": "stdout",
     "output_type": "stream",
     "text": [
      "Model saved as 'Random_forest.joblib'.\n",
      "Model loaded successfully.\n"
     ]
    }
   ],
   "source": [
    "# Save the model\n",
    "joblib.dump(best_model, 'Random_forest.joblib')\n",
    "print(\"Model saved as 'Random_forest.joblib'.\")\n",
    "\n",
    "# Load the model\n",
    "model = joblib.load('Random_forest.joblib')\n",
    "print(\"Model loaded successfully.\")\n"
   ]
  },
  {
   "cell_type": "code",
   "execution_count": 9,
   "metadata": {},
   "outputs": [
    {
     "name": "stdout",
     "output_type": "stream",
     "text": [
      "Prediction for new data: 1\n"
     ]
    }
   ],
   "source": [
    "# Predict with new data\n",
    "new_data = [[29.0, 32.0, 10.0, 1, 0.0, 0, 60.0, 0, 0.0, 0.0, 0.0, \n",
    "             1.0, -1.0684422957824236, 0.4608239854737111, 0.18642692922290538, \n",
    "             -0.35369893417798676, -0.057252251562758275, -0.12196223718457576, \n",
    "             0.003853627562193318, 0.7764769793931923, -0.05051009021640369, \n",
    "             0.13568970638338268]]\n",
    "\n",
    "prediction = best_model.predict(new_data)\n",
    "print(f\"Prediction for new data: {prediction[0]}\")\n"
   ]
  }
 ],
 "metadata": {
  "kernelspec": {
   "display_name": "Python 3",
   "language": "python",
   "name": "python3"
  },
  "language_info": {
   "codemirror_mode": {
    "name": "ipython",
    "version": 3
   },
   "file_extension": ".py",
   "mimetype": "text/x-python",
   "name": "python",
   "nbconvert_exporter": "python",
   "pygments_lexer": "ipython3",
   "version": "3.12.1"
  }
 },
 "nbformat": 4,
 "nbformat_minor": 2
}
