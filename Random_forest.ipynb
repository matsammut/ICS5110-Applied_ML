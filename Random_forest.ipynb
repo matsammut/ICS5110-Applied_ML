{
 "cells": [
  {
   "cell_type": "code",
   "execution_count": 1,
   "metadata": {},
   "outputs": [],
   "source": [
    "\n",
    "import random\n",
    "import numpy as np\n",
    "import pandas as pd\n",
    "from sklearn.ensemble import RandomForestClassifier\n",
    "from sklearn.model_selection import train_test_split\n",
    "from sklearn.metrics import accuracy_score\n",
    "from sklearn.preprocessing import QuantileTransformer\n",
    "import pickle\n",
    "import joblib\n",
    "import warnings\n",
    "\n",
    "warnings.filterwarnings(\"ignore\")\n",
    "\n",
    "# Set global random seeds for reproducibility\n",
    "SEED = 42\n",
    "random.seed(SEED)\n",
    "\n",
    "np.random.seed(SEED)\n",
    "quantile_transform = QuantileTransformer(output_distribution='normal', random_state=SEED)\n",
    "\n"
   ]
  },
  {
   "cell_type": "code",
   "execution_count": 2,
   "metadata": {},
   "outputs": [],
   "source": [
    "def Rescaling_experiments(data, numeric_cols):\n",
    "    \n",
    "    data[numeric_cols] =quantile_transform.fit_transform(data[numeric_cols])\n",
    "\n",
    "    # Save the fitted QuantileTransformer\n",
    "    joblib.dump(quantile_transform, 'quantile_transform.joblib')\n",
    "\n",
    "    print(\"QuantileTransformer saved successfully.\")\n",
    "\n",
    "    return data,quantile_transform"
   ]
  },
  {
   "cell_type": "code",
   "execution_count": 3,
   "metadata": {},
   "outputs": [
    {
     "name": "stdout",
     "output_type": "stream",
     "text": [
      "    age  educational-num  gender  capital-gain  capital-loss  hours-per-week  \\\n",
      "0  25.0              7.0       1           0.0             0            40.0   \n",
      "\n",
      "   native-country  income  race_Amer-Indian-Eskimo  race_Asian-Pac-Islander  \\\n",
      "0               1       0                      0.0                      0.0   \n",
      "\n",
      "   ...  pca_component_1  pca_component_2  pca_component_3  pca_component_4  \\\n",
      "0  ...         0.376345          0.05599        -0.039835        -0.044926   \n",
      "\n",
      "   pca_component_5  pca_component_6  pca_component_7  pca_component_8  \\\n",
      "0        -0.038786         0.003345          0.68041        -0.488017   \n",
      "\n",
      "   pca_component_9  pca_component_10  \n",
      "0        -0.429933          0.098483  \n",
      "\n",
      "[1 rows x 23 columns]\n",
      "QuantileTransformer saved successfully.\n",
      "Data processed and split into training and testing \n"
     ]
    }
   ],
   "source": [
    "data = pd.read_csv('dataset.csv')\n",
    "\n",
    "\n",
    "with open('scaler.pkl', 'rb') as file:\n",
    "    scaler = pickle.load(file)\n",
    "data[['age', 'educational-num', 'hours-per-week']] = np.round(scaler.inverse_transform(data[['age', 'educational-num', 'hours-per-week']]))\n",
    "#print(data.head())\n",
    "print(data.head(1))\n",
    "# Specify numeric columns for scaling\n",
    "numeric_cols = ['age', 'educational-num', 'hours-per-week']\n",
    "\n",
    "# Apply rescaling (using QuantileTransformer Normal in this example)\n",
    "\n",
    "#print(data.head())\n",
    "processed_data,quantile_transform = Rescaling_experiments(data.copy(), numeric_cols)\n",
    "\n",
    "# Split features and target\n",
    "x = processed_data.drop(columns=['income'])\n",
    "y = processed_data['income']\n",
    "#print(x.head())\n",
    "# Train-test split\n",
    "\n",
    "X_train, X_test, y_train, y_test = train_test_split(x, y, test_size=0.3, random_state=SEED)\n",
    "\n",
    "print(\"Data processed and split into training and testing \")"
   ]
  },
  {
   "cell_type": "code",
   "execution_count": 4,
   "metadata": {},
   "outputs": [
    {
     "name": "stdout",
     "output_type": "stream",
     "text": [
      "Model trained successfully.\n"
     ]
    }
   ],
   "source": [
    "# Define RandomForestClassifier with best parameters\n",
    "DTC=RandomForestClassifier\n",
    "best_model = DTC(\n",
    "    n_estimators=150,         # Number of trees in the forest\n",
    "    criterion='gini',       # Split quality: 'entropy' for information gain\n",
    "    max_depth=13,              # Maximum depth of each tree\n",
    "    min_samples_split=4,      # Minimum number of samples required to split an internal node\n",
    "    min_samples_leaf=2,        # Minimum number of samples required to be at a leaf node\n",
    "    max_features='sqrt',       # Number of features to consider for splitting at each node ('sqrt' = square root of features)\n",
    "    bootstrap=True,            # Whether bootstrap samples are used when building trees\n",
    "    ccp_alpha=0.0,             # Complexity parameter for pruning (0.0 = no pruning)\n",
    "    class_weight=None       # Weights associated with classes (None = all classes are weighted equally)\n",
    "                # Seed for reproducibility\n",
    ")\n",
    "\n",
    "\n",
    "best_model.fit(X_train,y_train)\n",
    "print(\"Model trained successfully.\")\n"
   ]
  },
  {
   "cell_type": "code",
   "execution_count": 5,
   "metadata": {},
   "outputs": [
    {
     "name": "stdout",
     "output_type": "stream",
     "text": [
      "[0 0 1 ... 0 0 0]\n",
      "Accuracy on Test Set: 0.847062035078141\n"
     ]
    }
   ],
   "source": [
    "# Predict test set\n",
    "prediction = best_model.predict(X_test)\n",
    "print(prediction)\n",
    "# Evaluate accuracy\n",
    "acc_score = accuracy_score(y_test, prediction)\n",
    "print(f\"Accuracy on Test Set: {acc_score}\")\n"
   ]
  },
  {
   "cell_type": "code",
   "execution_count": 6,
   "metadata": {},
   "outputs": [
    {
     "name": "stdout",
     "output_type": "stream",
     "text": [
      "Model saved as 'Random_forest.joblib'.\n",
      "Model loaded successfully.\n"
     ]
    }
   ],
   "source": [
    "# Save the model\n",
    "joblib.dump(best_model, 'Random_forest.joblib')\n",
    "print(\"Model saved as 'Random_forest.joblib'.\")\n",
    "\n",
    "# Load the model\n",
    "model = joblib.load('Random_forest.joblib')\n",
    "print(\"Model loaded successfully.\")\n"
   ]
  },
  {
   "cell_type": "code",
   "execution_count": 9,
   "metadata": {},
   "outputs": [
    {
     "name": "stdout",
     "output_type": "stream",
     "text": [
      "Model and QuantileTransformer loaded successfully.\n",
      "New data after scaling:\n",
      "Prediction for new data: 1\n"
     ]
    }
   ],
   "source": [
    "# Load model and transformer\n",
    "model = joblib.load('Random_forest.joblib')\n",
    "quantile_transform = joblib.load('quantile_transform.joblib')\n",
    "\n",
    "print(\"Model and QuantileTransformer loaded successfully.\")\n",
    "\n",
    "# Define new data\n",
    "new_data = [[\n",
    "    10.0, 7.0, 1, 100.0, 0, 40.0, 1, 0.0, 0.0, 1.0, 0.0, 0.0, \n",
    "    0.3758855297799032, 0.05869566078343598, -0.036472425974281894, \n",
    "    -0.044404460532722775, -0.03831725383596621, 0.004434248190865603, \n",
    "    0.6667730285930741, -0.5058580616247472, -0.42944474786818143, \n",
    "    0.10518273928865046\n",
    "]]\n",
    "\n",
    "# Define column names\n",
    "columns = [\n",
    "    \"age\", \"educational-num\", \"gender\", \"capital-gain\", \"capital-loss\", \n",
    "    \"hours-per-week\", \"native-country\", \"race_Amer-Indian-Eskimo\", \n",
    "    \"race_Asian-Pac-Islander\", \"race_Black\", \"race_Other\", \"race_White\", \n",
    "    \"pca_component_1\", \"pca_component_2\", \"pca_component_3\", \n",
    "    \"pca_component_4\", \"pca_component_5\", \"pca_component_6\", \n",
    "    \"pca_component_7\", \"pca_component_8\", \"pca_component_9\", \n",
    "    \"pca_component_10\"\n",
    "]\n",
    "\n",
    "# Convert to DataFrame\n",
    "new_data_df = pd.DataFrame(new_data, columns=columns)\n",
    "\n",
    "# Apply the saved QuantileTransformer\n",
    "numeric_cols = ['age', 'educational-num', 'hours-per-week']\n",
    "new_data_df[numeric_cols] = quantile_transform.transform(new_data_df[numeric_cols])\n",
    "\n",
    "print(\"New data after scaling:\")\n",
    "\n",
    "# Use processed_data instead of new_data_df\n",
    "prediction = model.predict(new_data_df)\n",
    "print(f\"Prediction for new data: {prediction[0]}\")"
   ]
  }
 ],
 "metadata": {
  "kernelspec": {
   "display_name": "Python 3",
   "language": "python",
   "name": "python3"
  },
  "language_info": {
   "codemirror_mode": {
    "name": "ipython",
    "version": 3
   },
   "file_extension": ".py",
   "mimetype": "text/x-python",
   "name": "python",
   "nbconvert_exporter": "python",
   "pygments_lexer": "ipython3",
   "version": "3.12.1"
  }
 },
 "nbformat": 4,
 "nbformat_minor": 2
}
